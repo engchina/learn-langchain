{
 "cells": [
  {
   "cell_type": "code",
   "execution_count": 1,
   "id": "initial_id",
   "metadata": {
    "collapsed": true,
    "ExecuteTime": {
     "end_time": "2024-01-28T00:50:34.863183400Z",
     "start_time": "2024-01-28T00:50:34.842891Z"
    }
   },
   "outputs": [],
   "source": [
    "from dotenv import load_dotenv, find_dotenv\n",
    "\n",
    "# read local .env file\n",
    "# find_dotenv 函数通常用于搜索和定位目录树中的 .env 文件，而 load_dotenv 函数用于将 .env 文件中的变量加载到环境中。\n",
    "_ = load_dotenv(find_dotenv())"
   ]
  },
  {
   "cell_type": "code",
   "execution_count": 2,
   "outputs": [],
   "source": [
    "from langchain_openai import ChatOpenAI\n",
    "\n",
    "llm = ChatOpenAI(model_name=\"gpt-3.5-turbo\", temperature=0.3)"
   ],
   "metadata": {
    "collapsed": false,
    "ExecuteTime": {
     "end_time": "2024-01-28T00:50:36.631506500Z",
     "start_time": "2024-01-28T00:50:35.714908Z"
    }
   },
   "id": "e16d712d7b054097"
  },
  {
   "cell_type": "code",
   "execution_count": 3,
   "outputs": [],
   "source": [
    "from langchain.prompts import PromptTemplate, ChatPromptTemplate, HumanMessagePromptTemplate\n",
    "from langchain.output_parsers import PydanticOutputParser, OutputFixingParser, RetryOutputParser\n",
    "from pydantic import BaseModel, Field, field_validator\n",
    "from typing import List\n",
    " "
   ],
   "metadata": {
    "collapsed": false,
    "ExecuteTime": {
     "end_time": "2024-01-28T00:50:37.214689600Z",
     "start_time": "2024-01-28T00:50:37.118543300Z"
    }
   },
   "id": "a460a5291c81e39c"
  },
  {
   "cell_type": "code",
   "execution_count": 4,
   "outputs": [],
   "source": [
    "\"\"\"\n",
    "在某些情况下，只查看输出就可以修复任何解析错误，但在其他情况下则不行。例如，当输出不仅格式不正确，而且部分不完整时，就是这种情况。\n",
    "\"\"\"\n",
    "template = \"\"\"Based on the user question, provide an Action and Action Input for what step should be taken.\n",
    "{format_instructions}\n",
    "Question: {query}\n",
    "Response:\"\"\"\n",
    "class Action(BaseModel):\n",
    "    action: str = Field(description=\"action to take\")\n",
    "    action_input: str = Field(description=\"input to the action\")\n",
    " \n",
    "parser = PydanticOutputParser(pydantic_object=Action)\n",
    " "
   ],
   "metadata": {
    "collapsed": false,
    "ExecuteTime": {
     "end_time": "2024-01-28T00:50:44.947536900Z",
     "start_time": "2024-01-28T00:50:44.930376200Z"
    }
   },
   "id": "ee437392cc0c1e73"
  },
  {
   "cell_type": "code",
   "execution_count": 5,
   "outputs": [],
   "source": [
    "prompt = PromptTemplate(\n",
    "    template=\"Answer the user query.\\n{format_instructions}\\n{query}\\n\",\n",
    "    input_variables=[\"query\"],\n",
    "    partial_variables={\"format_instructions\": parser.get_format_instructions()}\n",
    ")\n",
    " "
   ],
   "metadata": {
    "collapsed": false,
    "ExecuteTime": {
     "end_time": "2024-01-28T00:50:45.988147Z",
     "start_time": "2024-01-28T00:50:45.975571700Z"
    }
   },
   "id": "f4312ee7aaaf4a70"
  },
  {
   "cell_type": "code",
   "execution_count": 6,
   "outputs": [],
   "source": [
    "prompt_value = prompt.format_prompt(query=\"who is leo di caprios gf?\")\n",
    " "
   ],
   "metadata": {
    "collapsed": false,
    "ExecuteTime": {
     "end_time": "2024-01-28T00:50:46.779462800Z",
     "start_time": "2024-01-28T00:50:46.769463300Z"
    }
   },
   "id": "f1e13a88082e6a5a"
  },
  {
   "cell_type": "code",
   "execution_count": 7,
   "outputs": [],
   "source": [
    "bad_response = '{\"action\": \"search\"}'\n",
    " "
   ],
   "metadata": {
    "collapsed": false,
    "ExecuteTime": {
     "end_time": "2024-01-28T00:50:50.061118600Z",
     "start_time": "2024-01-28T00:50:50.036118800Z"
    }
   },
   "id": "593baa3fcf48380d"
  },
  {
   "cell_type": "code",
   "execution_count": 8,
   "outputs": [
    {
     "ename": "ValidationError",
     "evalue": "1 validation error for Action\naction_input\n  Field required [type=missing, input_value={'action': 'search'}, input_type=dict]\n    For further information visit https://errors.pydantic.dev/2.5/v/missing",
     "output_type": "error",
     "traceback": [
      "\u001B[1;31m---------------------------------------------------------------------------\u001B[0m",
      "\u001B[1;31mValidationError\u001B[0m                           Traceback (most recent call last)",
      "Cell \u001B[1;32mIn[8], line 1\u001B[0m\n\u001B[1;32m----> 1\u001B[0m \u001B[43mparser\u001B[49m\u001B[38;5;241;43m.\u001B[39;49m\u001B[43mparse\u001B[49m\u001B[43m(\u001B[49m\u001B[43mbad_response\u001B[49m\u001B[43m)\u001B[49m\n",
      "File \u001B[1;32mD:\\anaconda3\\envs\\learn-langchain\\lib\\site-packages\\langchain\\output_parsers\\pydantic.py:34\u001B[0m, in \u001B[0;36mPydanticOutputParser.parse\u001B[1;34m(self, text)\u001B[0m\n\u001B[0;32m     32\u001B[0m         json_str \u001B[38;5;241m=\u001B[39m match\u001B[38;5;241m.\u001B[39mgroup()\n\u001B[0;32m     33\u001B[0m     json_object \u001B[38;5;241m=\u001B[39m json\u001B[38;5;241m.\u001B[39mloads(json_str, strict\u001B[38;5;241m=\u001B[39m\u001B[38;5;28;01mFalse\u001B[39;00m)\n\u001B[1;32m---> 34\u001B[0m     \u001B[38;5;28;01mreturn\u001B[39;00m \u001B[38;5;28;43mself\u001B[39;49m\u001B[38;5;241;43m.\u001B[39;49m\u001B[43mpydantic_object\u001B[49m\u001B[38;5;241;43m.\u001B[39;49m\u001B[43mparse_obj\u001B[49m\u001B[43m(\u001B[49m\u001B[43mjson_object\u001B[49m\u001B[43m)\u001B[49m\n\u001B[0;32m     36\u001B[0m \u001B[38;5;28;01mexcept\u001B[39;00m (json\u001B[38;5;241m.\u001B[39mJSONDecodeError, ValidationError) \u001B[38;5;28;01mas\u001B[39;00m e:\n\u001B[0;32m     37\u001B[0m     name \u001B[38;5;241m=\u001B[39m \u001B[38;5;28mself\u001B[39m\u001B[38;5;241m.\u001B[39mpydantic_object\u001B[38;5;241m.\u001B[39m\u001B[38;5;18m__name__\u001B[39m\n",
      "File \u001B[1;32mD:\\anaconda3\\envs\\learn-langchain\\lib\\site-packages\\typing_extensions.py:2499\u001B[0m, in \u001B[0;36mdeprecated.__call__.<locals>.wrapper\u001B[1;34m(*args, **kwargs)\u001B[0m\n\u001B[0;32m   2496\u001B[0m \u001B[38;5;129m@functools\u001B[39m\u001B[38;5;241m.\u001B[39mwraps(arg)\n\u001B[0;32m   2497\u001B[0m \u001B[38;5;28;01mdef\u001B[39;00m \u001B[38;5;21mwrapper\u001B[39m(\u001B[38;5;241m*\u001B[39margs, \u001B[38;5;241m*\u001B[39m\u001B[38;5;241m*\u001B[39mkwargs):\n\u001B[0;32m   2498\u001B[0m     warnings\u001B[38;5;241m.\u001B[39mwarn(msg, category\u001B[38;5;241m=\u001B[39mcategory, stacklevel\u001B[38;5;241m=\u001B[39mstacklevel \u001B[38;5;241m+\u001B[39m \u001B[38;5;241m1\u001B[39m)\n\u001B[1;32m-> 2499\u001B[0m     \u001B[38;5;28;01mreturn\u001B[39;00m arg(\u001B[38;5;241m*\u001B[39margs, \u001B[38;5;241m*\u001B[39m\u001B[38;5;241m*\u001B[39mkwargs)\n",
      "File \u001B[1;32mD:\\anaconda3\\envs\\learn-langchain\\lib\\site-packages\\pydantic\\main.py:1027\u001B[0m, in \u001B[0;36mBaseModel.parse_obj\u001B[1;34m(cls, obj)\u001B[0m\n\u001B[0;32m   1021\u001B[0m \u001B[38;5;129m@classmethod\u001B[39m\n\u001B[0;32m   1022\u001B[0m \u001B[38;5;129m@typing_extensions\u001B[39m\u001B[38;5;241m.\u001B[39mdeprecated(\n\u001B[0;32m   1023\u001B[0m     \u001B[38;5;124m'\u001B[39m\u001B[38;5;124mThe `parse_obj` method is deprecated; use `model_validate` instead.\u001B[39m\u001B[38;5;124m'\u001B[39m, category\u001B[38;5;241m=\u001B[39mPydanticDeprecatedSince20\n\u001B[0;32m   1024\u001B[0m )\n\u001B[0;32m   1025\u001B[0m \u001B[38;5;28;01mdef\u001B[39;00m \u001B[38;5;21mparse_obj\u001B[39m(\u001B[38;5;28mcls\u001B[39m: \u001B[38;5;28mtype\u001B[39m[Model], obj: Any) \u001B[38;5;241m-\u001B[39m\u001B[38;5;241m>\u001B[39m Model:  \u001B[38;5;66;03m# noqa: D102\u001B[39;00m\n\u001B[0;32m   1026\u001B[0m     warnings\u001B[38;5;241m.\u001B[39mwarn(\u001B[38;5;124m'\u001B[39m\u001B[38;5;124mThe `parse_obj` method is deprecated; use `model_validate` instead.\u001B[39m\u001B[38;5;124m'\u001B[39m, \u001B[38;5;167;01mDeprecationWarning\u001B[39;00m)\n\u001B[1;32m-> 1027\u001B[0m     \u001B[38;5;28;01mreturn\u001B[39;00m \u001B[38;5;28;43mcls\u001B[39;49m\u001B[38;5;241;43m.\u001B[39;49m\u001B[43mmodel_validate\u001B[49m\u001B[43m(\u001B[49m\u001B[43mobj\u001B[49m\u001B[43m)\u001B[49m\n",
      "File \u001B[1;32mD:\\anaconda3\\envs\\learn-langchain\\lib\\site-packages\\pydantic\\main.py:503\u001B[0m, in \u001B[0;36mBaseModel.model_validate\u001B[1;34m(cls, obj, strict, from_attributes, context)\u001B[0m\n\u001B[0;32m    501\u001B[0m \u001B[38;5;66;03m# `__tracebackhide__` tells pytest and some other tools to omit this function from tracebacks\u001B[39;00m\n\u001B[0;32m    502\u001B[0m __tracebackhide__ \u001B[38;5;241m=\u001B[39m \u001B[38;5;28;01mTrue\u001B[39;00m\n\u001B[1;32m--> 503\u001B[0m \u001B[38;5;28;01mreturn\u001B[39;00m \u001B[38;5;28;43mcls\u001B[39;49m\u001B[38;5;241;43m.\u001B[39;49m\u001B[43m__pydantic_validator__\u001B[49m\u001B[38;5;241;43m.\u001B[39;49m\u001B[43mvalidate_python\u001B[49m\u001B[43m(\u001B[49m\n\u001B[0;32m    504\u001B[0m \u001B[43m    \u001B[49m\u001B[43mobj\u001B[49m\u001B[43m,\u001B[49m\u001B[43m \u001B[49m\u001B[43mstrict\u001B[49m\u001B[38;5;241;43m=\u001B[39;49m\u001B[43mstrict\u001B[49m\u001B[43m,\u001B[49m\u001B[43m \u001B[49m\u001B[43mfrom_attributes\u001B[49m\u001B[38;5;241;43m=\u001B[39;49m\u001B[43mfrom_attributes\u001B[49m\u001B[43m,\u001B[49m\u001B[43m \u001B[49m\u001B[43mcontext\u001B[49m\u001B[38;5;241;43m=\u001B[39;49m\u001B[43mcontext\u001B[49m\n\u001B[0;32m    505\u001B[0m \u001B[43m\u001B[49m\u001B[43m)\u001B[49m\n",
      "\u001B[1;31mValidationError\u001B[0m: 1 validation error for Action\naction_input\n  Field required [type=missing, input_value={'action': 'search'}, input_type=dict]\n    For further information visit https://errors.pydantic.dev/2.5/v/missing"
     ]
    }
   ],
   "source": [
    "parser.parse(bad_response)\n",
    " "
   ],
   "metadata": {
    "collapsed": false,
    "ExecuteTime": {
     "end_time": "2024-01-28T00:50:51.061729600Z",
     "start_time": "2024-01-28T00:50:50.649075400Z"
    }
   },
   "id": "9580f938ab6488d8"
  },
  {
   "cell_type": "code",
   "execution_count": null,
   "outputs": [],
   "source": [
    "\"\"\" output\n",
    "ValidationError: 1 validation error for Action\n",
    "action_input\n",
    "  Field required [type=missing, input_value={'action': 'search'}, input_type=dict]\n",
    "    For further information visit https://errors.pydantic.dev/2.5/v/missing\n",
    "\"\"\""
   ],
   "metadata": {
    "collapsed": false
   },
   "id": "ffa7894c3a3043a3"
  },
  {
   "cell_type": "code",
   "execution_count": 9,
   "outputs": [],
   "source": [
    "fix_parser = OutputFixingParser.from_llm(parser=parser, llm=llm)\n",
    " "
   ],
   "metadata": {
    "collapsed": false,
    "ExecuteTime": {
     "end_time": "2024-01-28T00:51:16.291354600Z",
     "start_time": "2024-01-28T00:51:15.718390500Z"
    }
   },
   "id": "691411691b7c3e69"
  },
  {
   "cell_type": "code",
   "execution_count": 10,
   "outputs": [
    {
     "ename": "ValidationError",
     "evalue": "1 validation error for Action\naction_input\n  Field required [type=missing, input_value={'action': 'search'}, input_type=dict]\n    For further information visit https://errors.pydantic.dev/2.5/v/missing",
     "output_type": "error",
     "traceback": [
      "\u001B[1;31m---------------------------------------------------------------------------\u001B[0m",
      "\u001B[1;31mValidationError\u001B[0m                           Traceback (most recent call last)",
      "Cell \u001B[1;32mIn[10], line 1\u001B[0m\n\u001B[1;32m----> 1\u001B[0m \u001B[43mfix_parser\u001B[49m\u001B[38;5;241;43m.\u001B[39;49m\u001B[43mparse\u001B[49m\u001B[43m(\u001B[49m\u001B[43mbad_response\u001B[49m\u001B[43m)\u001B[49m\n",
      "File \u001B[1;32mD:\\anaconda3\\envs\\learn-langchain\\lib\\site-packages\\langchain\\output_parsers\\fix.py:59\u001B[0m, in \u001B[0;36mOutputFixingParser.parse\u001B[1;34m(self, completion)\u001B[0m\n\u001B[0;32m     57\u001B[0m \u001B[38;5;28;01mwhile\u001B[39;00m retries \u001B[38;5;241m<\u001B[39m\u001B[38;5;241m=\u001B[39m \u001B[38;5;28mself\u001B[39m\u001B[38;5;241m.\u001B[39mmax_retries:\n\u001B[0;32m     58\u001B[0m     \u001B[38;5;28;01mtry\u001B[39;00m:\n\u001B[1;32m---> 59\u001B[0m         \u001B[38;5;28;01mreturn\u001B[39;00m \u001B[38;5;28;43mself\u001B[39;49m\u001B[38;5;241;43m.\u001B[39;49m\u001B[43mparser\u001B[49m\u001B[38;5;241;43m.\u001B[39;49m\u001B[43mparse\u001B[49m\u001B[43m(\u001B[49m\u001B[43mcompletion\u001B[49m\u001B[43m)\u001B[49m\n\u001B[0;32m     60\u001B[0m     \u001B[38;5;28;01mexcept\u001B[39;00m OutputParserException \u001B[38;5;28;01mas\u001B[39;00m e:\n\u001B[0;32m     61\u001B[0m         \u001B[38;5;28;01mif\u001B[39;00m retries \u001B[38;5;241m==\u001B[39m \u001B[38;5;28mself\u001B[39m\u001B[38;5;241m.\u001B[39mmax_retries:\n",
      "File \u001B[1;32mD:\\anaconda3\\envs\\learn-langchain\\lib\\site-packages\\langchain\\output_parsers\\pydantic.py:34\u001B[0m, in \u001B[0;36mPydanticOutputParser.parse\u001B[1;34m(self, text)\u001B[0m\n\u001B[0;32m     32\u001B[0m         json_str \u001B[38;5;241m=\u001B[39m match\u001B[38;5;241m.\u001B[39mgroup()\n\u001B[0;32m     33\u001B[0m     json_object \u001B[38;5;241m=\u001B[39m json\u001B[38;5;241m.\u001B[39mloads(json_str, strict\u001B[38;5;241m=\u001B[39m\u001B[38;5;28;01mFalse\u001B[39;00m)\n\u001B[1;32m---> 34\u001B[0m     \u001B[38;5;28;01mreturn\u001B[39;00m \u001B[38;5;28;43mself\u001B[39;49m\u001B[38;5;241;43m.\u001B[39;49m\u001B[43mpydantic_object\u001B[49m\u001B[38;5;241;43m.\u001B[39;49m\u001B[43mparse_obj\u001B[49m\u001B[43m(\u001B[49m\u001B[43mjson_object\u001B[49m\u001B[43m)\u001B[49m\n\u001B[0;32m     36\u001B[0m \u001B[38;5;28;01mexcept\u001B[39;00m (json\u001B[38;5;241m.\u001B[39mJSONDecodeError, ValidationError) \u001B[38;5;28;01mas\u001B[39;00m e:\n\u001B[0;32m     37\u001B[0m     name \u001B[38;5;241m=\u001B[39m \u001B[38;5;28mself\u001B[39m\u001B[38;5;241m.\u001B[39mpydantic_object\u001B[38;5;241m.\u001B[39m\u001B[38;5;18m__name__\u001B[39m\n",
      "File \u001B[1;32mD:\\anaconda3\\envs\\learn-langchain\\lib\\site-packages\\typing_extensions.py:2499\u001B[0m, in \u001B[0;36mdeprecated.__call__.<locals>.wrapper\u001B[1;34m(*args, **kwargs)\u001B[0m\n\u001B[0;32m   2496\u001B[0m \u001B[38;5;129m@functools\u001B[39m\u001B[38;5;241m.\u001B[39mwraps(arg)\n\u001B[0;32m   2497\u001B[0m \u001B[38;5;28;01mdef\u001B[39;00m \u001B[38;5;21mwrapper\u001B[39m(\u001B[38;5;241m*\u001B[39margs, \u001B[38;5;241m*\u001B[39m\u001B[38;5;241m*\u001B[39mkwargs):\n\u001B[0;32m   2498\u001B[0m     warnings\u001B[38;5;241m.\u001B[39mwarn(msg, category\u001B[38;5;241m=\u001B[39mcategory, stacklevel\u001B[38;5;241m=\u001B[39mstacklevel \u001B[38;5;241m+\u001B[39m \u001B[38;5;241m1\u001B[39m)\n\u001B[1;32m-> 2499\u001B[0m     \u001B[38;5;28;01mreturn\u001B[39;00m arg(\u001B[38;5;241m*\u001B[39margs, \u001B[38;5;241m*\u001B[39m\u001B[38;5;241m*\u001B[39mkwargs)\n",
      "File \u001B[1;32mD:\\anaconda3\\envs\\learn-langchain\\lib\\site-packages\\pydantic\\main.py:1027\u001B[0m, in \u001B[0;36mBaseModel.parse_obj\u001B[1;34m(cls, obj)\u001B[0m\n\u001B[0;32m   1021\u001B[0m \u001B[38;5;129m@classmethod\u001B[39m\n\u001B[0;32m   1022\u001B[0m \u001B[38;5;129m@typing_extensions\u001B[39m\u001B[38;5;241m.\u001B[39mdeprecated(\n\u001B[0;32m   1023\u001B[0m     \u001B[38;5;124m'\u001B[39m\u001B[38;5;124mThe `parse_obj` method is deprecated; use `model_validate` instead.\u001B[39m\u001B[38;5;124m'\u001B[39m, category\u001B[38;5;241m=\u001B[39mPydanticDeprecatedSince20\n\u001B[0;32m   1024\u001B[0m )\n\u001B[0;32m   1025\u001B[0m \u001B[38;5;28;01mdef\u001B[39;00m \u001B[38;5;21mparse_obj\u001B[39m(\u001B[38;5;28mcls\u001B[39m: \u001B[38;5;28mtype\u001B[39m[Model], obj: Any) \u001B[38;5;241m-\u001B[39m\u001B[38;5;241m>\u001B[39m Model:  \u001B[38;5;66;03m# noqa: D102\u001B[39;00m\n\u001B[0;32m   1026\u001B[0m     warnings\u001B[38;5;241m.\u001B[39mwarn(\u001B[38;5;124m'\u001B[39m\u001B[38;5;124mThe `parse_obj` method is deprecated; use `model_validate` instead.\u001B[39m\u001B[38;5;124m'\u001B[39m, \u001B[38;5;167;01mDeprecationWarning\u001B[39;00m)\n\u001B[1;32m-> 1027\u001B[0m     \u001B[38;5;28;01mreturn\u001B[39;00m \u001B[38;5;28;43mcls\u001B[39;49m\u001B[38;5;241;43m.\u001B[39;49m\u001B[43mmodel_validate\u001B[49m\u001B[43m(\u001B[49m\u001B[43mobj\u001B[49m\u001B[43m)\u001B[49m\n",
      "File \u001B[1;32mD:\\anaconda3\\envs\\learn-langchain\\lib\\site-packages\\pydantic\\main.py:503\u001B[0m, in \u001B[0;36mBaseModel.model_validate\u001B[1;34m(cls, obj, strict, from_attributes, context)\u001B[0m\n\u001B[0;32m    501\u001B[0m \u001B[38;5;66;03m# `__tracebackhide__` tells pytest and some other tools to omit this function from tracebacks\u001B[39;00m\n\u001B[0;32m    502\u001B[0m __tracebackhide__ \u001B[38;5;241m=\u001B[39m \u001B[38;5;28;01mTrue\u001B[39;00m\n\u001B[1;32m--> 503\u001B[0m \u001B[38;5;28;01mreturn\u001B[39;00m \u001B[38;5;28;43mcls\u001B[39;49m\u001B[38;5;241;43m.\u001B[39;49m\u001B[43m__pydantic_validator__\u001B[49m\u001B[38;5;241;43m.\u001B[39;49m\u001B[43mvalidate_python\u001B[49m\u001B[43m(\u001B[49m\n\u001B[0;32m    504\u001B[0m \u001B[43m    \u001B[49m\u001B[43mobj\u001B[49m\u001B[43m,\u001B[49m\u001B[43m \u001B[49m\u001B[43mstrict\u001B[49m\u001B[38;5;241;43m=\u001B[39;49m\u001B[43mstrict\u001B[49m\u001B[43m,\u001B[49m\u001B[43m \u001B[49m\u001B[43mfrom_attributes\u001B[49m\u001B[38;5;241;43m=\u001B[39;49m\u001B[43mfrom_attributes\u001B[49m\u001B[43m,\u001B[49m\u001B[43m \u001B[49m\u001B[43mcontext\u001B[49m\u001B[38;5;241;43m=\u001B[39;49m\u001B[43mcontext\u001B[49m\n\u001B[0;32m    505\u001B[0m \u001B[43m\u001B[49m\u001B[43m)\u001B[49m\n",
      "\u001B[1;31mValidationError\u001B[0m: 1 validation error for Action\naction_input\n  Field required [type=missing, input_value={'action': 'search'}, input_type=dict]\n    For further information visit https://errors.pydantic.dev/2.5/v/missing"
     ]
    }
   ],
   "source": [
    "fix_parser.parse(bad_response)\n",
    " "
   ],
   "metadata": {
    "collapsed": false,
    "ExecuteTime": {
     "end_time": "2024-01-28T00:51:17.456525700Z",
     "start_time": "2024-01-28T00:51:17.310180500Z"
    }
   },
   "id": "caf0f44136f11716"
  },
  {
   "cell_type": "code",
   "execution_count": null,
   "outputs": [],
   "source": [
    "\"\"\" output\n",
    "ValidationError: 1 validation error for Action\n",
    "action_input\n",
    "  Field required [type=missing, input_value={'action': 'search'}, input_type=dict]\n",
    "    For further information visit https://errors.pydantic.dev/2.5/v/missing\n",
    "\"\"\""
   ],
   "metadata": {
    "collapsed": false
   },
   "id": "e5914ad91dcf7108"
  },
  {
   "cell_type": "code",
   "execution_count": 11,
   "outputs": [],
   "source": [
    "from langchain.output_parsers import RetryWithErrorOutputParser\n",
    " "
   ],
   "metadata": {
    "collapsed": false,
    "ExecuteTime": {
     "end_time": "2024-01-28T00:51:48.407170800Z",
     "start_time": "2024-01-28T00:51:48.390682Z"
    }
   },
   "id": "ab99ac0c056eeb2"
  },
  {
   "cell_type": "code",
   "execution_count": 12,
   "outputs": [],
   "source": [
    "retry_parser = RetryWithErrorOutputParser.from_llm(parser=parser, llm=llm)\n",
    " "
   ],
   "metadata": {
    "collapsed": false,
    "ExecuteTime": {
     "end_time": "2024-01-28T00:51:49.221314700Z",
     "start_time": "2024-01-28T00:51:49.213397800Z"
    }
   },
   "id": "1c956f6e45971340"
  },
  {
   "cell_type": "code",
   "execution_count": 13,
   "outputs": [
    {
     "ename": "ValidationError",
     "evalue": "1 validation error for Action\naction_input\n  Field required [type=missing, input_value={'action': 'search'}, input_type=dict]\n    For further information visit https://errors.pydantic.dev/2.5/v/missing",
     "output_type": "error",
     "traceback": [
      "\u001B[1;31m---------------------------------------------------------------------------\u001B[0m",
      "\u001B[1;31mValidationError\u001B[0m                           Traceback (most recent call last)",
      "Cell \u001B[1;32mIn[13], line 1\u001B[0m\n\u001B[1;32m----> 1\u001B[0m \u001B[43mretry_parser\u001B[49m\u001B[38;5;241;43m.\u001B[39;49m\u001B[43mparse_with_prompt\u001B[49m\u001B[43m(\u001B[49m\u001B[43mbad_response\u001B[49m\u001B[43m,\u001B[49m\u001B[43m \u001B[49m\u001B[43mprompt_value\u001B[49m\u001B[43m)\u001B[49m\n",
      "File \u001B[1;32mD:\\anaconda3\\envs\\learn-langchain\\lib\\site-packages\\langchain\\output_parsers\\retry.py:187\u001B[0m, in \u001B[0;36mRetryWithErrorOutputParser.parse_with_prompt\u001B[1;34m(self, completion, prompt_value)\u001B[0m\n\u001B[0;32m    185\u001B[0m \u001B[38;5;28;01mwhile\u001B[39;00m retries \u001B[38;5;241m<\u001B[39m\u001B[38;5;241m=\u001B[39m \u001B[38;5;28mself\u001B[39m\u001B[38;5;241m.\u001B[39mmax_retries:\n\u001B[0;32m    186\u001B[0m     \u001B[38;5;28;01mtry\u001B[39;00m:\n\u001B[1;32m--> 187\u001B[0m         \u001B[38;5;28;01mreturn\u001B[39;00m \u001B[38;5;28;43mself\u001B[39;49m\u001B[38;5;241;43m.\u001B[39;49m\u001B[43mparser\u001B[49m\u001B[38;5;241;43m.\u001B[39;49m\u001B[43mparse\u001B[49m\u001B[43m(\u001B[49m\u001B[43mcompletion\u001B[49m\u001B[43m)\u001B[49m\n\u001B[0;32m    188\u001B[0m     \u001B[38;5;28;01mexcept\u001B[39;00m OutputParserException \u001B[38;5;28;01mas\u001B[39;00m e:\n\u001B[0;32m    189\u001B[0m         \u001B[38;5;28;01mif\u001B[39;00m retries \u001B[38;5;241m==\u001B[39m \u001B[38;5;28mself\u001B[39m\u001B[38;5;241m.\u001B[39mmax_retries:\n",
      "File \u001B[1;32mD:\\anaconda3\\envs\\learn-langchain\\lib\\site-packages\\langchain\\output_parsers\\pydantic.py:34\u001B[0m, in \u001B[0;36mPydanticOutputParser.parse\u001B[1;34m(self, text)\u001B[0m\n\u001B[0;32m     32\u001B[0m         json_str \u001B[38;5;241m=\u001B[39m match\u001B[38;5;241m.\u001B[39mgroup()\n\u001B[0;32m     33\u001B[0m     json_object \u001B[38;5;241m=\u001B[39m json\u001B[38;5;241m.\u001B[39mloads(json_str, strict\u001B[38;5;241m=\u001B[39m\u001B[38;5;28;01mFalse\u001B[39;00m)\n\u001B[1;32m---> 34\u001B[0m     \u001B[38;5;28;01mreturn\u001B[39;00m \u001B[38;5;28;43mself\u001B[39;49m\u001B[38;5;241;43m.\u001B[39;49m\u001B[43mpydantic_object\u001B[49m\u001B[38;5;241;43m.\u001B[39;49m\u001B[43mparse_obj\u001B[49m\u001B[43m(\u001B[49m\u001B[43mjson_object\u001B[49m\u001B[43m)\u001B[49m\n\u001B[0;32m     36\u001B[0m \u001B[38;5;28;01mexcept\u001B[39;00m (json\u001B[38;5;241m.\u001B[39mJSONDecodeError, ValidationError) \u001B[38;5;28;01mas\u001B[39;00m e:\n\u001B[0;32m     37\u001B[0m     name \u001B[38;5;241m=\u001B[39m \u001B[38;5;28mself\u001B[39m\u001B[38;5;241m.\u001B[39mpydantic_object\u001B[38;5;241m.\u001B[39m\u001B[38;5;18m__name__\u001B[39m\n",
      "File \u001B[1;32mD:\\anaconda3\\envs\\learn-langchain\\lib\\site-packages\\typing_extensions.py:2499\u001B[0m, in \u001B[0;36mdeprecated.__call__.<locals>.wrapper\u001B[1;34m(*args, **kwargs)\u001B[0m\n\u001B[0;32m   2496\u001B[0m \u001B[38;5;129m@functools\u001B[39m\u001B[38;5;241m.\u001B[39mwraps(arg)\n\u001B[0;32m   2497\u001B[0m \u001B[38;5;28;01mdef\u001B[39;00m \u001B[38;5;21mwrapper\u001B[39m(\u001B[38;5;241m*\u001B[39margs, \u001B[38;5;241m*\u001B[39m\u001B[38;5;241m*\u001B[39mkwargs):\n\u001B[0;32m   2498\u001B[0m     warnings\u001B[38;5;241m.\u001B[39mwarn(msg, category\u001B[38;5;241m=\u001B[39mcategory, stacklevel\u001B[38;5;241m=\u001B[39mstacklevel \u001B[38;5;241m+\u001B[39m \u001B[38;5;241m1\u001B[39m)\n\u001B[1;32m-> 2499\u001B[0m     \u001B[38;5;28;01mreturn\u001B[39;00m arg(\u001B[38;5;241m*\u001B[39margs, \u001B[38;5;241m*\u001B[39m\u001B[38;5;241m*\u001B[39mkwargs)\n",
      "File \u001B[1;32mD:\\anaconda3\\envs\\learn-langchain\\lib\\site-packages\\pydantic\\main.py:1027\u001B[0m, in \u001B[0;36mBaseModel.parse_obj\u001B[1;34m(cls, obj)\u001B[0m\n\u001B[0;32m   1021\u001B[0m \u001B[38;5;129m@classmethod\u001B[39m\n\u001B[0;32m   1022\u001B[0m \u001B[38;5;129m@typing_extensions\u001B[39m\u001B[38;5;241m.\u001B[39mdeprecated(\n\u001B[0;32m   1023\u001B[0m     \u001B[38;5;124m'\u001B[39m\u001B[38;5;124mThe `parse_obj` method is deprecated; use `model_validate` instead.\u001B[39m\u001B[38;5;124m'\u001B[39m, category\u001B[38;5;241m=\u001B[39mPydanticDeprecatedSince20\n\u001B[0;32m   1024\u001B[0m )\n\u001B[0;32m   1025\u001B[0m \u001B[38;5;28;01mdef\u001B[39;00m \u001B[38;5;21mparse_obj\u001B[39m(\u001B[38;5;28mcls\u001B[39m: \u001B[38;5;28mtype\u001B[39m[Model], obj: Any) \u001B[38;5;241m-\u001B[39m\u001B[38;5;241m>\u001B[39m Model:  \u001B[38;5;66;03m# noqa: D102\u001B[39;00m\n\u001B[0;32m   1026\u001B[0m     warnings\u001B[38;5;241m.\u001B[39mwarn(\u001B[38;5;124m'\u001B[39m\u001B[38;5;124mThe `parse_obj` method is deprecated; use `model_validate` instead.\u001B[39m\u001B[38;5;124m'\u001B[39m, \u001B[38;5;167;01mDeprecationWarning\u001B[39;00m)\n\u001B[1;32m-> 1027\u001B[0m     \u001B[38;5;28;01mreturn\u001B[39;00m \u001B[38;5;28;43mcls\u001B[39;49m\u001B[38;5;241;43m.\u001B[39;49m\u001B[43mmodel_validate\u001B[49m\u001B[43m(\u001B[49m\u001B[43mobj\u001B[49m\u001B[43m)\u001B[49m\n",
      "File \u001B[1;32mD:\\anaconda3\\envs\\learn-langchain\\lib\\site-packages\\pydantic\\main.py:503\u001B[0m, in \u001B[0;36mBaseModel.model_validate\u001B[1;34m(cls, obj, strict, from_attributes, context)\u001B[0m\n\u001B[0;32m    501\u001B[0m \u001B[38;5;66;03m# `__tracebackhide__` tells pytest and some other tools to omit this function from tracebacks\u001B[39;00m\n\u001B[0;32m    502\u001B[0m __tracebackhide__ \u001B[38;5;241m=\u001B[39m \u001B[38;5;28;01mTrue\u001B[39;00m\n\u001B[1;32m--> 503\u001B[0m \u001B[38;5;28;01mreturn\u001B[39;00m \u001B[38;5;28;43mcls\u001B[39;49m\u001B[38;5;241;43m.\u001B[39;49m\u001B[43m__pydantic_validator__\u001B[49m\u001B[38;5;241;43m.\u001B[39;49m\u001B[43mvalidate_python\u001B[49m\u001B[43m(\u001B[49m\n\u001B[0;32m    504\u001B[0m \u001B[43m    \u001B[49m\u001B[43mobj\u001B[49m\u001B[43m,\u001B[49m\u001B[43m \u001B[49m\u001B[43mstrict\u001B[49m\u001B[38;5;241;43m=\u001B[39;49m\u001B[43mstrict\u001B[49m\u001B[43m,\u001B[49m\u001B[43m \u001B[49m\u001B[43mfrom_attributes\u001B[49m\u001B[38;5;241;43m=\u001B[39;49m\u001B[43mfrom_attributes\u001B[49m\u001B[43m,\u001B[49m\u001B[43m \u001B[49m\u001B[43mcontext\u001B[49m\u001B[38;5;241;43m=\u001B[39;49m\u001B[43mcontext\u001B[49m\n\u001B[0;32m    505\u001B[0m \u001B[43m\u001B[49m\u001B[43m)\u001B[49m\n",
      "\u001B[1;31mValidationError\u001B[0m: 1 validation error for Action\naction_input\n  Field required [type=missing, input_value={'action': 'search'}, input_type=dict]\n    For further information visit https://errors.pydantic.dev/2.5/v/missing"
     ]
    }
   ],
   "source": [
    "retry_parser.parse_with_prompt(bad_response, prompt_value)\n",
    " "
   ],
   "metadata": {
    "collapsed": false,
    "ExecuteTime": {
     "end_time": "2024-01-28T00:51:50.882174800Z",
     "start_time": "2024-01-28T00:51:50.833693100Z"
    }
   },
   "id": "d6620ceb170042e9"
  },
  {
   "cell_type": "code",
   "execution_count": null,
   "outputs": [],
   "source": [
    "\"\"\" expected output\n",
    "Action(action='search', action_input='leo di caprio girlfriend')\n",
    "\"\"\""
   ],
   "metadata": {
    "collapsed": false
   },
   "id": "eb55dc9f0ea7bea7"
  }
 ],
 "metadata": {
  "kernelspec": {
   "display_name": "Python 3",
   "language": "python",
   "name": "python3"
  },
  "language_info": {
   "codemirror_mode": {
    "name": "ipython",
    "version": 2
   },
   "file_extension": ".py",
   "mimetype": "text/x-python",
   "name": "python",
   "nbconvert_exporter": "python",
   "pygments_lexer": "ipython2",
   "version": "2.7.6"
  }
 },
 "nbformat": 4,
 "nbformat_minor": 5
}
