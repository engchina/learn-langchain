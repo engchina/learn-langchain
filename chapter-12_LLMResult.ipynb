{
 "cells": [
  {
   "cell_type": "code",
   "execution_count": 5,
   "id": "initial_id",
   "metadata": {
    "collapsed": true,
    "ExecuteTime": {
     "end_time": "2024-01-27T06:47:51.787848600Z",
     "start_time": "2024-01-27T06:47:51.491583300Z"
    }
   },
   "outputs": [],
   "source": [
    "from dotenv import load_dotenv, find_dotenv\n",
    "\n",
    "# read local .env file\n",
    "# find_dotenv 函数通常用于搜索和定位目录树中的 .env 文件，而 load_dotenv 函数用于将 .env 文件中的变量加载到环境中。\n",
    "_ = load_dotenv(find_dotenv())\n",
    "from langchain_openai import ChatOpenAI\n",
    "\n",
    "llm = ChatOpenAI(model_name=\"gpt-3.5-turbo\", temperature=0.3)"
   ]
  },
  {
   "cell_type": "code",
   "execution_count": 6,
   "outputs": [],
   "source": [
    "from langchain_core.messages import SystemMessage, HumanMessage\n",
    "\n",
    "# 可以使用generate来生成多组消息的完成，这将返回一个带有额外message参数的LLMResult。\n",
    "batch_messages = [\n",
    "    [\n",
    "        SystemMessage(content=\"You are a helpful assistant that translates English to Chinese.\"),\n",
    "        HumanMessage(content=\"I love programming.\")\n",
    "    ],\n",
    "    [\n",
    "        SystemMessage(content=\"You are a helpful assistant that translates English to Chinese.\"),\n",
    "        HumanMessage(content=\"I love artificial intelligence.\")\n",
    "    ],\n",
    "]"
   ],
   "metadata": {
    "collapsed": false,
    "ExecuteTime": {
     "end_time": "2024-01-27T06:47:52.144788800Z",
     "start_time": "2024-01-27T06:47:52.123789100Z"
    }
   },
   "id": "c615a616701b8f81"
  },
  {
   "cell_type": "code",
   "execution_count": 7,
   "outputs": [
    {
     "data": {
      "text/plain": "LLMResult(generations=[[ChatGeneration(text='我喜欢编程。', generation_info={'finish_reason': 'stop', 'logprobs': None}, message=AIMessage(content='我喜欢编程。'))], [ChatGeneration(text='我喜欢人工智能。', generation_info={'finish_reason': 'stop', 'logprobs': None}, message=AIMessage(content='我喜欢人工智能。'))]], llm_output={'token_usage': {'completion_tokens': 19, 'prompt_tokens': 53, 'total_tokens': 72}, 'model_name': 'gpt-3.5-turbo'}, run=[RunInfo(run_id=UUID('35fa0bff-09f3-4a0b-92f9-01dabf0fc40e')), RunInfo(run_id=UUID('49465a46-7b4c-4772-9939-7c20d7de675f'))])"
     },
     "execution_count": 7,
     "metadata": {},
     "output_type": "execute_result"
    }
   ],
   "source": [
    "result = llm.generate(batch_messages)\n",
    "result"
   ],
   "metadata": {
    "collapsed": false,
    "ExecuteTime": {
     "end_time": "2024-01-27T06:47:55.208416600Z",
     "start_time": "2024-01-27T06:47:53.021631800Z"
    }
   },
   "id": "a777676cd996e6a1"
  },
  {
   "cell_type": "code",
   "execution_count": null,
   "outputs": [],
   "source": [
    "\"\"\" output\n",
    "LLMResult(generations=[[ChatGeneration(text='我喜欢编程。', generation_info={'finish_reason': 'stop', 'logprobs': None}, message=AIMessage(content='我喜欢编程。'))], [ChatGeneration(text='我喜欢人工智能。', generation_info={'finish_reason': 'stop', 'logprobs': None}, message=AIMessage(content='我喜欢人工智能。'))]], llm_output={'token_usage': {'completion_tokens': 19, 'prompt_tokens': 53, 'total_tokens': 72}, 'model_name': 'gpt-3.5-turbo'}, run=[RunInfo(run_id=UUID('35fa0bff-09f3-4a0b-92f9-01dabf0fc40e')), RunInfo(run_id=UUID('49465a46-7b4c-4772-9939-7c20d7de675f'))])\n",
    "\"\"\""
   ],
   "metadata": {
    "collapsed": false
   },
   "id": "8b5b934cd82d4e5d"
  },
  {
   "cell_type": "code",
   "execution_count": 8,
   "outputs": [
    {
     "data": {
      "text/plain": "{'token_usage': {'completion_tokens': 19,\n  'prompt_tokens': 53,\n  'total_tokens': 72},\n 'model_name': 'gpt-3.5-turbo'}"
     },
     "execution_count": 8,
     "metadata": {},
     "output_type": "execute_result"
    }
   ],
   "source": [
    "# 可以从这个LLMResult中恢复诸如令牌使用情况之类的东西\n",
    "result.llm_output"
   ],
   "metadata": {
    "collapsed": false,
    "ExecuteTime": {
     "end_time": "2024-01-27T06:47:56.577593400Z",
     "start_time": "2024-01-27T06:47:56.561553800Z"
    }
   },
   "id": "c8b35bcb8dcce294"
  },
  {
   "cell_type": "code",
   "execution_count": null,
   "outputs": [],
   "source": [
    "\"\"\" output\n",
    "{'token_usage': {'completion_tokens': 19,\n",
    "  'prompt_tokens': 53,\n",
    "  'total_tokens': 72},\n",
    " 'model_name': 'gpt-3.5-turbo'}\n",
    "\"\"\""
   ],
   "metadata": {
    "collapsed": false
   },
   "id": "1a2279738e11a9a1"
  }
 ],
 "metadata": {
  "kernelspec": {
   "display_name": "Python 3",
   "language": "python",
   "name": "python3"
  },
  "language_info": {
   "codemirror_mode": {
    "name": "ipython",
    "version": 2
   },
   "file_extension": ".py",
   "mimetype": "text/x-python",
   "name": "python",
   "nbconvert_exporter": "python",
   "pygments_lexer": "ipython2",
   "version": "2.7.6"
  }
 },
 "nbformat": 4,
 "nbformat_minor": 5
}
