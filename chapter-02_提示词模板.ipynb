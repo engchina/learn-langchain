{
 "cells": [
  {
   "cell_type": "markdown",
   "id": "16aeb313-b386-49cd-ba18-af9724d40f2f",
   "metadata": {},
   "source": [
    "# 提示词模板"
   ]
  },
  {
   "cell_type": "code",
   "execution_count": 1,
   "outputs": [],
   "source": [
    "import os\n",
    "\n",
    "from dotenv import load_dotenv, find_dotenv\n",
    "\n",
    "# read local .env file\n",
    "_ = load_dotenv(find_dotenv())"
   ],
   "metadata": {
    "collapsed": false,
    "ExecuteTime": {
     "end_time": "2024-01-28T00:35:30.408101200Z",
     "start_time": "2024-01-28T00:35:30.388051Z"
    }
   },
   "id": "2bf3fa61-f48d-4ae7-b937-7a9135974a37"
  },
  {
   "cell_type": "code",
   "execution_count": 2,
   "outputs": [],
   "source": [
    "from langchain_openai import ChatOpenAI"
   ],
   "metadata": {
    "collapsed": false,
    "ExecuteTime": {
     "end_time": "2024-01-28T00:35:31.579616500Z",
     "start_time": "2024-01-28T00:35:30.968270500Z"
    }
   },
   "id": "10f96282-058e-4052-9765-54c3f4edb4ae"
  },
  {
   "cell_type": "code",
   "execution_count": 3,
   "outputs": [],
   "source": [
    "chat_openai = ChatOpenAI(api_key=os.environ['OPENAI_API_KEY'], base_url=os.environ['OPENAI_BASE_URL'],\n",
    "                         model_name=\"gpt-3.5-turbo\", temperature=0.3)"
   ],
   "metadata": {
    "collapsed": false,
    "ExecuteTime": {
     "end_time": "2024-01-28T00:35:32.353317400Z",
     "start_time": "2024-01-28T00:35:32.080215100Z"
    }
   },
   "id": "46d3894e-6a7f-470f-b58f-20eda5da2d9d"
  },
  {
   "cell_type": "code",
   "execution_count": 4,
   "id": "a79a7912-c9c5-4d06-a60d-7d62ee93eca0",
   "metadata": {
    "ExecuteTime": {
     "end_time": "2024-01-28T00:35:33.062791700Z",
     "start_time": "2024-01-28T00:35:32.985244100Z"
    }
   },
   "outputs": [],
   "source": [
    "from langchain.prompts import (\n",
    "    ChatPromptTemplate,\n",
    "    SystemMessagePromptTemplate,\n",
    "    HumanMessagePromptTemplate,\n",
    ")"
   ]
  },
  {
   "cell_type": "code",
   "execution_count": 5,
   "id": "e80f22b6-4159-476b-b48c-ebb0f18a7f32",
   "metadata": {
    "ExecuteTime": {
     "end_time": "2024-01-28T00:35:33.773168800Z",
     "start_time": "2024-01-28T00:35:33.754169600Z"
    }
   },
   "outputs": [],
   "source": [
    "system_template = \"\"\"\n",
    "将以三个反引号分隔的文本翻译为{language}。\n",
    "\"\"\"\n",
    "system_message_prompt = SystemMessagePromptTemplate.from_template(system_template)"
   ]
  },
  {
   "cell_type": "code",
   "execution_count": 6,
   "id": "b18d720a-54ed-415e-88cd-6cd33f9bda18",
   "metadata": {
    "ExecuteTime": {
     "end_time": "2024-01-28T00:35:34.470299700Z",
     "start_time": "2024-01-28T00:35:34.456877300Z"
    }
   },
   "outputs": [],
   "source": [
    "human_template = \"\"\"\n",
    "文本: ```{text}```\n",
    "\"\"\"\n",
    "human_message_prompt = HumanMessagePromptTemplate.from_template(human_template)"
   ]
  },
  {
   "cell_type": "code",
   "execution_count": 7,
   "outputs": [
    {
     "data": {
      "text/plain": "ChatPromptTemplate(input_variables=['language', 'text'], messages=[SystemMessagePromptTemplate(prompt=PromptTemplate(input_variables=['language'], template='\\n将以三个反引号分隔的文本翻译为{language}。\\n')), HumanMessagePromptTemplate(prompt=PromptTemplate(input_variables=['text'], template='\\n文本: ```{text}```\\n'))])"
     },
     "execution_count": 7,
     "metadata": {},
     "output_type": "execute_result"
    }
   ],
   "source": [
    "chat_prompt = ChatPromptTemplate.from_messages([system_message_prompt, human_message_prompt])\n",
    "chat_prompt"
   ],
   "metadata": {
    "collapsed": false,
    "ExecuteTime": {
     "end_time": "2024-01-28T00:35:35.829981700Z",
     "start_time": "2024-01-28T00:35:35.815157800Z"
    }
   },
   "id": "3ddb223503cb6a40"
  },
  {
   "cell_type": "code",
   "execution_count": null,
   "outputs": [],
   "source": [
    "\"\"\" output\n",
    "ChatPromptTemplate(input_variables=['language', 'text'], messages=[SystemMessagePromptTemplate(prompt=PromptTemplate(input_variables=['language'], template='\\n将以三个反引号分隔的文本翻译为{language}。\\n')), HumanMessagePromptTemplate(prompt=PromptTemplate(input_variables=['text'], template='\\n文本: ```{text}```\\n'))])\n",
    "\"\"\""
   ],
   "metadata": {
    "collapsed": false
   },
   "id": "5a8bb7df36f74bf4"
  },
  {
   "cell_type": "code",
   "execution_count": 8,
   "outputs": [],
   "source": [
    "customer_language = \"\"\"\n",
    "英文\n",
    "\"\"\""
   ],
   "metadata": {
    "collapsed": false,
    "ExecuteTime": {
     "end_time": "2024-01-28T00:35:55.450071600Z",
     "start_time": "2024-01-28T00:35:55.438558300Z"
    }
   },
   "id": "2de72268de3abca0"
  },
  {
   "cell_type": "code",
   "execution_count": 9,
   "outputs": [],
   "source": [
    "customer_text = \"\"\"\n",
    "我爱你\n",
    "\"\"\""
   ],
   "metadata": {
    "collapsed": false,
    "ExecuteTime": {
     "end_time": "2024-01-28T00:35:56.282519300Z",
     "start_time": "2024-01-28T00:35:56.272521300Z"
    }
   },
   "id": "fe420f2f95c68066"
  },
  {
   "cell_type": "code",
   "execution_count": 10,
   "outputs": [
    {
     "data": {
      "text/plain": "[SystemMessage(content='\\n将以三个反引号分隔的文本翻译为\\n英文\\n。\\n'),\n HumanMessage(content='\\n文本: ```\\n我爱你\\n```\\n')]"
     },
     "execution_count": 10,
     "metadata": {},
     "output_type": "execute_result"
    }
   ],
   "source": [
    "messages = chat_prompt.format_messages(language=customer_language, text=customer_text)\n",
    "messages"
   ],
   "metadata": {
    "collapsed": false,
    "ExecuteTime": {
     "end_time": "2024-01-28T00:35:57.127506400Z",
     "start_time": "2024-01-28T00:35:57.111498Z"
    }
   },
   "id": "7ccc193ed6fd5e7d"
  },
  {
   "cell_type": "code",
   "execution_count": null,
   "outputs": [],
   "source": [
    "\"\"\" output\n",
    "[SystemMessage(content='\\n将以三个反引号分隔的文本翻译为\\n英文\\n。\\n'),\n",
    " HumanMessage(content='\\n文本: ```\\n我爱你\\n```\\n')]\n",
    "\"\"\""
   ],
   "metadata": {
    "collapsed": false
   },
   "id": "92812c06666fdd21"
  },
  {
   "cell_type": "code",
   "execution_count": 11,
   "outputs": [
    {
     "data": {
      "text/plain": "AIMessage(content='Text: ```\\nI love you\\n```')"
     },
     "execution_count": 11,
     "metadata": {},
     "output_type": "execute_result"
    }
   ],
   "source": [
    "response = chat_openai.invoke(messages)\n",
    "response"
   ],
   "metadata": {
    "collapsed": false,
    "ExecuteTime": {
     "end_time": "2024-01-28T00:36:13.884297Z",
     "start_time": "2024-01-28T00:36:12.755562800Z"
    }
   },
   "id": "614bd779d4eeaf28"
  },
  {
   "cell_type": "code",
   "execution_count": null,
   "outputs": [],
   "source": [
    "\"\"\" output\n",
    "AIMessage(content='Text: ```\\nI love you\\n```')\n",
    "\"\"\""
   ],
   "metadata": {
    "collapsed": false
   },
   "id": "abffb3f413aa7120"
  },
  {
   "cell_type": "code",
   "execution_count": 15,
   "outputs": [],
   "source": [
    "# 如果您想更直接地构建MessagePromptTemplate，您可以在外部创建一个PromptTemplate，然后将其传递进去，例如：\n",
    "from langchain_core.prompts import PromptTemplate\n",
    "\n",
    "system_prompt = PromptTemplate(\n",
    "    template = \"\\n将以三个反引号分隔的文本翻译为{language}。\\n\",\n",
    "    input_variables=[\"language\"]\n",
    ")\n",
    "system_message_prompt_2 = SystemMessagePromptTemplate(prompt=system_prompt)\n",
    "assert system_message_prompt == system_message_prompt_2"
   ],
   "metadata": {
    "collapsed": false,
    "ExecuteTime": {
     "end_time": "2024-01-28T00:40:08.754781Z",
     "start_time": "2024-01-28T00:40:08.743783600Z"
    }
   },
   "id": "cad94b57e3ce7d67"
  },
  {
   "cell_type": "code",
   "execution_count": 16,
   "outputs": [
    {
     "data": {
      "text/plain": "PromptTemplate(input_variables=['api_docs', 'api_response', 'api_url', 'question'], template='You are given the below API Documentation:\\n{api_docs}\\nUsing this documentation, generate the full API url to call for answering the user question.\\nYou should build the API url in order to get a response that is as short as possible, while still getting the necessary information to answer the question. Pay attention to deliberately exclude any unnecessary pieces of data in the API call.\\n\\nQuestion:{question}\\nAPI url: {api_url}\\n\\nHere is the response from the API:\\n\\n{api_response}\\n\\nSummarize this response to answer the original question.\\n\\nSummary:')"
     },
     "execution_count": 16,
     "metadata": {},
     "output_type": "execute_result"
    }
   ],
   "source": [
    "from langchain.chains.api.prompt import API_RESPONSE_PROMPT\n",
    "\n",
    "API_RESPONSE_PROMPT"
   ],
   "metadata": {
    "collapsed": false,
    "ExecuteTime": {
     "end_time": "2024-01-28T00:40:17.739356700Z",
     "start_time": "2024-01-28T00:40:16.977242Z"
    }
   },
   "id": "d0885251-a570-4aea-9cf2-f8f910896557"
  },
  {
   "cell_type": "code",
   "execution_count": null,
   "outputs": [],
   "source": [
    "\"\"\" output\n",
    "PromptTemplate(input_variables=['api_docs', 'api_response', 'api_url', 'question'], template='You are given the below API Documentation:\\n{api_docs}\\nUsing this documentation, generate the full API url to call for answering the user question.\\nYou should build the API url in order to get a response that is as short as possible, while still getting the necessary information to answer the question. Pay attention to deliberately exclude any unnecessary pieces of data in the API call.\\n\\nQuestion:{question}\\nAPI url: {api_url}\\n\\nHere is the response from the API:\\n\\n{api_response}\\n\\nSummarize this response to answer the original question.\\n\\nSummary:')\n",
    "\"\"\""
   ],
   "metadata": {
    "collapsed": false
   },
   "id": "63096cbf316bb5b6"
  }
 ],
 "metadata": {
  "kernelspec": {
   "display_name": "Python 3 (ipykernel)",
   "language": "python",
   "name": "python3"
  },
  "language_info": {
   "codemirror_mode": {
    "name": "ipython",
    "version": 3
   },
   "file_extension": ".py",
   "mimetype": "text/x-python",
   "name": "python",
   "nbconvert_exporter": "python",
   "pygments_lexer": "ipython3",
   "version": "3.10.13"
  }
 },
 "nbformat": 4,
 "nbformat_minor": 5
}
