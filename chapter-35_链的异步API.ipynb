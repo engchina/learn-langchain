{
 "cells": [
  {
   "cell_type": "code",
   "execution_count": 1,
   "id": "initial_id",
   "metadata": {
    "collapsed": true,
    "ExecuteTime": {
     "end_time": "2024-01-28T13:09:12.120672600Z",
     "start_time": "2024-01-28T13:09:11.248723100Z"
    }
   },
   "outputs": [],
   "source": [
    "from dotenv import load_dotenv, find_dotenv\n",
    "from langchain_openai import ChatOpenAI\n",
    "\n",
    "# read local .env file\n",
    "# find_dotenv 函数通常用于搜索和定位目录树中的 .env 文件，而 load_dotenv 函数用于将 .env 文件中的变量加载到环境中。\n",
    "_ = load_dotenv(find_dotenv())\n",
    "\n",
    "llm = ChatOpenAI(model_name=\"gpt-3.5-turbo\", temperature=0.3)\n",
    "# embeddings = OpenAIEmbeddings()"
   ]
  },
  {
   "cell_type": "code",
   "execution_count": null,
   "outputs": [
    {
     "name": "stderr",
     "output_type": "stream",
     "text": [
      "D:\\Users\\thinkpad\\AppData\\Local\\Temp\\ipykernel_45560\\466335846.py:41: RuntimeWarning: coroutine 'generate_concurrently' was never awaited\n",
      "  generate_concurrently()\n",
      "RuntimeWarning: Enable tracemalloc to get the object allocation traceback\n"
     ]
    },
    {
     "name": "stdout",
     "output_type": "stream",
     "text": [
      "\u001B[1mConcurrent executed in 0.00 seconds.\u001B[0m\n",
      "{'product': 'toothpaste', 'text': '1. PureSmile\\n2. FreshDent\\n3. PearlWhite\\n4. MintGlow\\n5. SmileBright\\n6. CleanTeeth\\n7. PureMint\\n8. SparkleDent\\n9. FreshSmiles\\n10. BrightPearl\\n11. MintyFresh\\n12. PureClean\\n13. SmileGuard\\n14. FreshBreath\\n15. PearlCleanse'}\n",
      "{'product': 'toothpaste', 'text': 'PearlFresh'}\n",
      "{'product': 'toothpaste', 'text': '1. PureSmile\\n2. FreshDent\\n3. PearlWhite\\n4. MintGlow\\n5. CleanBrite\\n6. SmileSaver\\n7. DentiShine\\n8. SparkleFresh\\n9. PureDent\\n10. BrightSmiles\\n11. FreshMint\\n12. SmileGuard\\n13. PureCare\\n14. Denti'}\n",
      "{'product': 'toothpaste', 'text': 'PureSmile'}\n"
     ]
    }
   ],
   "source": [
    "\"\"\"\n",
    "LangChain通过利用asyncio库为链提供异步支持。\n",
    "\n",
    "目前LLMChain（通过arun、apredict、acall)、LLMMathChain（通过arun和acall)、ChatVectorDBChain以及QA chains支持异步方法。其他链的异步支持正在路线图中。\n",
    "\"\"\"\n",
    "import asyncio\n",
    "import time\n",
    " \n",
    "from langchain.prompts import PromptTemplate\n",
    "from langchain.chains import LLMChain\n",
    " \n",
    " \n",
    "def generate_serially():\n",
    "    prompt = PromptTemplate(\n",
    "        input_variables=[\"product\"],\n",
    "        template=\"What is a good name for a company that makes {product}?\",\n",
    "    )\n",
    "    chain = LLMChain(llm=llm, prompt=prompt)\n",
    "    for _ in range(5):\n",
    "        resp = chain.invoke(input=\"toothpaste\")\n",
    "        print(resp)\n",
    " \n",
    " \n",
    "async def async_generate(chain):\n",
    "    resp = await chain.ainvoke(input=\"toothpaste\")\n",
    "    print(resp)\n",
    " \n",
    " \n",
    "async def generate_concurrently():\n",
    "    prompt = PromptTemplate(\n",
    "        input_variables=[\"product\"],\n",
    "        template=\"What is a good name for a company that makes {product}?\",\n",
    "    )\n",
    "    chain = LLMChain(llm=llm, prompt=prompt)\n",
    "    tasks = [async_generate(chain) for _ in range(5)]\n",
    "    await asyncio.gather(*tasks)\n",
    " \n",
    "s = time.perf_counter()\n",
    "# If running this outside of Jupyter, use asyncio.run(generate_concurrently())\n",
    "await generate_concurrently()\n",
    "# generate_concurrently()\n",
    "elapsed = time.perf_counter() - s\n",
    "print('\\033[1m' + f\"Concurrent executed in {elapsed:0.2f} seconds.\" + '\\033[0m')\n",
    " \n",
    "s = time.perf_counter()\n",
    "generate_serially()\n",
    "elapsed = time.perf_counter() - s\n",
    "print('\\033[1m' + f\"Serial executed in {elapsed:0.2f} seconds.\" + '\\033[0m')\n",
    " "
   ],
   "metadata": {
    "collapsed": false,
    "ExecuteTime": {
     "start_time": "2024-01-28T13:10:10.103114300Z"
    }
   },
   "id": "9284ec00f4384b20"
  },
  {
   "cell_type": "code",
   "execution_count": null,
   "outputs": [],
   "source": [
    "\"\"\" output example\n",
    "BrightSmile Toothpaste Company\n",
    " \n",
    " \n",
    "BrightSmile Toothpaste Co.\n",
    " \n",
    " \n",
    "BrightSmile Toothpaste\n",
    " \n",
    " \n",
    "Gleaming Smile Inc.\n",
    " \n",
    " \n",
    "SparkleSmile Toothpaste\n",
    "Concurrent executed in 1.54 seconds.\n",
    " \n",
    " \n",
    "BrightSmile Toothpaste Co.\n",
    " \n",
    " \n",
    "MintyFresh Toothpaste Co.\n",
    " \n",
    " \n",
    "SparkleSmile Toothpaste.\n",
    " \n",
    " \n",
    "Pearly Whites Toothpaste Co.\n",
    " \n",
    " \n",
    "BrightSmile Toothpaste.\n",
    "Serial executed in 6.38 seconds.\n",
    "\"\"\""
   ],
   "metadata": {
    "collapsed": false
   },
   "id": "f05f22be703023b4"
  }
 ],
 "metadata": {
  "kernelspec": {
   "display_name": "Python 3",
   "language": "python",
   "name": "python3"
  },
  "language_info": {
   "codemirror_mode": {
    "name": "ipython",
    "version": 2
   },
   "file_extension": ".py",
   "mimetype": "text/x-python",
   "name": "python",
   "nbconvert_exporter": "python",
   "pygments_lexer": "ipython2",
   "version": "2.7.6"
  }
 },
 "nbformat": 4,
 "nbformat_minor": 5
}
