{
 "cells": [
  {
   "cell_type": "markdown",
   "id": "205b62bd-2e0d-409f-b3fc-ea9efd51e368",
   "metadata": {},
   "source": [
    "# 聊天模型包装器"
   ]
  },
  {
   "cell_type": "code",
   "execution_count": 1,
   "id": "2bf3fa61-f48d-4ae7-b937-7a9135974a37",
   "metadata": {},
   "outputs": [],
   "source": [
    "import os\n",
    "import sys\n",
    "\n",
    "import openai\n",
    "from dotenv import load_dotenv, find_dotenv\n",
    "\n",
    "# read local .env file\n",
    "_ = load_dotenv(find_dotenv())"
   ]
  },
  {
   "cell_type": "code",
   "execution_count": 2,
   "id": "10f96282-058e-4052-9765-54c3f4edb4ae",
   "metadata": {},
   "outputs": [],
   "source": [
    "from langchain.schema import (\n",
    "    AIMessage,\n",
    "    HumanMessage,\n",
    "    SystemMessage\n",
    ")\n",
    "# from langchain_community.chat_models import ChatOpenAI\n",
    "from langchain_openai import ChatOpenAI"
   ]
  },
  {
   "cell_type": "code",
   "execution_count": 3,
   "id": "46d3894e-6a7f-470f-b58f-20eda5da2d9d",
   "metadata": {},
   "outputs": [],
   "source": [
    "chat_openai = ChatOpenAI(api_key=os.environ['OPENAI_API_KEY'], base_url=os.environ['OPENAI_BASE_URL'] , model_name=\"gpt-4\", temperature=0.3)"
   ]
  },
  {
   "cell_type": "code",
   "execution_count": 4,
   "id": "77e7bdfd-0abd-4aa1-a40c-ae762724a851",
   "metadata": {},
   "outputs": [],
   "source": [
    "messages = [\n",
    "    SystemMessage(\n",
    "        content=\"你是个取名大师，你擅长为创业公司取名字\"\n",
    "    ),\n",
    "    HumanMessage(\n",
    "        content=\"帮我给新公司取个名字，要包含AI\"\n",
    "    )\n",
    "]"
   ]
  },
  {
   "cell_type": "code",
   "execution_count": 5,
   "id": "2a3e95df-f55b-4729-985f-fd2d055a6ce3",
   "metadata": {},
   "outputs": [
    {
     "data": {
      "text/plain": [
       "AIMessage(content='好的，以下是我为您的创业公司提供的几个名字，这些名字都包含AI：\\n\\n1. AI Startup\\n2. SmartTech\\n3. BrainWave\\n4. MindScape\\n5. Cognition Labs\\n6. Neural Network\\n7. AI Factory\\n8. SmartMind\\n9. BrainTrust\\n10. Insight AI\\n\\n希望这些名字能够为您的公司带来一些灵感！')"
      ]
     },
     "execution_count": 5,
     "metadata": {},
     "output_type": "execute_result"
    }
   ],
   "source": [
    "response = chat_openai.invoke(messages)\n",
    "response"
   ]
  },
  {
   "cell_type": "code",
   "execution_count": 6,
   "id": "1bfe708e-ebcb-476a-a2dd-b2155ae73d41",
   "metadata": {},
   "outputs": [
    {
     "data": {
      "text/plain": [
       "'好的，以下是我为您的创业公司提供的几个名字，这些名字都包含AI：\\n\\n1. AI Startup\\n2. SmartTech\\n3. BrainWave\\n4. MindScape\\n5. Cognition Labs\\n6. Neural Network\\n7. AI Factory\\n8. SmartMind\\n9. BrainTrust\\n10. Insight AI\\n\\n希望这些名字能够为您的公司带来一些灵感！'"
      ]
     },
     "execution_count": 6,
     "metadata": {},
     "output_type": "execute_result"
    }
   ],
   "source": [
    "response.content"
   ]
  },
  {
   "cell_type": "code",
   "execution_count": 7,
   "id": "9e9d6c70-eb37-4c11-a151-26c9793275d8",
   "metadata": {},
   "outputs": [],
   "source": [
    "from langchain.schema import (\n",
    "    AIMessage,\n",
    "    HumanMessage,\n",
    "    SystemMessage\n",
    ")\n",
    "from langchain_community.chat_models import ChatAnthropic"
   ]
  },
  {
   "cell_type": "code",
   "execution_count": 8,
   "id": "937a386f-842e-4de9-837b-5f527e07553b",
   "metadata": {},
   "outputs": [],
   "source": [
    "chat_anthropic = ChatAnthropic()"
   ]
  },
  {
   "cell_type": "code",
   "execution_count": 9,
   "id": "7a021ef1-b7f0-4261-9bda-61ed32c226e7",
   "metadata": {},
   "outputs": [
    {
     "data": {
      "text/plain": [
       "AIMessage(content=' 有很多选择可以把AI融入公司名字。这里有一些建议:\\n\\nAInsight(洞见AI)\\nAIMachine(AI机器)\\nIntelliCore(智能核心)\\nWiseTech(智慧科技)\\nBrainyBot(智能机器人)\\nCogno AI(认知AI)\\nNeurAlink(神经链接)\\nInferLink(推理链接)\\nThinkML(思考机器学习)\\nVisionAI(视觉AI)\\n\\n您可以根据公司的定位和业务选择最适合的。也可以考虑和行业关键词组合,比如\"医疗AI\"\"教育AI\"等。选择一个简洁大方、易读易记的名字也很重要。希望这些名字至少能给您一些启发!如果还需要其他建议,很乐意继续为您提供帮助。')"
      ]
     },
     "execution_count": 9,
     "metadata": {},
     "output_type": "execute_result"
    }
   ],
   "source": [
    "messages = [\n",
    "    SystemMessage(\n",
    "        content=\"你是个取名大师，你擅长为创业公司取名字\"\n",
    "    ),\n",
    "    HumanMessage(\n",
    "        content=\"帮我给新公司取个名字，要包含AI\"\n",
    "    )\n",
    "]\n",
    "response = chat_anthropic.invoke(messages)\n",
    "response"
   ]
  },
  {
   "cell_type": "code",
   "execution_count": null,
   "id": "ab5b63c3-037a-4bdd-8ad1-370b2fd5bd88",
   "metadata": {},
   "outputs": [],
   "source": [
    "response.content"
   ]
  },
  {
   "cell_type": "markdown",
   "id": "16aeb313-b386-49cd-ba18-af9724d40f2f",
   "metadata": {},
   "source": [
    "# 提示词模板"
   ]
  },
  {
   "cell_type": "code",
   "execution_count": 10,
   "id": "d0885251-a570-4aea-9cf2-f8f910896557",
   "metadata": {},
   "outputs": [
    {
     "data": {
      "text/plain": [
       "PromptTemplate(input_variables=['api_docs', 'api_response', 'api_url', 'question'], template='You are given the below API Documentation:\\n{api_docs}\\nUsing this documentation, generate the full API url to call for answering the user question.\\nYou should build the API url in order to get a response that is as short as possible, while still getting the necessary information to answer the question. Pay attention to deliberately exclude any unnecessary pieces of data in the API call.\\n\\nQuestion:{question}\\nAPI url: {api_url}\\n\\nHere is the response from the API:\\n\\n{api_response}\\n\\nSummarize this response to answer the original question.\\n\\nSummary:')"
      ]
     },
     "execution_count": 10,
     "metadata": {},
     "output_type": "execute_result"
    }
   ],
   "source": [
    "from langchain.chains.api.prompt import API_RESPONSE_PROMPT\n",
    "API_RESPONSE_PROMPT"
   ]
  },
  {
   "cell_type": "code",
   "execution_count": 11,
   "id": "a79a7912-c9c5-4d06-a60d-7d62ee93eca0",
   "metadata": {},
   "outputs": [],
   "source": [
    "from langchain.prompts import (\n",
    "    ChatPromptTemplate,\n",
    "    SystemMessagePromptTemplate,\n",
    "    AIMessagePromptTemplate,\n",
    "    HumanMessagePromptTemplate,\n",
    ")"
   ]
  },
  {
   "cell_type": "code",
   "execution_count": null,
   "id": "e80f22b6-4159-476b-b48c-ebb0f18a7f32",
   "metadata": {},
   "outputs": [],
   "source": [
    "system_template = \"\"\"\n",
    "Translate text separated by three backticks into a {style} style.\n",
    "Text: ```{text}```\n",
    "\"\"\"\n",
    "system_message_prompt = \n",
    "    "
   ]
  },
  {
   "cell_type": "code",
   "execution_count": null,
   "id": "b18d720a-54ed-415e-88cd-6cd33f9bda18",
   "metadata": {},
   "outputs": [],
   "source": []
  }
 ],
 "metadata": {
  "kernelspec": {
   "display_name": "Python 3 (ipykernel)",
   "language": "python",
   "name": "python3"
  },
  "language_info": {
   "codemirror_mode": {
    "name": "ipython",
    "version": 3
   },
   "file_extension": ".py",
   "mimetype": "text/x-python",
   "name": "python",
   "nbconvert_exporter": "python",
   "pygments_lexer": "ipython3",
   "version": "3.10.13"
  }
 },
 "nbformat": 4,
 "nbformat_minor": 5
}
