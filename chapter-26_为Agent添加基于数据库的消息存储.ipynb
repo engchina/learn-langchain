{
 "cells": [
  {
   "cell_type": "code",
   "execution_count": 1,
   "outputs": [],
   "source": [
    "# !pip install redis\n",
    "# docker run --rm --name some-redis -p 6379:6379 -d redis"
   ],
   "metadata": {
    "collapsed": false,
    "ExecuteTime": {
     "end_time": "2024-01-28T08:28:35.505455200Z",
     "start_time": "2024-01-28T08:28:35.501988900Z"
    }
   },
   "id": "d02b30aebdb724c2"
  },
  {
   "cell_type": "code",
   "execution_count": 2,
   "outputs": [],
   "source": [
    "from dotenv import load_dotenv, find_dotenv\n",
    "from langchain_openai import ChatOpenAI, OpenAIEmbeddings\n",
    "\n",
    "# read local .env file\n",
    "# find_dotenv 函数通常用于搜索和定位目录树中的 .env 文件，而 load_dotenv 函数用于将 .env 文件中的变量加载到环境中。\n",
    "_ = load_dotenv(find_dotenv())\n",
    "\n",
    "llm = ChatOpenAI(model_name=\"gpt-3.5-turbo\", temperature=0.3)\n",
    "# embeddings = OpenAIEmbeddings()"
   ],
   "metadata": {
    "collapsed": false,
    "ExecuteTime": {
     "end_time": "2024-01-28T08:28:36.375741800Z",
     "start_time": "2024-01-28T08:28:35.506471500Z"
    }
   },
   "id": "initial_id"
  },
  {
   "cell_type": "code",
   "execution_count": 3,
   "outputs": [
    {
     "data": {
      "text/plain": "PromptTemplate(input_variables=['agent_scratchpad', 'input', 'my_chat_history', 'tool_names', 'tools'], template='\\nAnswer the following questions as best you can. You have access to the following tools:\\n\\n{tools}\\n\\nUse the following format:\\n\\nQuestion: the input question you must answer\\nThought: you should always think about what to do\\nAction: the action to take, should be one of [{tool_names}]\\nAction Input: the input to the action\\nObservation: the result of the action\\n... (this Thought/Action/Action Input/Observation can repeat N times)\\nThought: I now know the final answer\\nFinal Answer: the final answer to the original input question\\n\\nBegin!\\n\\nPrevious conversation history:\\n{my_chat_history}\\n\\nQuestion: {input}\\nThought:{agent_scratchpad}\\n')"
     },
     "execution_count": 3,
     "metadata": {},
     "output_type": "execute_result"
    }
   ],
   "source": [
    "from langchain_core.prompts import PromptTemplate\n",
    "\n",
    "# rom langchain import hub\n",
    "# prompt = hub.pull(\"hwchase17/react\")\n",
    "# add {my_chat_history}\n",
    "# or\n",
    "# prompt = hub.pull(\"stepbystep/conversational-agent\")\n",
    "prompt_template = \"\"\"\n",
    "Answer the following questions as best you can. You have access to the following tools:\n",
    "\n",
    "{tools}\n",
    "\n",
    "Use the following format:\n",
    "\n",
    "Question: the input question you must answer\n",
    "Thought: you should always think about what to do\n",
    "Action: the action to take, should be one of [{tool_names}]\n",
    "Action Input: the input to the action\n",
    "Observation: the result of the action\n",
    "... (this Thought/Action/Action Input/Observation can repeat N times)\n",
    "Thought: I now know the final answer\n",
    "Final Answer: the final answer to the original input question\n",
    "\n",
    "Begin!\n",
    "\n",
    "Previous conversation history:\n",
    "{my_chat_history}\n",
    "\n",
    "Question: {input}\n",
    "Thought:{agent_scratchpad}\n",
    "\"\"\"\n",
    "prompt = PromptTemplate.from_template(prompt_template)\n",
    "prompt"
   ],
   "metadata": {
    "collapsed": false,
    "ExecuteTime": {
     "end_time": "2024-01-28T08:28:36.422292100Z",
     "start_time": "2024-01-28T08:28:36.377904200Z"
    }
   },
   "id": "a4080645b1366cf4"
  },
  {
   "cell_type": "code",
   "execution_count": 4,
   "outputs": [
    {
     "data": {
      "text/plain": "\" output\\nPromptTemplate(input_variables=['agent_scratchpad', 'input', 'my_chat_history', 'tool_names', 'tools'], template='\\nAnswer the following questions as best you can. You have access to the following tools:\\n\\n{tools}\\n\\nUse the following format:\\n\\nQuestion: the input question you must answer\\nThought: you should always think about what to do\\nAction: the action to take, should be one of [{tool_names}]\\nAction Input: the input to the action\\nObservation: the result of the action\\n... (this Thought/Action/Action Input/Observation can repeat N times)\\nThought: I now know the final answer\\nFinal Answer: the final answer to the original input question\\n\\nBegin!\\n\\n{my_chat_history}\\n\\nQuestion: {input}\\nThought:{agent_scratchpad}\\n')\\n\""
     },
     "execution_count": 4,
     "metadata": {},
     "output_type": "execute_result"
    }
   ],
   "source": [
    "\"\"\" output\n",
    "PromptTemplate(input_variables=['agent_scratchpad', 'input', 'my_chat_history', 'tool_names', 'tools'], template='\\nAnswer the following questions as best you can. You have access to the following tools:\\n\\n{tools}\\n\\nUse the following format:\\n\\nQuestion: the input question you must answer\\nThought: you should always think about what to do\\nAction: the action to take, should be one of [{tool_names}]\\nAction Input: the input to the action\\nObservation: the result of the action\\n... (this Thought/Action/Action Input/Observation can repeat N times)\\nThought: I now know the final answer\\nFinal Answer: the final answer to the original input question\\n\\nBegin!\\n\\n{my_chat_history}\\n\\nQuestion: {input}\\nThought:{agent_scratchpad}\\n')\n",
    "\"\"\""
   ],
   "metadata": {
    "collapsed": false,
    "ExecuteTime": {
     "end_time": "2024-01-28T08:28:36.459406800Z",
     "start_time": "2024-01-28T08:28:36.424289900Z"
    }
   },
   "id": "15c910ce1e757ef0"
  },
  {
   "cell_type": "code",
   "execution_count": 5,
   "outputs": [],
   "source": [
    "from langchain_core.tools import Tool\n",
    "from langchain_community.utilities import SerpAPIWrapper\n",
    "\n",
    "search = SerpAPIWrapper()\n",
    "\n",
    "tools = [\n",
    "    Tool(\n",
    "        name=\"Search\",\n",
    "        func=search.run,\n",
    "        description=\"useful for when you need to answer questions about current events\"\n",
    "    )\n",
    "]\n"
   ],
   "metadata": {
    "collapsed": false,
    "ExecuteTime": {
     "end_time": "2024-01-28T08:28:36.549352400Z",
     "start_time": "2024-01-28T08:28:36.440289800Z"
    }
   },
   "id": "6d44917f64873f40"
  },
  {
   "cell_type": "code",
   "execution_count": 6,
   "outputs": [],
   "source": [
    "from langchain.memory import ConversationBufferMemory\n",
    "# from langchain.memory.chat_memory import ChatMessageHistory\n",
    "from langchain.memory.chat_message_histories import RedisChatMessageHistory\n",
    "\"\"\"\n",
    "现在，我们可以创建Memory对象，创建RedisChatMessageHistory以连接到外部数据库中存储的消息。\n",
    "\"\"\"\n",
    "message_history = RedisChatMessageHistory(url='redis://localhost:6379/0', ttl=600, session_id='my-session')\n",
    "\n",
    "memory = ConversationBufferMemory(memory_key=\"my_chat_history\", chat_memory=message_history)\n"
   ],
   "metadata": {
    "collapsed": false,
    "ExecuteTime": {
     "end_time": "2024-01-28T08:28:41.204171800Z",
     "start_time": "2024-01-28T08:28:36.551351300Z"
    }
   },
   "id": "7c3bea2908e8197f"
  },
  {
   "cell_type": "code",
   "execution_count": 7,
   "outputs": [],
   "source": [
    "from langchain.agents import create_react_agent, AgentExecutor\n",
    "\n",
    "\n",
    "agent = create_react_agent(llm=llm, tools=tools, prompt=prompt)\n",
    "agent_executor = AgentExecutor.from_agent_and_tools(agent=agent, tools=tools, memory=memory, verbose=True)"
   ],
   "metadata": {
    "collapsed": false,
    "ExecuteTime": {
     "end_time": "2024-01-28T08:28:41.577205900Z",
     "start_time": "2024-01-28T08:28:41.207169200Z"
    }
   },
   "id": "2cca67ef89708d69"
  },
  {
   "cell_type": "code",
   "execution_count": 9,
   "outputs": [
    {
     "name": "stdout",
     "output_type": "stream",
     "text": [
      "\n",
      "\n",
      "\u001B[1m> Entering new AgentExecutor chain...\u001B[0m\n",
      "\u001B[32;1m\u001B[1;3mI should search for the current population of Canada.\n",
      "Action: Search\n",
      "Action Input: \"current population of Canada\"\u001B[0m\u001B[36;1m\u001B[1;3m{'type': 'population_result', 'place': 'Canada', 'population': '38.25 million', 'year': '2021'}\u001B[0m\u001B[32;1m\u001B[1;3mI now know the final answer.\n",
      "Final Answer: The current population of Canada is 38.25 million as of 2021.\u001B[0m\n",
      "\n",
      "\u001B[1m> Finished chain.\u001B[0m\n"
     ]
    },
    {
     "data": {
      "text/plain": "{'input': 'How many people live in canada?',\n 'my_chat_history': '',\n 'output': 'The current population of Canada is 38.25 million as of 2021.'}"
     },
     "execution_count": 9,
     "metadata": {},
     "output_type": "execute_result"
    }
   ],
   "source": [
    "agent_executor.invoke({\"input\": \"How many people live in canada?\"})\n"
   ],
   "metadata": {
    "collapsed": false,
    "ExecuteTime": {
     "end_time": "2024-01-28T08:29:28.349447500Z",
     "start_time": "2024-01-28T08:29:20.501540900Z"
    }
   },
   "id": "b50c0019a12c4a4d"
  },
  {
   "cell_type": "code",
   "execution_count": null,
   "outputs": [],
   "source": [
    "\"\"\" output\n",
    "\n",
    "\n",
    "\u001B[1m> Entering new AgentExecutor chain...\u001B[0m\n",
    "\u001B[32;1m\u001B[1;3mI should search for the current population of Canada.\n",
    "Action: Search\n",
    "Action Input: \"current population of Canada\"\u001B[0m\u001B[36;1m\u001B[1;3m{'type': 'population_result', 'place': 'Canada', 'population': '38.25 million', 'year': '2021'}\u001B[0m\u001B[32;1m\u001B[1;3mI now know the final answer.\n",
    "Final Answer: The current population of Canada is 38.25 million as of 2021.\u001B[0m\n",
    "\n",
    "\u001B[1m> Finished chain.\u001B[0m\n",
    "\n",
    "{'input': 'How many people live in canada?',\n",
    " 'my_chat_history': '',\n",
    " 'output': 'The current population of Canada is 38.25 million as of 2021.'}\n",
    "\"\"\""
   ],
   "metadata": {
    "collapsed": false,
    "ExecuteTime": {
     "end_time": "2024-01-28T08:28:46.408955700Z",
     "start_time": "2024-01-28T08:28:46.403956300Z"
    }
   },
   "id": "29830097e45fe449"
  },
  {
   "cell_type": "code",
   "execution_count": 10,
   "outputs": [
    {
     "data": {
      "text/plain": "[HumanMessage(content='How many people live in canada?'),\n AIMessage(content='The current population of Canada is 38.25 million as of 2021.')]"
     },
     "execution_count": 10,
     "metadata": {},
     "output_type": "execute_result"
    }
   ],
   "source": [
    "memory.chat_memory.messages"
   ],
   "metadata": {
    "collapsed": false,
    "ExecuteTime": {
     "end_time": "2024-01-28T08:29:35.760722100Z",
     "start_time": "2024-01-28T08:29:35.750713500Z"
    }
   },
   "id": "6a502156a6e31a01"
  },
  {
   "cell_type": "code",
   "execution_count": null,
   "outputs": [],
   "source": [
    "\"\"\" output\n",
    "[HumanMessage(content='How many people live in canada?'),\n",
    " AIMessage(content='The current population of Canada is 38.25 million as of 2021.')]\n",
    "\"\"\""
   ],
   "metadata": {
    "collapsed": false,
    "ExecuteTime": {
     "start_time": "2024-01-28T08:28:46.406966400Z"
    }
   },
   "id": "f6b1dee3e84c6ed5"
  },
  {
   "cell_type": "code",
   "execution_count": 11,
   "outputs": [
    {
     "name": "stdout",
     "output_type": "stream",
     "text": [
      "\n",
      "\n",
      "\u001B[1m> Entering new AgentExecutor chain...\u001B[0m\n",
      "\u001B[32;1m\u001B[1;3mI should search for the name of Canada's national anthem.\n",
      "Action: Search\n",
      "Action Input: \"Canada national anthem\"\u001B[0m\u001B[36;1m\u001B[1;3m['\"O Canada\" is the national anthem of Canada. The song was originally commissioned by Lieutenant Governor of Quebec Théodore Robitaille for the 1880 Saint-Jean-Baptiste Day ceremony; Calixa Lavallée composed the music, after which French-language words were written by the poet and judge Sir Adolphe-Basile Routhier.', 'O Canada type: National anthem.', 'O Canada lyricists: Calixa Lavallée, Adolphe-Basile Routhier, Robert Stanley Weir.', 'O Canada composer: Calixa Lavallée.', 'O Canada key: G major.', 'O Canada adopted: July 1, 1980.', 'O Canada also_known_as: French - Ô Canada.', 'O Canada, national anthem of Canada. It was proclaimed the official national anthem on July 1, 1980. “God Save the Queen” remains the royal ...', '\"O Canada\" (French: Ô Canada) is the national anthem of Canada. The song was originally commissioned by Lieutenant Governor of Quebec Théodore Robitaille ...', \"“O Canada” was proclaimed Canada's national anthem in 1980, a century after it was first sung in 1880. The music was composed by Calixa Lavallée ...\", '\"O Canada\" was proclaimed Canada\\'s national anthem on July 1,. 1980, 100 years after it was first sung on June 24, 1880. The music.', 'God keep our land glorious and free! O Canada, we stand on guard for thee. O Canada, we stand on guard for thee. O Canada.', 'O Canada! Our home and native land! True patriot love in all of us command. With glowing hearts we see thee rise, The True North strong and free ...', 'Canadian National Anthem - Lyrics. 3.1.2 a. O Canada! O Canada! Our home and native land! True patriot love in all thy sons command. With glowing hearts we ...', '\"A Place to Stand, a Place to Grow (Ontari-ari-ari-o!)\" is an unofficial anthem of Ontario. The song was written by Dolores Claman, with English lyrics by ...']\u001B[0m\u001B[32;1m\u001B[1;3mI now know the final answer\n",
      "Final Answer: The national anthem of Canada is called \"O Canada\".\u001B[0m\n",
      "\n",
      "\u001B[1m> Finished chain.\u001B[0m\n"
     ]
    },
    {
     "data": {
      "text/plain": "{'input': 'what is their national anthem called?',\n 'my_chat_history': 'Human: How many people live in canada?\\nAI: The current population of Canada is 38.25 million as of 2021.',\n 'output': 'The national anthem of Canada is called \"O Canada\".'}"
     },
     "execution_count": 11,
     "metadata": {},
     "output_type": "execute_result"
    }
   ],
   "source": [
    "\"\"\"\n",
    "要测试此代理的记忆力，我们可以提出一个后续问题，该问题依赖于先前交换中的信息才能正确回答。\n",
    "\"\"\"\n",
    "agent_executor.invoke({\"input\": \"what is their national anthem called?\"})"
   ],
   "metadata": {
    "collapsed": false,
    "ExecuteTime": {
     "end_time": "2024-01-28T08:29:55.269838700Z",
     "start_time": "2024-01-28T08:29:49.505755200Z"
    }
   },
   "id": "925285d60dfbed26"
  },
  {
   "cell_type": "code",
   "execution_count": null,
   "outputs": [],
   "source": [
    "\"\"\" output\n",
    "\n",
    "\n",
    "\u001B[1m> Entering new AgentExecutor chain...\u001B[0m\n",
    "\u001B[32;1m\u001B[1;3mI should search for the name of Canada's national anthem.\n",
    "Action: Search\n",
    "Action Input: \"Canada national anthem\"\u001B[0m\u001B[36;1m\u001B[1;3m['\"O Canada\" is the national anthem of Canada. The song was originally commissioned by Lieutenant Governor of Quebec Théodore Robitaille for the 1880 Saint-Jean-Baptiste Day ceremony; Calixa Lavallée composed the music, after which French-language words were written by the poet and judge Sir Adolphe-Basile Routhier.', 'O Canada type: National anthem.', 'O Canada lyricists: Calixa Lavallée, Adolphe-Basile Routhier, Robert Stanley Weir.', 'O Canada composer: Calixa Lavallée.', 'O Canada key: G major.', 'O Canada adopted: July 1, 1980.', 'O Canada also_known_as: French - Ô Canada.', 'O Canada, national anthem of Canada. It was proclaimed the official national anthem on July 1, 1980. “God Save the Queen” remains the royal ...', '\"O Canada\" (French: Ô Canada) is the national anthem of Canada. The song was originally commissioned by Lieutenant Governor of Quebec Théodore Robitaille ...', \"“O Canada” was proclaimed Canada's national anthem in 1980, a century after it was first sung in 1880. The music was composed by Calixa Lavallée ...\", '\"O Canada\" was proclaimed Canada\\'s national anthem on July 1,. 1980, 100 years after it was first sung on June 24, 1880. The music.', 'God keep our land glorious and free! O Canada, we stand on guard for thee. O Canada, we stand on guard for thee. O Canada.', 'O Canada! Our home and native land! True patriot love in all of us command. With glowing hearts we see thee rise, The True North strong and free ...', 'Canadian National Anthem - Lyrics. 3.1.2 a. O Canada! O Canada! Our home and native land! True patriot love in all thy sons command. With glowing hearts we ...', '\"A Place to Stand, a Place to Grow (Ontari-ari-ari-o!)\" is an unofficial anthem of Ontario. The song was written by Dolores Claman, with English lyrics by ...']\u001B[0m\u001B[32;1m\u001B[1;3mI now know the final answer\n",
    "Final Answer: The national anthem of Canada is called \"O Canada\".\u001B[0m\n",
    "\n",
    "\u001B[1m> Finished chain.\u001B[0m\n",
    "\n",
    "{'input': 'what is their national anthem called?',\n",
    " 'my_chat_history': 'Human: How many people live in canada?\\nAI: The current population of Canada is 38.25 million as of 2021.',\n",
    " 'output': 'The national anthem of Canada is called \"O Canada\".'}\n",
    "\"\"\""
   ],
   "metadata": {
    "collapsed": false,
    "ExecuteTime": {
     "end_time": "2024-01-28T08:28:46.408955700Z",
     "start_time": "2024-01-28T08:28:46.408955700Z"
    }
   },
   "id": "6b3f8d638f2d6981"
  },
  {
   "cell_type": "code",
   "execution_count": 12,
   "outputs": [
    {
     "data": {
      "text/plain": "'Human: How many people live in canada?\\nAI: The current population of Canada is 38.25 million as of 2021.\\nHuman: what is their national anthem called?\\nAI: The national anthem of Canada is called \"O Canada\".'"
     },
     "execution_count": 12,
     "metadata": {},
     "output_type": "execute_result"
    }
   ],
   "source": [
    "agent_executor.memory.buffer"
   ],
   "metadata": {
    "collapsed": false,
    "ExecuteTime": {
     "end_time": "2024-01-28T08:30:02.491015600Z",
     "start_time": "2024-01-28T08:30:02.479017200Z"
    }
   },
   "id": "cc0b34436dfa60f7"
  },
  {
   "cell_type": "code",
   "execution_count": null,
   "outputs": [],
   "source": [
    "\"\"\" output\n",
    "'Human: How many people live in canada?\\nAI: The current population of Canada is 38.25 million as of 2021.\\nHuman: what is their national anthem called?\\nAI: The national anthem of Canada is called \"O Canada\".'\n",
    "\"\"\""
   ],
   "metadata": {
    "collapsed": false,
    "ExecuteTime": {
     "start_time": "2024-01-28T08:28:46.410956800Z"
    }
   },
   "id": "92f00d48d5a740fe"
  }
 ],
 "metadata": {
  "kernelspec": {
   "display_name": "Python 3",
   "language": "python",
   "name": "python3"
  },
  "language_info": {
   "codemirror_mode": {
    "name": "ipython",
    "version": 2
   },
   "file_extension": ".py",
   "mimetype": "text/x-python",
   "name": "python",
   "nbconvert_exporter": "python",
   "pygments_lexer": "ipython2",
   "version": "2.7.6"
  }
 },
 "nbformat": 4,
 "nbformat_minor": 5
}
