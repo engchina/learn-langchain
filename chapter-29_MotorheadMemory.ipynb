{
 "cells": [
  {
   "cell_type": "code",
   "execution_count": 3,
   "id": "initial_id",
   "metadata": {
    "collapsed": true,
    "ExecuteTime": {
     "end_time": "2024-01-28T09:14:05.996725100Z",
     "start_time": "2024-01-28T09:14:05.729879100Z"
    }
   },
   "outputs": [],
   "source": [
    "from dotenv import load_dotenv, find_dotenv\n",
    "from langchain_openai import ChatOpenAI, OpenAIEmbeddings\n",
    "\n",
    "# read local .env file\n",
    "# find_dotenv 函数通常用于搜索和定位目录树中的 .env 文件，而 load_dotenv 函数用于将 .env 文件中的变量加载到环境中。\n",
    "_ = load_dotenv(find_dotenv())\n",
    "\n",
    "llm = ChatOpenAI(model_name=\"gpt-3.5-turbo\", temperature=0.3)\n",
    "# embeddings = OpenAIEmbeddings()"
   ]
  },
  {
   "cell_type": "code",
   "execution_count": 4,
   "outputs": [],
   "source": [
    "\"\"\"\n",
    "Motörhead是一个用 Rust 实现的内存服务器。它会自动处理后台的增量摘要，并允许无状态应用程序。\n",
    "https://github.com/getmetal/motorhead\n",
    "\n",
    "docker run --rm --name some-redis -p 6379:6379 -d redis\n",
    "docker run --rm --name motorhead -p 8080:8080 -e PORT=8080 -e REDIS_URL='redis://some-redis:6379' -d ghcr.io/getmetal/motorhead:latest\n",
    "\"\"\"\n",
    "from langchain.memory.motorhead_memory import MotorheadMemory\n"
   ],
   "metadata": {
    "collapsed": false,
    "ExecuteTime": {
     "end_time": "2024-01-28T09:14:06.616351400Z",
     "start_time": "2024-01-28T09:14:06.606676900Z"
    }
   },
   "id": "367bd6517967b43d"
  },
  {
   "cell_type": "code",
   "execution_count": 6,
   "outputs": [],
   "source": [
    "from langchain.chains import LLMChain\n",
    "from langchain.prompts import PromptTemplate\n",
    "\n",
    "template = \"\"\"You are a chatbot having a conversation with a human.\n",
    "\n",
    "{chat_history}\n",
    "Human: {human_input}\n",
    "AI:\"\"\"\n",
    "\n",
    "prompt = PromptTemplate(\n",
    "    input_variables=[\"chat_history\", \"human_input\"], template=template\n",
    ")\n",
    "memory = MotorheadMemory(\n",
    "    session_id=\"testing-1\", url=\"http://localhost:8080\", memory_key=\"chat_history\"\n",
    ")\n"
   ],
   "metadata": {
    "collapsed": false,
    "ExecuteTime": {
     "end_time": "2024-01-28T09:14:42.335089800Z",
     "start_time": "2024-01-28T09:14:42.322090400Z"
    }
   },
   "id": "85c4e5109668352"
  },
  {
   "cell_type": "code",
   "execution_count": null,
   "outputs": [],
   "source": [
    "# await memory.init()\n",
    "memory.init()\n",
    "# loads previous state from Motörhead 🤘"
   ],
   "metadata": {
    "collapsed": false
   },
   "id": "4563cba651daadb"
  },
  {
   "cell_type": "code",
   "execution_count": 9,
   "outputs": [],
   "source": [
    "llm_chain = LLMChain(\n",
    "    llm=llm,\n",
    "    prompt=prompt,\n",
    "    verbose=True,\n",
    "    memory=memory,\n",
    ")"
   ],
   "metadata": {
    "collapsed": false,
    "ExecuteTime": {
     "end_time": "2024-01-28T09:15:06.087121600Z",
     "start_time": "2024-01-28T09:15:06.081065500Z"
    }
   },
   "id": "b121ec64aa747c7a"
  },
  {
   "cell_type": "code",
   "execution_count": 14,
   "outputs": [
    {
     "name": "stdout",
     "output_type": "stream",
     "text": [
      "\n",
      "\n",
      "\u001B[1m> Entering new LLMChain chain...\u001B[0m\n",
      "Prompt after formatting:\n",
      "\u001B[32;1m\u001B[1;3mYou are a chatbot having a conversation with a human.\n",
      "\n",
      "Human: hi im bob\n",
      "AI: Hello Bob! How can I assist you today?\n",
      "Human: whats my name?\n",
      "AI: Your name is Bob.\n",
      "Human: whats for dinner?\n",
      "AI: I'm sorry, I cannot determine what's for dinner as I don't have access to that information.\n",
      "Human: hi im bob\n",
      "AI:\u001B[0m\n",
      "\n",
      "\u001B[1m> Finished chain.\u001B[0m\n"
     ]
    },
    {
     "data": {
      "text/plain": "{'human_input': 'hi im bob',\n 'chat_history': \"Human: hi im bob\\nAI: Hello Bob! How can I assist you today?\\nHuman: whats my name?\\nAI: Your name is Bob.\\nHuman: whats for dinner?\\nAI: I'm sorry, I cannot determine what's for dinner as I don't have access to that information.\",\n 'text': 'Hello Bob! How can I assist you today?'}"
     },
     "execution_count": 14,
     "metadata": {},
     "output_type": "execute_result"
    }
   ],
   "source": [
    "llm_chain.invoke(\"hi im bob\")"
   ],
   "metadata": {
    "collapsed": false,
    "ExecuteTime": {
     "end_time": "2024-01-28T09:16:24.856689100Z",
     "start_time": "2024-01-28T09:16:22.482894800Z"
    }
   },
   "id": "4b4eecfb61b0ebbf"
  },
  {
   "cell_type": "code",
   "execution_count": null,
   "outputs": [],
   "source": [
    "\"\"\" output\n",
    "\n",
    "\n",
    "\u001B[1m> Entering new LLMChain chain...\u001B[0m\n",
    "Prompt after formatting:\n",
    "\u001B[32;1m\u001B[1;3mYou are a chatbot having a conversation with a human.\n",
    "\n",
    "Human: hi im bob\n",
    "AI: Hello Bob! How can I assist you today?\n",
    "Human: whats my name?\n",
    "AI: Your name is Bob.\n",
    "Human: whats for dinner?\n",
    "AI: I'm sorry, I cannot determine what's for dinner as I don't have access to that information.\n",
    "Human: hi im bob\n",
    "AI:\u001B[0m\n",
    "\n",
    "\u001B[1m> Finished chain.\u001B[0m\n",
    "\n",
    "{'human_input': 'hi im bob',\n",
    " 'chat_history': \"Human: hi im bob\\nAI: Hello Bob! How can I assist you today?\\nHuman: whats my name?\\nAI: Your name is Bob.\\nHuman: whats for dinner?\\nAI: I'm sorry, I cannot determine what's for dinner as I don't have access to that information.\",\n",
    " 'text': 'Hello Bob! How can I assist you today?'}\n",
    "\"\"\""
   ],
   "metadata": {
    "collapsed": false
   },
   "id": "1330ed2210db3580"
  },
  {
   "cell_type": "code",
   "execution_count": 15,
   "outputs": [
    {
     "name": "stdout",
     "output_type": "stream",
     "text": [
      "\n",
      "\n",
      "\u001B[1m> Entering new LLMChain chain...\u001B[0m\n",
      "Prompt after formatting:\n",
      "\u001B[32;1m\u001B[1;3mYou are a chatbot having a conversation with a human.\n",
      "\n",
      "Human: hi im bob\n",
      "AI: Hello Bob! How can I assist you today?\n",
      "Human: whats my name?\n",
      "AI: Your name is Bob.\n",
      "Human: whats for dinner?\n",
      "AI: I'm sorry, I cannot determine what's for dinner as I don't have access to that information.\n",
      "Human: hi im bob\n",
      "AI: Hello Bob! How can I assist you today?\n",
      "Human: whats my name?\n",
      "AI:\u001B[0m\n",
      "\n",
      "\u001B[1m> Finished chain.\u001B[0m\n"
     ]
    },
    {
     "data": {
      "text/plain": "{'human_input': 'whats my name?',\n 'chat_history': \"Human: hi im bob\\nAI: Hello Bob! How can I assist you today?\\nHuman: whats my name?\\nAI: Your name is Bob.\\nHuman: whats for dinner?\\nAI: I'm sorry, I cannot determine what's for dinner as I don't have access to that information.\\nHuman: hi im bob\\nAI: Hello Bob! How can I assist you today?\",\n 'text': 'Your name is Bob.'}"
     },
     "execution_count": 15,
     "metadata": {},
     "output_type": "execute_result"
    }
   ],
   "source": [
    "llm_chain.invoke(\"whats my name?\")"
   ],
   "metadata": {
    "collapsed": false,
    "ExecuteTime": {
     "end_time": "2024-01-28T09:16:26.694439800Z",
     "start_time": "2024-01-28T09:16:24.856689100Z"
    }
   },
   "id": "df66d1133d5d1c0b"
  },
  {
   "cell_type": "code",
   "execution_count": null,
   "outputs": [],
   "source": [
    "\"\"\" output\n",
    "\n",
    "\n",
    "\u001B[1m> Entering new LLMChain chain...\u001B[0m\n",
    "Prompt after formatting:\n",
    "\u001B[32;1m\u001B[1;3mYou are a chatbot having a conversation with a human.\n",
    "\n",
    "Human: hi im bob\n",
    "AI: Hello Bob! How can I assist you today?\n",
    "Human: whats my name?\n",
    "AI: Your name is Bob.\n",
    "Human: whats for dinner?\n",
    "AI: I'm sorry, I cannot determine what's for dinner as I don't have access to that information.\n",
    "Human: hi im bob\n",
    "AI: Hello Bob! How can I assist you today?\n",
    "Human: whats my name?\n",
    "AI:\u001B[0m\n",
    "\n",
    "\u001B[1m> Finished chain.\u001B[0m\n",
    "\n",
    "{'human_input': 'whats my name?',\n",
    " 'chat_history': \"Human: hi im bob\\nAI: Hello Bob! How can I assist you today?\\nHuman: whats my name?\\nAI: Your name is Bob.\\nHuman: whats for dinner?\\nAI: I'm sorry, I cannot determine what's for dinner as I don't have access to that information.\\nHuman: hi im bob\\nAI: Hello Bob! How can I assist you today?\",\n",
    " 'text': 'Your name is Bob.'}\n",
    "\"\"\""
   ],
   "metadata": {
    "collapsed": false
   },
   "id": "6fc50c1c744c623e"
  },
  {
   "cell_type": "code",
   "execution_count": 16,
   "outputs": [
    {
     "name": "stdout",
     "output_type": "stream",
     "text": [
      "\n",
      "\n",
      "\u001B[1m> Entering new LLMChain chain...\u001B[0m\n",
      "Prompt after formatting:\n",
      "\u001B[32;1m\u001B[1;3mYou are a chatbot having a conversation with a human.\n",
      "\n",
      "Human: hi im bob\n",
      "AI: Hello Bob! How can I assist you today?\n",
      "Human: whats my name?\n",
      "AI: Your name is Bob.\n",
      "Human: whats for dinner?\n",
      "AI: I'm sorry, I cannot determine what's for dinner as I don't have access to that information.\n",
      "Human: hi im bob\n",
      "AI: Hello Bob! How can I assist you today?\n",
      "Human: whats my name?\n",
      "AI: Your name is Bob.\n",
      "Human: whats for dinner?\n",
      "AI:\u001B[0m\n",
      "\n",
      "\u001B[1m> Finished chain.\u001B[0m\n"
     ]
    },
    {
     "data": {
      "text/plain": "\"I'm sorry, I cannot determine what's for dinner as I don't have access to that information.\""
     },
     "execution_count": 16,
     "metadata": {},
     "output_type": "execute_result"
    }
   ],
   "source": [
    "llm_chain.run(\"whats for dinner?\")"
   ],
   "metadata": {
    "collapsed": false,
    "ExecuteTime": {
     "end_time": "2024-01-28T09:16:29.225257300Z",
     "start_time": "2024-01-28T09:16:26.691440100Z"
    }
   },
   "id": "409b3911d7cd0240"
  },
  {
   "cell_type": "code",
   "execution_count": null,
   "outputs": [],
   "source": [
    "\"\"\" output\n",
    "\n",
    "\n",
    "\u001B[1m> Entering new LLMChain chain...\u001B[0m\n",
    "Prompt after formatting:\n",
    "\u001B[32;1m\u001B[1;3mYou are a chatbot having a conversation with a human.\n",
    "\n",
    "Human: hi im bob\n",
    "AI: Hello Bob! How can I assist you today?\n",
    "Human: whats my name?\n",
    "AI: Your name is Bob.\n",
    "Human: whats for dinner?\n",
    "AI: I'm sorry, I cannot determine what's for dinner as I don't have access to that information.\n",
    "Human: hi im bob\n",
    "AI: Hello Bob! How can I assist you today?\n",
    "Human: whats my name?\n",
    "AI: Your name is Bob.\n",
    "Human: whats for dinner?\n",
    "AI:\u001B[0m\n",
    "\n",
    "\u001B[1m> Finished chain.\u001B[0m\n",
    "\n",
    "\"I'm sorry, I cannot determine what's for dinner as I don't have access to that information.\"\n",
    "\"\"\""
   ],
   "metadata": {
    "collapsed": false
   },
   "id": "47744279007a9d5a"
  }
 ],
 "metadata": {
  "kernelspec": {
   "display_name": "Python 3",
   "language": "python",
   "name": "python3"
  },
  "language_info": {
   "codemirror_mode": {
    "name": "ipython",
    "version": 2
   },
   "file_extension": ".py",
   "mimetype": "text/x-python",
   "name": "python",
   "nbconvert_exporter": "python",
   "pygments_lexer": "ipython2",
   "version": "2.7.6"
  }
 },
 "nbformat": 4,
 "nbformat_minor": 5
}
