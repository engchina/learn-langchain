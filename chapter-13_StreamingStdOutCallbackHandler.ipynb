{
 "cells": [
  {
   "cell_type": "code",
   "execution_count": 1,
   "id": "initial_id",
   "metadata": {
    "collapsed": true,
    "ExecuteTime": {
     "end_time": "2024-01-27T06:46:46.248762600Z",
     "start_time": "2024-01-27T06:46:45.621589Z"
    }
   },
   "outputs": [],
   "source": [
    "from dotenv import load_dotenv, find_dotenv\n",
    "\n",
    "# read local .env file\n",
    "# find_dotenv 函数通常用于搜索和定位目录树中的 .env 文件，而 load_dotenv 函数用于将 .env 文件中的变量加载到环境中。\n",
    "_ = load_dotenv(find_dotenv())\n",
    "from langchain_openai import ChatOpenAI"
   ]
  },
  {
   "cell_type": "code",
   "execution_count": 3,
   "outputs": [
    {
     "name": "stdout",
     "output_type": "stream",
     "text": [
      "(Verse 1)\n",
      "在这个时代，AI的光芒闪耀\n",
      "学习人工智能，让未来更美妙\n",
      "编程的世界，无限的可能\n",
      "探索AI的奥秘，让我们一起去追求\n",
      "\n",
      "(Chorus)\n",
      "学习AI，开启智慧的大门\n",
      "创造未来，让世界更加先进\n",
      "用数据和算法，解决难题\n",
      "学习AI，让我们一起飞\n",
      "(Verse 2)\n",
      "机器学习，让计算机变得聪明\n",
      "深度学习，让智能无限延伸\n",
      "神经网络，模拟人类思维\n",
      "学习AI，让我们创造奇迹\n",
      "(Bridge)\n",
      "数据是宝藏，算法是钥匙\n",
      "用AI的力量，创造更美好的未来\n",
      "不断学习，不断进步\n",
      "成为AI的掌握者，让世界变得更加智能\n",
      "(Chorus)\n",
      "学习AI，开启智慧的大门\n",
      "创造未来，让世界更加先进\n",
      "用数据和算法，解决难题\n",
      "学习AI，让我们一起飞\n",
      "\n",
      "(Outro)\n",
      "学习AI，让我们的梦想起航\n",
      "用智能的力量，创造美好的明天\n",
      "学习AI，让我们一起前行\n",
      "迎接未来，让世界变得更加智能"
     ]
    }
   ],
   "source": [
    "from langchain_core.messages import HumanMessage\n",
    "from langchain.callbacks.streaming_stdout import StreamingStdOutCallbackHandler\n",
    "llm = ChatOpenAI(streaming=True, callbacks=[StreamingStdOutCallbackHandler()], temperature=0)\n",
    "resp = llm.invoke([HumanMessage(content=\"请用中文给我写一首关于学习人工智能的歌吧\")])"
   ],
   "metadata": {
    "collapsed": false,
    "ExecuteTime": {
     "end_time": "2024-01-27T06:47:19.466035900Z",
     "start_time": "2024-01-27T06:47:05.582070Z"
    }
   },
   "id": "4913b95ff5ed4cb3"
  },
  {
   "cell_type": "code",
   "execution_count": null,
   "outputs": [],
   "source": [
    "\"\"\" output\n",
    "(Verse 1)\n",
    "在这个时代，AI的光芒闪耀\n",
    "学习人工智能，让未来更美妙\n",
    "编程的世界，无限的可能\n",
    "探索AI的奥秘，让我们一起去追求\n",
    "\n",
    "(Chorus)\n",
    "学习AI，开启智慧的大门\n",
    "创造未来，让世界更加先进\n",
    "用数据和算法，解决难题\n",
    "学习AI，让我们一起飞\n",
    "(Verse 2)\n",
    "机器学习，让计算机变得聪明\n",
    "深度学习，让智能无限延伸\n",
    "神经网络，模拟人类思维\n",
    "学习AI，让我们创造奇迹\n",
    "(Bridge)\n",
    "数据是宝藏，算法是钥匙\n",
    "用AI的力量，创造更美好的未来\n",
    "不断学习，不断进步\n",
    "成为AI的掌握者，让世界变得更加智能\n",
    "(Chorus)\n",
    "学习AI，开启智慧的大门\n",
    "创造未来，让世界更加先进\n",
    "用数据和算法，解决难题\n",
    "学习AI，让我们一起飞\n",
    "\n",
    "(Outro)\n",
    "学习AI，让我们的梦想起航\n",
    "用智能的力量，创造美好的明天\n",
    "学习AI，让我们一起前行\n",
    "迎接未来，让世界变得更加智能\n",
    "\"\"\""
   ],
   "metadata": {
    "collapsed": false
   },
   "id": "ec51a88e5a3d623e"
  }
 ],
 "metadata": {
  "kernelspec": {
   "display_name": "Python 3",
   "language": "python",
   "name": "python3"
  },
  "language_info": {
   "codemirror_mode": {
    "name": "ipython",
    "version": 2
   },
   "file_extension": ".py",
   "mimetype": "text/x-python",
   "name": "python",
   "nbconvert_exporter": "python",
   "pygments_lexer": "ipython2",
   "version": "2.7.6"
  }
 },
 "nbformat": 4,
 "nbformat_minor": 5
}
