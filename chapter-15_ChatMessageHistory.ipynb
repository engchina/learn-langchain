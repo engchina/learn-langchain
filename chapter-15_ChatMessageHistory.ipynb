{
 "cells": [
  {
   "cell_type": "code",
   "execution_count": 6,
   "id": "initial_id",
   "metadata": {
    "collapsed": true,
    "ExecuteTime": {
     "end_time": "2024-01-27T05:01:21.217688600Z",
     "start_time": "2024-01-27T05:01:21.212686500Z"
    }
   },
   "outputs": [],
   "source": [
    "\"\"\"\n",
    "支撑大多数(如果不是全部)内存模块的核心实用工具类之一是 ChatMessageHistory 类。\n",
    "\n",
    "这是一个超轻量级的包装器，它提供了一些方便的方法来保存人类消息、人工智能消息，然后获取它们。\n",
    "\n",
    "如果要管理链外部的内存，可能需要直接使用此类。\n",
    "\"\"\"\n",
    "from langchain.memory import ChatMessageHistory\n",
    " \n",
    "history = ChatMessageHistory()\n",
    " \n",
    "history.add_user_message(\"hi!\")\n",
    " \n",
    "history.add_ai_message(\"whats up?\")"
   ]
  },
  {
   "cell_type": "code",
   "execution_count": 5,
   "outputs": [
    {
     "data": {
      "text/plain": "[HumanMessage(content='hi!'), AIMessage(content='whats up?')]"
     },
     "execution_count": 5,
     "metadata": {},
     "output_type": "execute_result"
    }
   ],
   "source": [
    "history.messages"
   ],
   "metadata": {
    "collapsed": false,
    "ExecuteTime": {
     "end_time": "2024-01-27T05:00:59.225122600Z",
     "start_time": "2024-01-27T05:00:59.211121700Z"
    }
   },
   "id": "e379c197496d7fb7"
  },
  {
   "cell_type": "code",
   "execution_count": null,
   "outputs": [],
   "source": [
    "\"\"\" output\n",
    "[HumanMessage(content='hi!'), AIMessage(content='whats up?')]\n",
    "\"\"\""
   ],
   "metadata": {
    "collapsed": false
   },
   "id": "38ed3d5b2b899f6f"
  },
  {
   "cell_type": "code",
   "execution_count": 7,
   "outputs": [],
   "source": [
    "\"\"\"\n",
    "您可能经常需要保存消息，然后加载它们再次使用。\n",
    "\n",
    "通过首先将消息转换为普通的 python 字典，保存它们(作为 json 或其他形式) ，然后加载它们，可以很容易地做到这一点。\n",
    "\"\"\"\n",
    "import json\n",
    " \n",
    "from langchain.memory import ChatMessageHistory\n",
    "from langchain.schema import messages_from_dict, messages_to_dict\n",
    " \n",
    "history = ChatMessageHistory()\n",
    " \n",
    "history.add_user_message(\"hi!\")\n",
    " \n",
    "history.add_ai_message(\"whats up?\")\n",
    " "
   ],
   "metadata": {
    "collapsed": false,
    "ExecuteTime": {
     "end_time": "2024-01-27T05:26:16.278489900Z",
     "start_time": "2024-01-27T05:26:16.261353100Z"
    }
   },
   "id": "a64762b538ffad4f"
  },
  {
   "cell_type": "code",
   "execution_count": 9,
   "outputs": [
    {
     "data": {
      "text/plain": "[{'type': 'human',\n  'data': {'content': 'hi!',\n   'additional_kwargs': {},\n   'type': 'human',\n   'example': False}},\n {'type': 'ai',\n  'data': {'content': 'whats up?',\n   'additional_kwargs': {},\n   'type': 'ai',\n   'example': False}}]"
     },
     "execution_count": 9,
     "metadata": {},
     "output_type": "execute_result"
    }
   ],
   "source": [
    "dicts = messages_to_dict(history.messages)\n",
    "dicts "
   ],
   "metadata": {
    "collapsed": false,
    "ExecuteTime": {
     "end_time": "2024-01-27T05:26:29.557132200Z",
     "start_time": "2024-01-27T05:26:29.539537100Z"
    }
   },
   "id": "b684feed16824338"
  },
  {
   "cell_type": "code",
   "execution_count": null,
   "outputs": [],
   "source": [
    "\"\"\" output\n",
    "[{'type': 'human',\n",
    "  'data': {'content': 'hi!',\n",
    "   'additional_kwargs': {},\n",
    "   'type': 'human',\n",
    "   'example': False}},\n",
    " {'type': 'ai',\n",
    "  'data': {'content': 'whats up?',\n",
    "   'additional_kwargs': {},\n",
    "   'type': 'ai',\n",
    "   'example': False}}]\n",
    "\"\"\""
   ],
   "metadata": {
    "collapsed": false
   },
   "id": "9ae5ef4fc414da79"
  },
  {
   "cell_type": "code",
   "execution_count": 10,
   "outputs": [
    {
     "data": {
      "text/plain": "[HumanMessage(content='hi!'), AIMessage(content='whats up?')]"
     },
     "execution_count": 10,
     "metadata": {},
     "output_type": "execute_result"
    }
   ],
   "source": [
    "new_messages = messages_from_dict(dicts)\n",
    "new_messages"
   ],
   "metadata": {
    "collapsed": false,
    "ExecuteTime": {
     "end_time": "2024-01-27T05:26:39.975033700Z",
     "start_time": "2024-01-27T05:26:39.958514700Z"
    }
   },
   "id": "79604de5e77cb4e2"
  },
  {
   "cell_type": "code",
   "execution_count": null,
   "outputs": [],
   "source": [
    "\"\"\" output\n",
    "[HumanMessage(content='hi!'), AIMessage(content='whats up?')]\n",
    "\"\"\""
   ],
   "metadata": {
    "collapsed": false
   },
   "id": "b4f568acbc6b3705"
  }
 ],
 "metadata": {
  "kernelspec": {
   "display_name": "Python 3",
   "language": "python",
   "name": "python3"
  },
  "language_info": {
   "codemirror_mode": {
    "name": "ipython",
    "version": 2
   },
   "file_extension": ".py",
   "mimetype": "text/x-python",
   "name": "python",
   "nbconvert_exporter": "python",
   "pygments_lexer": "ipython2",
   "version": "2.7.6"
  }
 },
 "nbformat": 4,
 "nbformat_minor": 5
}
