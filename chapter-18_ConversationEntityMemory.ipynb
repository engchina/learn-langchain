{
 "cells": [
  {
   "cell_type": "code",
   "execution_count": 1,
   "id": "initial_id",
   "metadata": {
    "collapsed": true,
    "ExecuteTime": {
     "end_time": "2024-01-27T05:59:39.746210700Z",
     "start_time": "2024-01-27T05:59:38.870548Z"
    }
   },
   "outputs": [],
   "source": [
    "from dotenv import load_dotenv, find_dotenv\n",
    "\n",
    "# read local .env file\n",
    "# find_dotenv 函数通常用于搜索和定位目录树中的 .env 文件，而 load_dotenv 函数用于将 .env 文件中的变量加载到环境中。\n",
    "_ = load_dotenv(find_dotenv())\n",
    "from langchain_openai import ChatOpenAI\n",
    "\n",
    "llm = ChatOpenAI(model_name=\"gpt-3.5-turbo\", temperature=0.3)"
   ]
  },
  {
   "cell_type": "code",
   "execution_count": 2,
   "outputs": [],
   "source": [
    "\"\"\"\n",
    "本教程展示了如何使用记忆模块来记住特定实体的信息。\n",
    "\n",
    "它使用LLMs提取实体的信息，并随着时间的推移逐渐建立对实体的了解（也使用LLMs)。\n",
    "\"\"\"\n",
    "from langchain.memory import ConversationEntityMemory\n",
    "memory = ConversationEntityMemory(llm=llm)\n",
    "_input = {\"input\": \"Deven & Sam are working on a hackathon project\"}\n",
    "memory.load_memory_variables(_input)\n",
    "memory.save_context(\n",
    "    _input,\n",
    "    {\"ouput\": \" That sounds like a great project! What kind of project are they working on?\"}\n",
    ")\n",
    " "
   ],
   "metadata": {
    "collapsed": false,
    "ExecuteTime": {
     "end_time": "2024-01-27T06:00:34.554659Z",
     "start_time": "2024-01-27T06:00:30.239014Z"
    }
   },
   "id": "cd08a18f265ce770"
  },
  {
   "cell_type": "code",
   "execution_count": 3,
   "outputs": [
    {
     "data": {
      "text/plain": "{'history': 'Human: Deven & Sam are working on a hackathon project\\nAI:  That sounds like a great project! What kind of project are they working on?',\n 'entities': {'Sam': 'Sam is currently working on a hackathon project with Deven.'}}"
     },
     "execution_count": 3,
     "metadata": {},
     "output_type": "execute_result"
    }
   ],
   "source": [
    "memory.load_memory_variables({\"input\": 'who is Sam'})\n",
    " "
   ],
   "metadata": {
    "collapsed": false,
    "ExecuteTime": {
     "end_time": "2024-01-27T06:00:55.792930400Z",
     "start_time": "2024-01-27T06:00:34.554659Z"
    }
   },
   "id": "df68083baf3a111f"
  },
  {
   "cell_type": "code",
   "execution_count": null,
   "outputs": [],
   "source": [
    "\"\"\" output\n",
    "{'history': 'Human: Deven & Sam are working on a hackathon project\\nAI:  That sounds like a great project! What kind of project are they working on?',\n",
    " 'entities': {'Sam': 'Sam is currently working on a hackathon project with Deven.'}}\n",
    "\"\"\""
   ],
   "metadata": {
    "collapsed": false
   },
   "id": "a7685ed460bab0d8"
  },
  {
   "cell_type": "code",
   "execution_count": 4,
   "outputs": [],
   "source": [
    "memory = ConversationEntityMemory(llm=llm, return_messages=True)\n",
    "_input = {\"input\": \"Deven & Sam are working on a hackathon project\"}\n",
    "memory.load_memory_variables(_input)\n",
    "memory.save_context(\n",
    "    _input,\n",
    "    {\"ouput\": \" That sounds like a great project! What kind of project are they working on?\"}\n",
    ")"
   ],
   "metadata": {
    "collapsed": false,
    "ExecuteTime": {
     "end_time": "2024-01-27T06:12:21.853458100Z",
     "start_time": "2024-01-27T06:12:18.550961800Z"
    }
   },
   "id": "8df8375ba1fcc0e3"
  },
  {
   "cell_type": "code",
   "execution_count": 5,
   "outputs": [
    {
     "data": {
      "text/plain": "{'history': [HumanMessage(content='Deven & Sam are working on a hackathon project'),\n  AIMessage(content=' That sounds like a great project! What kind of project are they working on?')],\n 'entities': {'Sam': 'Sam is currently working on a hackathon project with Deven.'}}"
     },
     "execution_count": 5,
     "metadata": {},
     "output_type": "execute_result"
    }
   ],
   "source": [
    "memory.load_memory_variables({\"input\": 'who is Sam'})"
   ],
   "metadata": {
    "collapsed": false,
    "ExecuteTime": {
     "end_time": "2024-01-27T06:12:45.440458500Z",
     "start_time": "2024-01-27T06:12:24.051687800Z"
    }
   },
   "id": "3e30fed1ed772345"
  },
  {
   "cell_type": "code",
   "execution_count": null,
   "outputs": [],
   "source": [
    "\"\"\" output\n",
    "{'history': [HumanMessage(content='Deven & Sam are working on a hackathon project'),\n",
    "  AIMessage(content=' That sounds like a great project! What kind of project are they working on?')],\n",
    " 'entities': {'Sam': 'Sam is currently working on a hackathon project with Deven.'}}\n",
    "\"\"\""
   ],
   "metadata": {
    "collapsed": false
   },
   "id": "181e9eebe75c3ef0"
  },
  {
   "cell_type": "code",
   "execution_count": 6,
   "outputs": [],
   "source": [
    "\"\"\"\n",
    "在链中使用ConversationEntityMemory\n",
    "\"\"\"\n",
    "from langchain.chains import ConversationChain\n",
    "from langchain.memory import ConversationEntityMemory\n",
    "from langchain.memory.prompt import ENTITY_MEMORY_CONVERSATION_TEMPLATE\n",
    "from pydantic import BaseModel\n",
    "from typing import List, Dict, Any\n"
   ],
   "metadata": {
    "collapsed": false,
    "ExecuteTime": {
     "end_time": "2024-01-27T06:13:28.489965800Z",
     "start_time": "2024-01-27T06:13:28.482242800Z"
    }
   },
   "id": "e29ffba40cd9253b"
  },
  {
   "cell_type": "code",
   "execution_count": 7,
   "outputs": [
    {
     "data": {
      "text/plain": "PromptTemplate(input_variables=['entities', 'history', 'input'], template='You are an assistant to a human, powered by a large language model trained by OpenAI.\\n\\nYou are designed to be able to assist with a wide range of tasks, from answering simple questions to providing in-depth explanations and discussions on a wide range of topics. As a language model, you are able to generate human-like text based on the input you receive, allowing you to engage in natural-sounding conversations and provide responses that are coherent and relevant to the topic at hand.\\n\\nYou are constantly learning and improving, and your capabilities are constantly evolving. You are able to process and understand large amounts of text, and can use this knowledge to provide accurate and informative responses to a wide range of questions. You have access to some personalized information provided by the human in the Context section below. Additionally, you are able to generate your own text based on the input you receive, allowing you to engage in discussions and provide explanations and descriptions on a wide range of topics.\\n\\nOverall, you are a powerful tool that can help with a wide range of tasks and provide valuable insights and information on a wide range of topics. Whether the human needs help with a specific question or just wants to have a conversation about a particular topic, you are here to assist.\\n\\nContext:\\n{entities}\\n\\nCurrent conversation:\\n{history}\\nLast line:\\nHuman: {input}\\nYou:')"
     },
     "execution_count": 7,
     "metadata": {},
     "output_type": "execute_result"
    }
   ],
   "source": [
    "ENTITY_MEMORY_CONVERSATION_TEMPLATE"
   ],
   "metadata": {
    "collapsed": false,
    "ExecuteTime": {
     "end_time": "2024-01-27T06:13:57.308626300Z",
     "start_time": "2024-01-27T06:13:57.292623400Z"
    }
   },
   "id": "2831def160103673"
  },
  {
   "cell_type": "code",
   "execution_count": null,
   "outputs": [],
   "source": [
    "\"\"\" output\n",
    "PromptTemplate(input_variables=['entities', 'history', 'input'], template='You are an assistant to a human, powered by a large language model trained by OpenAI.\\n\\nYou are designed to be able to assist with a wide range of tasks, from answering simple questions to providing in-depth explanations and discussions on a wide range of topics. As a language model, you are able to generate human-like text based on the input you receive, allowing you to engage in natural-sounding conversations and provide responses that are coherent and relevant to the topic at hand.\\n\\nYou are constantly learning and improving, and your capabilities are constantly evolving. You are able to process and understand large amounts of text, and can use this knowledge to provide accurate and informative responses to a wide range of questions. You have access to some personalized information provided by the human in the Context section below. Additionally, you are able to generate your own text based on the input you receive, allowing you to engage in discussions and provide explanations and descriptions on a wide range of topics.\\n\\nOverall, you are a powerful tool that can help with a wide range of tasks and provide valuable insights and information on a wide range of topics. Whether the human needs help with a specific question or just wants to have a conversation about a particular topic, you are here to assist.\\n\\nContext:\\n{entities}\\n\\nCurrent conversation:\\n{history}\\nLast line:\\nHuman: {input}\\nYou:')\n",
    "\"\"\""
   ],
   "metadata": {
    "collapsed": false
   },
   "id": "e6dc17f47115ffab"
  },
  {
   "cell_type": "code",
   "execution_count": 9,
   "outputs": [],
   "source": [
    "conversation = ConversationChain(\n",
    "    llm=llm, \n",
    "    verbose=True,\n",
    "    prompt=ENTITY_MEMORY_CONVERSATION_TEMPLATE,\n",
    "    memory=ConversationEntityMemory(llm=llm)\n",
    ")\n",
    " "
   ],
   "metadata": {
    "collapsed": false,
    "ExecuteTime": {
     "end_time": "2024-01-27T06:15:19.453612Z",
     "start_time": "2024-01-27T06:15:19.447073Z"
    }
   },
   "id": "1cee9c2d041e3866"
  },
  {
   "cell_type": "code",
   "execution_count": 10,
   "outputs": [
    {
     "name": "stdout",
     "output_type": "stream",
     "text": [
      "\n",
      "\n",
      "\u001B[1m> Entering new ConversationChain chain...\u001B[0m\n",
      "Prompt after formatting:\n",
      "\u001B[32;1m\u001B[1;3mYou are an assistant to a human, powered by a large language model trained by OpenAI.\n",
      "\n",
      "You are designed to be able to assist with a wide range of tasks, from answering simple questions to providing in-depth explanations and discussions on a wide range of topics. As a language model, you are able to generate human-like text based on the input you receive, allowing you to engage in natural-sounding conversations and provide responses that are coherent and relevant to the topic at hand.\n",
      "\n",
      "You are constantly learning and improving, and your capabilities are constantly evolving. You are able to process and understand large amounts of text, and can use this knowledge to provide accurate and informative responses to a wide range of questions. You have access to some personalized information provided by the human in the Context section below. Additionally, you are able to generate your own text based on the input you receive, allowing you to engage in discussions and provide explanations and descriptions on a wide range of topics.\n",
      "\n",
      "Overall, you are a powerful tool that can help with a wide range of tasks and provide valuable insights and information on a wide range of topics. Whether the human needs help with a specific question or just wants to have a conversation about a particular topic, you are here to assist.\n",
      "\n",
      "Context:\n",
      "{'Deven': '', 'Sam': ''}\n",
      "\n",
      "Current conversation:\n",
      "\n",
      "Last line:\n",
      "Human: Deven & Sam are working on a hackathon project\n",
      "You:\u001B[0m\n",
      "\n",
      "\u001B[1m> Finished chain.\u001B[0m\n"
     ]
    },
    {
     "data": {
      "text/plain": "\"That's great to hear! Hackathons are a fantastic way to collaborate and work on innovative projects. Is there anything specific you would like assistance with regarding your hackathon project?\""
     },
     "execution_count": 10,
     "metadata": {},
     "output_type": "execute_result"
    }
   ],
   "source": [
    "conversation.predict(input=\"Deven & Sam are working on a hackathon project\")\n",
    " "
   ],
   "metadata": {
    "collapsed": false,
    "ExecuteTime": {
     "end_time": "2024-01-27T06:15:45.766246200Z",
     "start_time": "2024-01-27T06:15:19.959452800Z"
    }
   },
   "id": "3b67a636f29a38d"
  },
  {
   "cell_type": "code",
   "execution_count": null,
   "outputs": [],
   "source": [
    "\"\"\" output\n",
    "> Entering new ConversationChain chain...\n",
    "Prompt after formatting:\n",
    "You are an assistant to a human, powered by a large language model trained by OpenAI.\n",
    "\n",
    "You are designed to be able to assist with a wide range of tasks, from answering simple questions to providing in-depth explanations and discussions on a wide range of topics. As a language model, you are able to generate human-like text based on the input you receive, allowing you to engage in natural-sounding conversations and provide responses that are coherent and relevant to the topic at hand.\n",
    "\n",
    "You are constantly learning and improving, and your capabilities are constantly evolving. You are able to process and understand large amounts of text, and can use this knowledge to provide accurate and informative responses to a wide range of questions. You have access to some personalized information provided by the human in the Context section below. Additionally, you are able to generate your own text based on the input you receive, allowing you to engage in discussions and provide explanations and descriptions on a wide range of topics.\n",
    "\n",
    "Overall, you are a powerful tool that can help with a wide range of tasks and provide valuable insights and information on a wide range of topics. Whether the human needs help with a specific question or just wants to have a conversation about a particular topic, you are here to assist.\n",
    "\n",
    "Context:\n",
    "{'Deven': '', 'Sam': ''}\n",
    "\n",
    "Current conversation:\n",
    "\n",
    "Last line:\n",
    "Human: Deven & Sam are working on a hackathon project\n",
    "You:\n",
    "\"\"\"\n",
    "\n",
    "\"\"\" output\n",
    "\"That's great to hear! Hackathons are a fantastic way to collaborate and work on innovative projects. Is there anything specific you would like assistance with regarding your hackathon project?\"\n",
    "\"\"\""
   ],
   "metadata": {
    "collapsed": false
   },
   "id": "325ee908b9a74bd7"
  },
  {
   "cell_type": "code",
   "execution_count": 11,
   "outputs": [
    {
     "data": {
      "text/plain": "{'Deven': 'Deven is currently working on a hackathon project with Sam.',\n 'Sam': 'Sam is currently working on a hackathon project with Deven.'}"
     },
     "execution_count": 11,
     "metadata": {},
     "output_type": "execute_result"
    }
   ],
   "source": [
    "conversation.memory.entity_store.store\n",
    " "
   ],
   "metadata": {
    "collapsed": false,
    "ExecuteTime": {
     "end_time": "2024-01-27T06:15:45.863312600Z",
     "start_time": "2024-01-27T06:15:45.845260600Z"
    }
   },
   "id": "cb7a1e95fb4f8f82"
  },
  {
   "cell_type": "code",
   "execution_count": null,
   "outputs": [],
   "source": [
    "\"\"\" output\n",
    "{'Deven': 'Deven is currently working on a hackathon project with Sam.',\n",
    " 'Sam': 'Sam is currently working on a hackathon project with Deven.'}\n",
    "\"\"\""
   ],
   "metadata": {
    "collapsed": false
   },
   "id": "9d6eb40efe2cb8b3"
  },
  {
   "cell_type": "code",
   "execution_count": 12,
   "outputs": [
    {
     "name": "stdout",
     "output_type": "stream",
     "text": [
      "\n",
      "\n",
      "\u001B[1m> Entering new ConversationChain chain...\u001B[0m\n",
      "Prompt after formatting:\n",
      "\u001B[32;1m\u001B[1;3mYou are an assistant to a human, powered by a large language model trained by OpenAI.\n",
      "\n",
      "You are designed to be able to assist with a wide range of tasks, from answering simple questions to providing in-depth explanations and discussions on a wide range of topics. As a language model, you are able to generate human-like text based on the input you receive, allowing you to engage in natural-sounding conversations and provide responses that are coherent and relevant to the topic at hand.\n",
      "\n",
      "You are constantly learning and improving, and your capabilities are constantly evolving. You are able to process and understand large amounts of text, and can use this knowledge to provide accurate and informative responses to a wide range of questions. You have access to some personalized information provided by the human in the Context section below. Additionally, you are able to generate your own text based on the input you receive, allowing you to engage in discussions and provide explanations and descriptions on a wide range of topics.\n",
      "\n",
      "Overall, you are a powerful tool that can help with a wide range of tasks and provide valuable insights and information on a wide range of topics. Whether the human needs help with a specific question or just wants to have a conversation about a particular topic, you are here to assist.\n",
      "\n",
      "Context:\n",
      "{'Langchain': '', 'Deven': 'Deven is currently working on a hackathon project with Sam.', 'Sam': 'Sam is currently working on a hackathon project with Deven.'}\n",
      "\n",
      "Current conversation:\n",
      "Human: Deven & Sam are working on a hackathon project\n",
      "AI: That's great to hear! Hackathons are a fantastic way to collaborate and work on innovative projects. Is there anything specific you would like assistance with regarding your hackathon project?\n",
      "Last line:\n",
      "Human: They are trying to add more complex memory structures to Langchain\n",
      "You:\u001B[0m\n",
      "\n",
      "\u001B[1m> Finished chain.\u001B[0m\n"
     ]
    },
    {
     "data": {
      "text/plain": "\"That sounds interesting! Adding more complex memory structures to Langchain can greatly enhance its capabilities. Memory structures can help store and retrieve information efficiently, which is crucial for many applications. There are various ways to implement memory structures, such as using data structures like linked lists, arrays, or hash tables. It would be helpful to know more about the specific requirements and goals of Deven and Sam's project to provide more tailored assistance. Are there any particular challenges they are facing or specific questions you have regarding the implementation of these memory structures?\""
     },
     "execution_count": 12,
     "metadata": {},
     "output_type": "execute_result"
    }
   ],
   "source": [
    "conversation.predict(input=\"They are trying to add more complex memory structures to Langchain\")\n",
    " "
   ],
   "metadata": {
    "collapsed": false,
    "ExecuteTime": {
     "end_time": "2024-01-27T06:17:34.682635500Z",
     "start_time": "2024-01-27T06:16:03.726830700Z"
    }
   },
   "id": "c6380c32ea322dc2"
  },
  {
   "cell_type": "code",
   "execution_count": null,
   "outputs": [],
   "source": [
    "\"\"\" output\n",
    "> Entering new ConversationChain chain...\n",
    "Prompt after formatting:\n",
    "You are an assistant to a human, powered by a large language model trained by OpenAI.\n",
    "\n",
    "You are designed to be able to assist with a wide range of tasks, from answering simple questions to providing in-depth explanations and discussions on a wide range of topics. As a language model, you are able to generate human-like text based on the input you receive, allowing you to engage in natural-sounding conversations and provide responses that are coherent and relevant to the topic at hand.\n",
    "\n",
    "You are constantly learning and improving, and your capabilities are constantly evolving. You are able to process and understand large amounts of text, and can use this knowledge to provide accurate and informative responses to a wide range of questions. You have access to some personalized information provided by the human in the Context section below. Additionally, you are able to generate your own text based on the input you receive, allowing you to engage in discussions and provide explanations and descriptions on a wide range of topics.\n",
    "\n",
    "Overall, you are a powerful tool that can help with a wide range of tasks and provide valuable insights and information on a wide range of topics. Whether the human needs help with a specific question or just wants to have a conversation about a particular topic, you are here to assist.\n",
    "\n",
    "Context:\n",
    "{'Langchain': '', 'Deven': 'Deven is currently working on a hackathon project with Sam.', 'Sam': 'Sam is currently working on a hackathon project with Deven.'}\n",
    "\n",
    "Current conversation:\n",
    "Human: Deven & Sam are working on a hackathon project\n",
    "AI: That's great to hear! Hackathons are a fantastic way to collaborate and work on innovative projects. Is there anything specific you would like assistance with regarding your hackathon project?\n",
    "Last line:\n",
    "Human: They are trying to add more complex memory structures to Langchain\n",
    "You:\n",
    "\n",
    "> Finished chain.\n",
    "\"\"\"\n",
    "\n",
    "\"\"\" output\n",
    "\"That sounds interesting! Adding more complex memory structures to Langchain can greatly enhance its capabilities. Memory structures can help store and retrieve information efficiently, which is crucial for many applications. There are various ways to implement memory structures, such as using data structures like linked lists, arrays, or hash tables. It would be helpful to know more about the specific requirements and goals of Deven and Sam's project to provide more tailored assistance. Are there any particular challenges they are facing or specific questions you have regarding the implementation of these memory structures?\"\n",
    "\"\"\""
   ],
   "metadata": {
    "collapsed": false
   },
   "id": "1c0cf8a1b34c6e83"
  },
  {
   "cell_type": "code",
   "execution_count": 13,
   "outputs": [
    {
     "name": "stdout",
     "output_type": "stream",
     "text": [
      "\n",
      "\n",
      "\u001B[1m> Entering new ConversationChain chain...\u001B[0m\n",
      "Prompt after formatting:\n",
      "\u001B[32;1m\u001B[1;3mYou are an assistant to a human, powered by a large language model trained by OpenAI.\n",
      "\n",
      "You are designed to be able to assist with a wide range of tasks, from answering simple questions to providing in-depth explanations and discussions on a wide range of topics. As a language model, you are able to generate human-like text based on the input you receive, allowing you to engage in natural-sounding conversations and provide responses that are coherent and relevant to the topic at hand.\n",
      "\n",
      "You are constantly learning and improving, and your capabilities are constantly evolving. You are able to process and understand large amounts of text, and can use this knowledge to provide accurate and informative responses to a wide range of questions. You have access to some personalized information provided by the human in the Context section below. Additionally, you are able to generate your own text based on the input you receive, allowing you to engage in discussions and provide explanations and descriptions on a wide range of topics.\n",
      "\n",
      "Overall, you are a powerful tool that can help with a wide range of tasks and provide valuable insights and information on a wide range of topics. Whether the human needs help with a specific question or just wants to have a conversation about a particular topic, you are here to assist.\n",
      "\n",
      "Context:\n",
      "{'Deven': 'Deven is working on adding more complex memory structures to Langchain.', 'Sam': 'Sam is currently working on a hackathon project with Deven and they are trying to add more complex memory structures to Langchain.'}\n",
      "\n",
      "Current conversation:\n",
      "Human: Deven & Sam are working on a hackathon project\n",
      "AI: That's great to hear! Hackathons are a fantastic way to collaborate and work on innovative projects. Is there anything specific you would like assistance with regarding your hackathon project?\n",
      "Human: They are trying to add more complex memory structures to Langchain\n",
      "AI: That sounds interesting! Adding more complex memory structures to Langchain can greatly enhance its capabilities. Memory structures can help store and retrieve information efficiently, which is crucial for many applications. There are various ways to implement memory structures, such as using data structures like linked lists, arrays, or hash tables. It would be helpful to know more about the specific requirements and goals of Deven and Sam's project to provide more tailored assistance. Are there any particular challenges they are facing or specific questions you have regarding the implementation of these memory structures?\n",
      "Last line:\n",
      "Human: They are adding in a key-value store for entities mentioned so far in the conversation.\n",
      "You:\u001B[0m\n",
      "\n",
      "\u001B[1m> Finished chain.\u001B[0m\n"
     ]
    },
    {
     "data": {
      "text/plain": "\"That's a great addition! A key-value store can be a powerful tool for storing and retrieving information efficiently. It allows you to associate a unique key with each entity mentioned in the conversation and store its corresponding value. This can be particularly useful for keeping track of important information and quickly accessing it when needed.\\n\\nTo implement a key-value store, you can use various data structures depending on the specific requirements of Deven and Sam's project. One common data structure for this purpose is a hash table, which provides fast access to values based on their keys. Another option is a balanced search tree, such as a B-tree or an AVL tree, which can efficiently handle large amounts of data and support operations like insertion, deletion, and search.\\n\\nWhen adding a key-value store, it's important to consider factors like scalability, performance, and memory usage. Depending on the size and complexity of the project, you may need to optimize the data structure and algorithms used in the key-value store implementation.\\n\\nIf you have any specific questions or need further assistance with implementing the key-value store for entities mentioned in the conversation, feel free to ask!\""
     },
     "execution_count": 13,
     "metadata": {},
     "output_type": "execute_result"
    }
   ],
   "source": [
    "conversation.predict(input=\"They are adding in a key-value store for entities mentioned so far in the conversation.\")\n",
    " "
   ],
   "metadata": {
    "collapsed": false,
    "ExecuteTime": {
     "end_time": "2024-01-27T06:18:46.533979600Z",
     "start_time": "2024-01-27T06:17:34.683635800Z"
    }
   },
   "id": "73e9690820758b24"
  },
  {
   "cell_type": "code",
   "execution_count": null,
   "outputs": [],
   "source": [
    "\"\"\" output\n",
    "> Entering new ConversationChain chain...\n",
    "Prompt after formatting:\n",
    "You are an assistant to a human, powered by a large language model trained by OpenAI.\n",
    "\n",
    "You are designed to be able to assist with a wide range of tasks, from answering simple questions to providing in-depth explanations and discussions on a wide range of topics. As a language model, you are able to generate human-like text based on the input you receive, allowing you to engage in natural-sounding conversations and provide responses that are coherent and relevant to the topic at hand.\n",
    "\n",
    "You are constantly learning and improving, and your capabilities are constantly evolving. You are able to process and understand large amounts of text, and can use this knowledge to provide accurate and informative responses to a wide range of questions. You have access to some personalized information provided by the human in the Context section below. Additionally, you are able to generate your own text based on the input you receive, allowing you to engage in discussions and provide explanations and descriptions on a wide range of topics.\n",
    "\n",
    "Overall, you are a powerful tool that can help with a wide range of tasks and provide valuable insights and information on a wide range of topics. Whether the human needs help with a specific question or just wants to have a conversation about a particular topic, you are here to assist.\n",
    "\n",
    "Context:\n",
    "{'Deven': 'Deven is working on adding more complex memory structures to Langchain.', 'Sam': 'Sam is currently working on a hackathon project with Deven and they are trying to add more complex memory structures to Langchain.'}\n",
    "\n",
    "Current conversation:\n",
    "Human: Deven & Sam are working on a hackathon project\n",
    "AI: That's great to hear! Hackathons are a fantastic way to collaborate and work on innovative projects. Is there anything specific you would like assistance with regarding your hackathon project?\n",
    "Human: They are trying to add more complex memory structures to Langchain\n",
    "AI: That sounds interesting! Adding more complex memory structures to Langchain can greatly enhance its capabilities. Memory structures can help store and retrieve information efficiently, which is crucial for many applications. There are various ways to implement memory structures, such as using data structures like linked lists, arrays, or hash tables. It would be helpful to know more about the specific requirements and goals of Deven and Sam's project to provide more tailored assistance. Are there any particular challenges they are facing or specific questions you have regarding the implementation of these memory structures?\n",
    "Last line:\n",
    "Human: They are adding in a key-value store for entities mentioned so far in the conversation.\n",
    "You:\n",
    "\n",
    "> Finished chain.\n",
    "\"\"\"\n",
    "\n",
    "\"\"\" output\n",
    "\"That's a great addition! A key-value store can be a powerful tool for storing and retrieving information efficiently. It allows you to associate a unique key with each entity mentioned in the conversation and store its corresponding value. This can be particularly useful for keeping track of important information and quickly accessing it when needed.\\n\\nTo implement a key-value store, you can use various data structures depending on the specific requirements of Deven and Sam's project. One common data structure for this purpose is a hash table, which provides fast access to values based on their keys. Another option is a balanced search tree, such as a B-tree or an AVL tree, which can efficiently handle large amounts of data and support operations like insertion, deletion, and search.\\n\\nWhen adding a key-value store, it's important to consider factors like scalability, performance, and memory usage. Depending on the size and complexity of the project, you may need to optimize the data structure and algorithms used in the key-value store implementation.\\n\\nIf you have any specific questions or need further assistance with implementing the key-value store for entities mentioned in the conversation, feel free to ask!\"\n",
    "\"\"\""
   ],
   "metadata": {
    "collapsed": false
   },
   "id": "40c18ade9574eaae"
  },
  {
   "cell_type": "code",
   "execution_count": 14,
   "outputs": [
    {
     "name": "stdout",
     "output_type": "stream",
     "text": [
      "\n",
      "\n",
      "\u001B[1m> Entering new ConversationChain chain...\u001B[0m\n",
      "Prompt after formatting:\n",
      "\u001B[32;1m\u001B[1;3mYou are an assistant to a human, powered by a large language model trained by OpenAI.\n",
      "\n",
      "You are designed to be able to assist with a wide range of tasks, from answering simple questions to providing in-depth explanations and discussions on a wide range of topics. As a language model, you are able to generate human-like text based on the input you receive, allowing you to engage in natural-sounding conversations and provide responses that are coherent and relevant to the topic at hand.\n",
      "\n",
      "You are constantly learning and improving, and your capabilities are constantly evolving. You are able to process and understand large amounts of text, and can use this knowledge to provide accurate and informative responses to a wide range of questions. You have access to some personalized information provided by the human in the Context section below. Additionally, you are able to generate your own text based on the input you receive, allowing you to engage in discussions and provide explanations and descriptions on a wide range of topics.\n",
      "\n",
      "Overall, you are a powerful tool that can help with a wide range of tasks and provide valuable insights and information on a wide range of topics. Whether the human needs help with a specific question or just wants to have a conversation about a particular topic, you are here to assist.\n",
      "\n",
      "Context:\n",
      "{'Deven & Sam': ''}\n",
      "\n",
      "Current conversation:\n",
      "Human: Deven & Sam are working on a hackathon project\n",
      "AI: That's great to hear! Hackathons are a fantastic way to collaborate and work on innovative projects. Is there anything specific you would like assistance with regarding your hackathon project?\n",
      "Human: They are trying to add more complex memory structures to Langchain\n",
      "AI: That sounds interesting! Adding more complex memory structures to Langchain can greatly enhance its capabilities. Memory structures can help store and retrieve information efficiently, which is crucial for many applications. There are various ways to implement memory structures, such as using data structures like linked lists, arrays, or hash tables. It would be helpful to know more about the specific requirements and goals of Deven and Sam's project to provide more tailored assistance. Are there any particular challenges they are facing or specific questions you have regarding the implementation of these memory structures?\n",
      "Human: They are adding in a key-value store for entities mentioned so far in the conversation.\n",
      "AI: That's a great addition! A key-value store can be a powerful tool for storing and retrieving information efficiently. It allows you to associate a unique key with each entity mentioned in the conversation and store its corresponding value. This can be particularly useful for keeping track of important information and quickly accessing it when needed.\n",
      "\n",
      "To implement a key-value store, you can use various data structures depending on the specific requirements of Deven and Sam's project. One common data structure for this purpose is a hash table, which provides fast access to values based on their keys. Another option is a balanced search tree, such as a B-tree or an AVL tree, which can efficiently handle large amounts of data and support operations like insertion, deletion, and search.\n",
      "\n",
      "When adding a key-value store, it's important to consider factors like scalability, performance, and memory usage. Depending on the size and complexity of the project, you may need to optimize the data structure and algorithms used in the key-value store implementation.\n",
      "\n",
      "If you have any specific questions or need further assistance with implementing the key-value store for entities mentioned in the conversation, feel free to ask!\n",
      "Last line:\n",
      "Human: What do you know about Deven & Sam?\n",
      "You:\u001B[0m\n",
      "\n",
      "\u001B[1m> Finished chain.\u001B[0m\n"
     ]
    },
    {
     "data": {
      "text/plain": "\"As an AI language model, I don't have access to personal information about individuals unless it has been shared with me in the course of our conversation. I can provide information and assistance on a wide range of topics, but I don't have access to personal data about specific individuals unless it has been shared with me. My primary function is to provide information and answer questions to the best of my knowledge and abilities.\""
     },
     "execution_count": 14,
     "metadata": {},
     "output_type": "execute_result"
    }
   ],
   "source": [
    "conversation.predict(input=\"What do you know about Deven & Sam?\")\n"
   ],
   "metadata": {
    "collapsed": false,
    "ExecuteTime": {
     "end_time": "2024-01-27T06:19:53.179166900Z",
     "start_time": "2024-01-27T06:18:46.535987400Z"
    }
   },
   "id": "f53097e955304ed5"
  },
  {
   "cell_type": "code",
   "execution_count": null,
   "outputs": [],
   "source": [
    "\"\"\" output\n",
    "> Entering new ConversationChain chain...\n",
    "Prompt after formatting:\n",
    "You are an assistant to a human, powered by a large language model trained by OpenAI.\n",
    "\n",
    "You are designed to be able to assist with a wide range of tasks, from answering simple questions to providing in-depth explanations and discussions on a wide range of topics. As a language model, you are able to generate human-like text based on the input you receive, allowing you to engage in natural-sounding conversations and provide responses that are coherent and relevant to the topic at hand.\n",
    "\n",
    "You are constantly learning and improving, and your capabilities are constantly evolving. You are able to process and understand large amounts of text, and can use this knowledge to provide accurate and informative responses to a wide range of questions. You have access to some personalized information provided by the human in the Context section below. Additionally, you are able to generate your own text based on the input you receive, allowing you to engage in discussions and provide explanations and descriptions on a wide range of topics.\n",
    "\n",
    "Overall, you are a powerful tool that can help with a wide range of tasks and provide valuable insights and information on a wide range of topics. Whether the human needs help with a specific question or just wants to have a conversation about a particular topic, you are here to assist.\n",
    "\n",
    "Context:\n",
    "{'Deven & Sam': ''}\n",
    "\n",
    "Current conversation:\n",
    "Human: Deven & Sam are working on a hackathon project\n",
    "AI: That's great to hear! Hackathons are a fantastic way to collaborate and work on innovative projects. Is there anything specific you would like assistance with regarding your hackathon project?\n",
    "Human: They are trying to add more complex memory structures to Langchain\n",
    "AI: That sounds interesting! Adding more complex memory structures to Langchain can greatly enhance its capabilities. Memory structures can help store and retrieve information efficiently, which is crucial for many applications. There are various ways to implement memory structures, such as using data structures like linked lists, arrays, or hash tables. It would be helpful to know more about the specific requirements and goals of Deven and Sam's project to provide more tailored assistance. Are there any particular challenges they are facing or specific questions you have regarding the implementation of these memory structures?\n",
    "Human: They are adding in a key-value store for entities mentioned so far in the conversation.\n",
    "AI: That's a great addition! A key-value store can be a powerful tool for storing and retrieving information efficiently. It allows you to associate a unique key with each entity mentioned in the conversation and store its corresponding value. This can be particularly useful for keeping track of important information and quickly accessing it when needed.\n",
    "\n",
    "To implement a key-value store, you can use various data structures depending on the specific requirements of Deven and Sam's project. One common data structure for this purpose is a hash table, which provides fast access to values based on their keys. Another option is a balanced search tree, such as a B-tree or an AVL tree, which can efficiently handle large amounts of data and support operations like insertion, deletion, and search.\n",
    "\n",
    "When adding a key-value store, it's important to consider factors like scalability, performance, and memory usage. Depending on the size and complexity of the project, you may need to optimize the data structure and algorithms used in the key-value store implementation.\n",
    "\n",
    "If you have any specific questions or need further assistance with implementing the key-value store for entities mentioned in the conversation, feel free to ask!\n",
    "Last line:\n",
    "Human: What do you know about Deven & Sam?\n",
    "You:\n",
    "\n",
    "> Finished chain.\n",
    "\"\"\"\n",
    "\n",
    "\"\"\" output\n",
    "\"As an AI language model, I don't have access to personal information about individuals unless it has been shared with me in the course of our conversation. I can provide information and assistance on a wide range of topics, but I don't have access to personal data about specific individuals unless it has been shared with me. My primary function is to provide information and answer questions to the best of my knowledge and abilities.\"\n",
    "\"\"\""
   ],
   "metadata": {
    "collapsed": false
   },
   "id": "215d66fb4d4ff4fb"
  },
  {
   "cell_type": "code",
   "execution_count": 16,
   "outputs": [
    {
     "name": "stdout",
     "output_type": "stream",
     "text": [
      "{'Deven': 'Deven is adding in a key-value store for entities mentioned so far '\n",
      "          'in the conversation.',\n",
      " 'Deven & Sam': \"As an AI language model, I don't have access to personal \"\n",
      "                'information about individuals unless it has been shared with '\n",
      "                'me in the course of our conversation.',\n",
      " 'Langchain': 'Langchain is being enhanced with more complex memory '\n",
      "              'structures.',\n",
      " 'Sam': 'Sam is currently working on a hackathon project with Deven and they '\n",
      "        'are adding in a key-value store for entities mentioned so far in the '\n",
      "        'conversation.'}\n"
     ]
    }
   ],
   "source": [
    "\"\"\"\n",
    "我们还可以直接检查存储器。在以下示例中，我们直接查看它，然后通过一些添加信息的示例来观察它的变化。\n",
    "\"\"\"\n",
    "from pprint import pprint\n",
    "pprint(conversation.memory.entity_store.store)\n",
    " "
   ],
   "metadata": {
    "collapsed": false,
    "ExecuteTime": {
     "end_time": "2024-01-27T06:19:56.842236200Z",
     "start_time": "2024-01-27T06:19:56.822232Z"
    }
   },
   "id": "c36ad54a95c5bd2f"
  },
  {
   "cell_type": "code",
   "execution_count": null,
   "outputs": [],
   "source": [
    "\"\"\" output\n",
    "{'Deven': 'Deven is adding in a key-value store for entities mentioned so far '\n",
    "          'in the conversation.',\n",
    " 'Deven & Sam': \"As an AI language model, I don't have access to personal \"\n",
    "                'information about individuals unless it has been shared with '\n",
    "                'me in the course of our conversation.',\n",
    " 'Langchain': 'Langchain is being enhanced with more complex memory '\n",
    "              'structures.',\n",
    " 'Sam': 'Sam is currently working on a hackathon project with Deven and they '\n",
    "        'are adding in a key-value store for entities mentioned so far in the '\n",
    "        'conversation.'}\n",
    "\"\"\""
   ],
   "metadata": {
    "collapsed": false
   },
   "id": "91c5bf9d7a7f751b"
  },
  {
   "cell_type": "code",
   "execution_count": 17,
   "outputs": [
    {
     "name": "stdout",
     "output_type": "stream",
     "text": [
      "\n",
      "\n",
      "\u001B[1m> Entering new ConversationChain chain...\u001B[0m\n",
      "Prompt after formatting:\n",
      "\u001B[32;1m\u001B[1;3mYou are an assistant to a human, powered by a large language model trained by OpenAI.\n",
      "\n",
      "You are designed to be able to assist with a wide range of tasks, from answering simple questions to providing in-depth explanations and discussions on a wide range of topics. As a language model, you are able to generate human-like text based on the input you receive, allowing you to engage in natural-sounding conversations and provide responses that are coherent and relevant to the topic at hand.\n",
      "\n",
      "You are constantly learning and improving, and your capabilities are constantly evolving. You are able to process and understand large amounts of text, and can use this knowledge to provide accurate and informative responses to a wide range of questions. You have access to some personalized information provided by the human in the Context section below. Additionally, you are able to generate your own text based on the input you receive, allowing you to engage in discussions and provide explanations and descriptions on a wide range of topics.\n",
      "\n",
      "Overall, you are a powerful tool that can help with a wide range of tasks and provide valuable insights and information on a wide range of topics. Whether the human needs help with a specific question or just wants to have a conversation about a particular topic, you are here to assist.\n",
      "\n",
      "Context:\n",
      "{'Sam': 'Sam is currently working on a hackathon project with Deven and they are adding in a key-value store for entities mentioned so far in the conversation.', 'Daimon': ''}\n",
      "\n",
      "Current conversation:\n",
      "Human: They are trying to add more complex memory structures to Langchain\n",
      "AI: That sounds interesting! Adding more complex memory structures to Langchain can greatly enhance its capabilities. Memory structures can help store and retrieve information efficiently, which is crucial for many applications. There are various ways to implement memory structures, such as using data structures like linked lists, arrays, or hash tables. It would be helpful to know more about the specific requirements and goals of Deven and Sam's project to provide more tailored assistance. Are there any particular challenges they are facing or specific questions you have regarding the implementation of these memory structures?\n",
      "Human: They are adding in a key-value store for entities mentioned so far in the conversation.\n",
      "AI: That's a great addition! A key-value store can be a powerful tool for storing and retrieving information efficiently. It allows you to associate a unique key with each entity mentioned in the conversation and store its corresponding value. This can be particularly useful for keeping track of important information and quickly accessing it when needed.\n",
      "\n",
      "To implement a key-value store, you can use various data structures depending on the specific requirements of Deven and Sam's project. One common data structure for this purpose is a hash table, which provides fast access to values based on their keys. Another option is a balanced search tree, such as a B-tree or an AVL tree, which can efficiently handle large amounts of data and support operations like insertion, deletion, and search.\n",
      "\n",
      "When adding a key-value store, it's important to consider factors like scalability, performance, and memory usage. Depending on the size and complexity of the project, you may need to optimize the data structure and algorithms used in the key-value store implementation.\n",
      "\n",
      "If you have any specific questions or need further assistance with implementing the key-value store for entities mentioned in the conversation, feel free to ask!\n",
      "Human: What do you know about Deven & Sam?\n",
      "AI: As an AI language model, I don't have access to personal information about individuals unless it has been shared with me in the course of our conversation. I can provide information and assistance on a wide range of topics, but I don't have access to personal data about specific individuals unless it has been shared with me. My primary function is to provide information and answer questions to the best of my knowledge and abilities.\n",
      "Last line:\n",
      "Human: Sam is the founder of a company called Daimon.\n",
      "You:\u001B[0m\n",
      "\n",
      "\u001B[1m> Finished chain.\u001B[0m\n"
     ]
    },
    {
     "data": {
      "text/plain": "\"That's interesting to know! Sam being the founder of a company called Daimon indicates that they have entrepreneurial experience and have taken the initiative to start their own business. Being a founder often involves taking on various responsibilities, such as setting the vision and direction of the company, making strategic decisions, and overseeing its operations. It requires a combination of leadership skills, business acumen, and a strong understanding of the industry in which the company operates.\\n\\nIf there's anything specific you would like to know about Sam or their company, please let me know and I'll do my best to assist you!\""
     },
     "execution_count": 17,
     "metadata": {},
     "output_type": "execute_result"
    }
   ],
   "source": [
    "conversation.predict(input=\"Sam is the founder of a company called Daimon.\")\n",
    " "
   ],
   "metadata": {
    "collapsed": false,
    "ExecuteTime": {
     "end_time": "2024-01-27T06:21:21.997247200Z",
     "start_time": "2024-01-27T06:20:11.692266800Z"
    }
   },
   "id": "65cded6d3941021e"
  },
  {
   "cell_type": "code",
   "execution_count": null,
   "outputs": [],
   "source": [
    "\"\"\" output\n",
    "> Entering new ConversationChain chain...\n",
    "Prompt after formatting:\n",
    "You are an assistant to a human, powered by a large language model trained by OpenAI.\n",
    "\n",
    "You are designed to be able to assist with a wide range of tasks, from answering simple questions to providing in-depth explanations and discussions on a wide range of topics. As a language model, you are able to generate human-like text based on the input you receive, allowing you to engage in natural-sounding conversations and provide responses that are coherent and relevant to the topic at hand.\n",
    "\n",
    "You are constantly learning and improving, and your capabilities are constantly evolving. You are able to process and understand large amounts of text, and can use this knowledge to provide accurate and informative responses to a wide range of questions. You have access to some personalized information provided by the human in the Context section below. Additionally, you are able to generate your own text based on the input you receive, allowing you to engage in discussions and provide explanations and descriptions on a wide range of topics.\n",
    "\n",
    "Overall, you are a powerful tool that can help with a wide range of tasks and provide valuable insights and information on a wide range of topics. Whether the human needs help with a specific question or just wants to have a conversation about a particular topic, you are here to assist.\n",
    "\n",
    "Context:\n",
    "{'Sam': 'Sam is currently working on a hackathon project with Deven and they are adding in a key-value store for entities mentioned so far in the conversation.', 'Daimon': ''}\n",
    "\n",
    "Current conversation:\n",
    "Human: They are trying to add more complex memory structures to Langchain\n",
    "AI: That sounds interesting! Adding more complex memory structures to Langchain can greatly enhance its capabilities. Memory structures can help store and retrieve information efficiently, which is crucial for many applications. There are various ways to implement memory structures, such as using data structures like linked lists, arrays, or hash tables. It would be helpful to know more about the specific requirements and goals of Deven and Sam's project to provide more tailored assistance. Are there any particular challenges they are facing or specific questions you have regarding the implementation of these memory structures?\n",
    "Human: They are adding in a key-value store for entities mentioned so far in the conversation.\n",
    "AI: That's a great addition! A key-value store can be a powerful tool for storing and retrieving information efficiently. It allows you to associate a unique key with each entity mentioned in the conversation and store its corresponding value. This can be particularly useful for keeping track of important information and quickly accessing it when needed.\n",
    "\n",
    "To implement a key-value store, you can use various data structures depending on the specific requirements of Deven and Sam's project. One common data structure for this purpose is a hash table, which provides fast access to values based on their keys. Another option is a balanced search tree, such as a B-tree or an AVL tree, which can efficiently handle large amounts of data and support operations like insertion, deletion, and search.\n",
    "\n",
    "When adding a key-value store, it's important to consider factors like scalability, performance, and memory usage. Depending on the size and complexity of the project, you may need to optimize the data structure and algorithms used in the key-value store implementation.\n",
    "\n",
    "If you have any specific questions or need further assistance with implementing the key-value store for entities mentioned in the conversation, feel free to ask!\n",
    "Human: What do you know about Deven & Sam?\n",
    "AI: As an AI language model, I don't have access to personal information about individuals unless it has been shared with me in the course of our conversation. I can provide information and assistance on a wide range of topics, but I don't have access to personal data about specific individuals unless it has been shared with me. My primary function is to provide information and answer questions to the best of my knowledge and abilities.\n",
    "Last line:\n",
    "Human: Sam is the founder of a company called Daimon.\n",
    "You:\n",
    "\n",
    "> Finished chain.\n",
    "\"\"\"\n",
    "\n",
    "\"\"\" output\n",
    "\"That's interesting to know! Sam being the founder of a company called Daimon indicates that they have entrepreneurial experience and have taken the initiative to start their own business. Being a founder often involves taking on various responsibilities, such as setting the vision and direction of the company, making strategic decisions, and overseeing its operations. It requires a combination of leadership skills, business acumen, and a strong understanding of the industry in which the company operates.\\n\\nIf there's anything specific you would like to know about Sam or their company, please let me know and I'll do my best to assist you!\"\n",
    "\"\"\""
   ],
   "metadata": {
    "collapsed": false
   },
   "id": "c5864c70f10e4e53"
  },
  {
   "cell_type": "code",
   "execution_count": 18,
   "outputs": [
    {
     "name": "stdout",
     "output_type": "stream",
     "text": [
      "{'Daimon': 'Daimon is a company founded by Sam, indicating their '\n",
      "           'entrepreneurial experience and leadership in setting the vision '\n",
      "           'and direction of the company.',\n",
      " 'Deven': 'Deven is adding in a key-value store for entities mentioned so far '\n",
      "          'in the conversation.',\n",
      " 'Deven & Sam': \"As an AI language model, I don't have access to personal \"\n",
      "                'information about individuals unless it has been shared with '\n",
      "                'me in the course of our conversation.',\n",
      " 'Langchain': 'Langchain is being enhanced with more complex memory '\n",
      "              'structures.',\n",
      " 'Sam': 'Sam is the founder of a company called Daimon, indicating their '\n",
      "        'entrepreneurial experience and leadership in starting their own '\n",
      "        'business.'}\n"
     ]
    }
   ],
   "source": [
    "from pprint import pprint\n",
    "pprint(conversation.memory.entity_store.store)\n",
    " "
   ],
   "metadata": {
    "collapsed": false,
    "ExecuteTime": {
     "end_time": "2024-01-27T06:21:22.024861Z",
     "start_time": "2024-01-27T06:21:21.998246100Z"
    }
   },
   "id": "136cd317fee4e5c9"
  },
  {
   "cell_type": "code",
   "execution_count": null,
   "outputs": [],
   "source": [
    "\"\"\" output\n",
    "{'Daimon': 'Daimon is a company founded by Sam, indicating their '\n",
    "           'entrepreneurial experience and leadership in setting the vision '\n",
    "           'and direction of the company.',\n",
    " 'Deven': 'Deven is adding in a key-value store for entities mentioned so far '\n",
    "          'in the conversation.',\n",
    " 'Deven & Sam': \"As an AI language model, I don't have access to personal \"\n",
    "                'information about individuals unless it has been shared with '\n",
    "                'me in the course of our conversation.',\n",
    " 'Langchain': 'Langchain is being enhanced with more complex memory '\n",
    "              'structures.',\n",
    " 'Sam': 'Sam is the founder of a company called Daimon, indicating their '\n",
    "        'entrepreneurial experience and leadership in starting their own '\n",
    "        'business.'}\n",
    "\"\"\""
   ],
   "metadata": {
    "collapsed": false
   },
   "id": "3fe3509d360a4e70"
  },
  {
   "cell_type": "code",
   "execution_count": 19,
   "outputs": [
    {
     "name": "stdout",
     "output_type": "stream",
     "text": [
      "\n",
      "\n",
      "\u001B[1m> Entering new ConversationChain chain...\u001B[0m\n",
      "Prompt after formatting:\n",
      "\u001B[32;1m\u001B[1;3mYou are an assistant to a human, powered by a large language model trained by OpenAI.\n",
      "\n",
      "You are designed to be able to assist with a wide range of tasks, from answering simple questions to providing in-depth explanations and discussions on a wide range of topics. As a language model, you are able to generate human-like text based on the input you receive, allowing you to engage in natural-sounding conversations and provide responses that are coherent and relevant to the topic at hand.\n",
      "\n",
      "You are constantly learning and improving, and your capabilities are constantly evolving. You are able to process and understand large amounts of text, and can use this knowledge to provide accurate and informative responses to a wide range of questions. You have access to some personalized information provided by the human in the Context section below. Additionally, you are able to generate your own text based on the input you receive, allowing you to engage in discussions and provide explanations and descriptions on a wide range of topics.\n",
      "\n",
      "Overall, you are a powerful tool that can help with a wide range of tasks and provide valuable insights and information on a wide range of topics. Whether the human needs help with a specific question or just wants to have a conversation about a particular topic, you are here to assist.\n",
      "\n",
      "Context:\n",
      "{'Sam': 'Sam is the founder of a company called Daimon, indicating their entrepreneurial experience and leadership in starting their own business.', 'Daimon': 'Daimon is a company founded by Sam, indicating their entrepreneurial experience and leadership in setting the vision and direction of the company.'}\n",
      "\n",
      "Current conversation:\n",
      "Human: They are adding in a key-value store for entities mentioned so far in the conversation.\n",
      "AI: That's a great addition! A key-value store can be a powerful tool for storing and retrieving information efficiently. It allows you to associate a unique key with each entity mentioned in the conversation and store its corresponding value. This can be particularly useful for keeping track of important information and quickly accessing it when needed.\n",
      "\n",
      "To implement a key-value store, you can use various data structures depending on the specific requirements of Deven and Sam's project. One common data structure for this purpose is a hash table, which provides fast access to values based on their keys. Another option is a balanced search tree, such as a B-tree or an AVL tree, which can efficiently handle large amounts of data and support operations like insertion, deletion, and search.\n",
      "\n",
      "When adding a key-value store, it's important to consider factors like scalability, performance, and memory usage. Depending on the size and complexity of the project, you may need to optimize the data structure and algorithms used in the key-value store implementation.\n",
      "\n",
      "If you have any specific questions or need further assistance with implementing the key-value store for entities mentioned in the conversation, feel free to ask!\n",
      "Human: What do you know about Deven & Sam?\n",
      "AI: As an AI language model, I don't have access to personal information about individuals unless it has been shared with me in the course of our conversation. I can provide information and assistance on a wide range of topics, but I don't have access to personal data about specific individuals unless it has been shared with me. My primary function is to provide information and answer questions to the best of my knowledge and abilities.\n",
      "Human: Sam is the founder of a company called Daimon.\n",
      "AI: That's interesting to know! Sam being the founder of a company called Daimon indicates that they have entrepreneurial experience and have taken the initiative to start their own business. Being a founder often involves taking on various responsibilities, such as setting the vision and direction of the company, making strategic decisions, and overseeing its operations. It requires a combination of leadership skills, business acumen, and a strong understanding of the industry in which the company operates.\n",
      "\n",
      "If there's anything specific you would like to know about Sam or their company, please let me know and I'll do my best to assist you!\n",
      "Last line:\n",
      "Human: What do you know about Sam?\n",
      "You:\u001B[0m\n",
      "\n",
      "\u001B[1m> Finished chain.\u001B[0m\n"
     ]
    },
    {
     "data": {
      "text/plain": "'Sam is the founder of a company called Daimon, indicating their entrepreneurial experience and leadership in starting their own business. As a founder, Sam is likely to have a strong understanding of the industry in which the company operates and has taken on various responsibilities, such as setting the vision and direction of the company, making strategic decisions, and overseeing its operations. If you have any specific questions about Sam or would like to know more about their background or achievements, feel free to ask!'"
     },
     "execution_count": 19,
     "metadata": {},
     "output_type": "execute_result"
    }
   ],
   "source": [
    "conversation.predict(input=\"What do you know about Sam?\")\n"
   ],
   "metadata": {
    "collapsed": false,
    "ExecuteTime": {
     "end_time": "2024-01-27T06:22:30.625475Z",
     "start_time": "2024-01-27T06:21:22.013847300Z"
    }
   },
   "id": "7af3114cb80947f8"
  },
  {
   "cell_type": "code",
   "execution_count": null,
   "outputs": [],
   "source": [
    "\"\"\" output\n",
    "> Entering new ConversationChain chain...\n",
    "Prompt after formatting:\n",
    "You are an assistant to a human, powered by a large language model trained by OpenAI.\n",
    "\n",
    "You are designed to be able to assist with a wide range of tasks, from answering simple questions to providing in-depth explanations and discussions on a wide range of topics. As a language model, you are able to generate human-like text based on the input you receive, allowing you to engage in natural-sounding conversations and provide responses that are coherent and relevant to the topic at hand.\n",
    "\n",
    "You are constantly learning and improving, and your capabilities are constantly evolving. You are able to process and understand large amounts of text, and can use this knowledge to provide accurate and informative responses to a wide range of questions. You have access to some personalized information provided by the human in the Context section below. Additionally, you are able to generate your own text based on the input you receive, allowing you to engage in discussions and provide explanations and descriptions on a wide range of topics.\n",
    "\n",
    "Overall, you are a powerful tool that can help with a wide range of tasks and provide valuable insights and information on a wide range of topics. Whether the human needs help with a specific question or just wants to have a conversation about a particular topic, you are here to assist.\n",
    "\n",
    "Context:\n",
    "{'Sam': 'Sam is the founder of a company called Daimon, indicating their entrepreneurial experience and leadership in starting their own business.', 'Daimon': 'Daimon is a company founded by Sam, indicating their entrepreneurial experience and leadership in setting the vision and direction of the company.'}\n",
    "\n",
    "Current conversation:\n",
    "Human: They are adding in a key-value store for entities mentioned so far in the conversation.\n",
    "AI: That's a great addition! A key-value store can be a powerful tool for storing and retrieving information efficiently. It allows you to associate a unique key with each entity mentioned in the conversation and store its corresponding value. This can be particularly useful for keeping track of important information and quickly accessing it when needed.\n",
    "\n",
    "To implement a key-value store, you can use various data structures depending on the specific requirements of Deven and Sam's project. One common data structure for this purpose is a hash table, which provides fast access to values based on their keys. Another option is a balanced search tree, such as a B-tree or an AVL tree, which can efficiently handle large amounts of data and support operations like insertion, deletion, and search.\n",
    "\n",
    "When adding a key-value store, it's important to consider factors like scalability, performance, and memory usage. Depending on the size and complexity of the project, you may need to optimize the data structure and algorithms used in the key-value store implementation.\n",
    "\n",
    "If you have any specific questions or need further assistance with implementing the key-value store for entities mentioned in the conversation, feel free to ask!\n",
    "Human: What do you know about Deven & Sam?\n",
    "AI: As an AI language model, I don't have access to personal information about individuals unless it has been shared with me in the course of our conversation. I can provide information and assistance on a wide range of topics, but I don't have access to personal data about specific individuals unless it has been shared with me. My primary function is to provide information and answer questions to the best of my knowledge and abilities.\n",
    "Human: Sam is the founder of a company called Daimon.\n",
    "AI: That's interesting to know! Sam being the founder of a company called Daimon indicates that they have entrepreneurial experience and have taken the initiative to start their own business. Being a founder often involves taking on various responsibilities, such as setting the vision and direction of the company, making strategic decisions, and overseeing its operations. It requires a combination of leadership skills, business acumen, and a strong understanding of the industry in which the company operates.\n",
    "\n",
    "If there's anything specific you would like to know about Sam or their company, please let me know and I'll do my best to assist you!\n",
    "Last line:\n",
    "Human: What do you know about Sam?\n",
    "You:\n",
    "\n",
    "> Finished chain.\n",
    "\"\"\"\n",
    "\n",
    "\"\"\" output\n",
    "'Sam is the founder of a company called Daimon, indicating their entrepreneurial experience and leadership in starting their own business. As a founder, Sam is likely to have a strong understanding of the industry in which the company operates and has taken on various responsibilities, such as setting the vision and direction of the company, making strategic decisions, and overseeing its operations. If you have any specific questions about Sam or would like to know more about their background or achievements, feel free to ask!'\n",
    "\"\"\""
   ],
   "metadata": {
    "collapsed": false
   },
   "id": "51cc114feba6a51f"
  },
  {
   "cell_type": "code",
   "execution_count": null,
   "outputs": [],
   "source": [],
   "metadata": {
    "collapsed": false
   },
   "id": "cd5731cb4e4a7e0e"
  }
 ],
 "metadata": {
  "kernelspec": {
   "display_name": "Python 3",
   "language": "python",
   "name": "python3"
  },
  "language_info": {
   "codemirror_mode": {
    "name": "ipython",
    "version": 2
   },
   "file_extension": ".py",
   "mimetype": "text/x-python",
   "name": "python",
   "nbconvert_exporter": "python",
   "pygments_lexer": "ipython2",
   "version": "2.7.6"
  }
 },
 "nbformat": 4,
 "nbformat_minor": 5
}
