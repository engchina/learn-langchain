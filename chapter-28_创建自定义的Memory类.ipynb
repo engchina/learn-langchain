{
 "cells": [
  {
   "cell_type": "code",
   "execution_count": 1,
   "id": "initial_id",
   "metadata": {
    "collapsed": true,
    "ExecuteTime": {
     "end_time": "2024-01-28T09:00:08.053698100Z",
     "start_time": "2024-01-28T09:00:07.180256600Z"
    }
   },
   "outputs": [],
   "source": [
    "from dotenv import load_dotenv, find_dotenv\n",
    "from langchain_openai import ChatOpenAI, OpenAIEmbeddings\n",
    "\n",
    "# read local .env file\n",
    "# find_dotenv 函数通常用于搜索和定位目录树中的 .env 文件，而 load_dotenv 函数用于将 .env 文件中的变量加载到环境中。\n",
    "_ = load_dotenv(find_dotenv())\n",
    "\n",
    "llm = ChatOpenAI(model_name=\"gpt-3.5-turbo\", temperature=0.3)\n",
    "# embeddings = OpenAIEmbeddings()"
   ]
  },
  {
   "cell_type": "code",
   "execution_count": 6,
   "outputs": [],
   "source": [
    "\"\"\"\n",
    "虽然LangChain中有几种预定义的内存类型，但你很可能想要添加自己的内存类型，以便为你的应用程序提供最佳性能。本笔记将介绍如何实现此操作。\n",
    "\n",
    "在本笔记中，我们将向ConversationChain添加自定义内存类型。为了添加自定义内存类，我们需要导入基础内存类并对其进行子类化。\n",
    "\"\"\"\n",
    "from typing import Any, Dict, List\n",
    "\n",
    "from langchain.chains import ConversationChain\n",
    "from langchain.schema import BaseMemory\n",
    "from pydantic import BaseModel\n",
    " "
   ],
   "metadata": {
    "collapsed": false,
    "ExecuteTime": {
     "end_time": "2024-01-28T09:03:03.278205600Z",
     "start_time": "2024-01-28T09:03:03.270192500Z"
    }
   },
   "id": "3f415a4f3f261e4c"
  },
  {
   "cell_type": "code",
   "execution_count": 7,
   "outputs": [],
   "source": [
    "\"\"\"\n",
    "在此示例中，我们将编写一个自定义内存类，该类使用spacy提取实体并将有关它们的信息保存在简单的哈希表中。\n",
    "\n",
    "然后，在对话期间，我们将查看输入文本，提取任何实体，并将有关它们的任何信息放入上下文中。\n",
    "\n",
    "请注意，此实现非常简单和脆弱，可能在生产环境中无用。它的目的是展示您可以添加自定义内存实现。\n",
    "为此，我们需要使用spacy。\n",
    "\"\"\"\n",
    "# !pip install spacy\n",
    "# !python -m spacy download en_core_web_lg\n",
    "import spacy\n",
    "nlp = spacy.load('en_core_web_lg')\n"
   ],
   "metadata": {
    "collapsed": false,
    "ExecuteTime": {
     "end_time": "2024-01-28T09:03:05.265735200Z",
     "start_time": "2024-01-28T09:03:04.320750500Z"
    }
   },
   "id": "c84c3b35a251e397"
  },
  {
   "cell_type": "code",
   "execution_count": 8,
   "outputs": [
    {
     "ename": "TypeError",
     "evalue": "metaclass conflict: the metaclass of a derived class must be a (non-strict) subclass of the metaclasses of all its bases",
     "output_type": "error",
     "traceback": [
      "\u001B[1;31m---------------------------------------------------------------------------\u001B[0m",
      "\u001B[1;31mTypeError\u001B[0m                                 Traceback (most recent call last)",
      "Cell \u001B[1;32mIn[8], line 1\u001B[0m\n\u001B[1;32m----> 1\u001B[0m \u001B[38;5;28;01mclass\u001B[39;00m \u001B[38;5;21;01mSpacyEntityMemory\u001B[39;00m(BaseMemory, BaseModel):\n\u001B[0;32m      2\u001B[0m \u001B[38;5;250m    \u001B[39m\u001B[38;5;124;03m\"\"\"Memory class for storing information about entities.\"\"\"\u001B[39;00m\n\u001B[0;32m      4\u001B[0m     \u001B[38;5;66;03m# Define dictionary to store information about entities.\u001B[39;00m\n",
      "\u001B[1;31mTypeError\u001B[0m: metaclass conflict: the metaclass of a derived class must be a (non-strict) subclass of the metaclasses of all its bases"
     ]
    }
   ],
   "source": [
    "\"\"\"\n",
    "TypeError: metaclass conflict: the metaclass of a derived class must be a (non-strict) subclass of the metaclasses of all its bases\n",
    "\"\"\"\n",
    "class SpacyEntityMemory(BaseMemory, BaseModel):\n",
    "    \"\"\"Memory class for storing information about entities.\"\"\"\n",
    "\n",
    "    # Define dictionary to store information about entities.\n",
    "    entities: dict = {}\n",
    "    # Define key to pass information about entities into prompt.\n",
    "    memory_key: str = \"entities\"\n",
    "\n",
    "    def clear(self):\n",
    "        self.entities = {}\n",
    "\n",
    "    @property\n",
    "    def memory_variables(self) -> List[str]:\n",
    "        \"\"\"Define the variables we are providing to the prompt.\"\"\"\n",
    "        return [self.memory_key]\n",
    "\n",
    "    def load_memory_variables(self, inputs: Dict[str, Any]) -> Dict[str, str]:\n",
    "        \"\"\"Load the memory variables, in this case the entity key.\"\"\"\n",
    "        # Get the input text and run through spaCy\n",
    "        doc = nlp(inputs[list(inputs.keys())[0]])\n",
    "        # Extract known information about entities, if they exist.\n",
    "        entities = [\n",
    "            self.entities[str(ent)] for ent in doc.ents if str(ent) in self.entities\n",
    "        ]\n",
    "        # Return combined information about entities to put into context.\n",
    "        return {self.memory_key: \"\\n\".join(entities)}\n",
    "\n",
    "    def save_context(self, inputs: Dict[str, Any], outputs: Dict[str, str]) -> None:\n",
    "        \"\"\"Save context from this conversation to buffer.\"\"\"\n",
    "        # Get the input text and run through spaCy\n",
    "        text = inputs[list(inputs.keys())[0]]\n",
    "        doc = nlp(text)\n",
    "        # For each entity that was mentioned, save this information to the dictionary.\n",
    "        for ent in doc.ents:\n",
    "            ent_str = str(ent)\n",
    "            if ent_str in self.entities:\n",
    "                self.entities[ent_str] += f\"\\n{text}\"\n",
    "            else:\n",
    "                self.entities[ent_str] = text"
   ],
   "metadata": {
    "collapsed": false,
    "ExecuteTime": {
     "end_time": "2024-01-28T09:03:05.872688400Z",
     "start_time": "2024-01-28T09:03:05.836216800Z"
    }
   },
   "id": "fa5ce99933c42827"
  },
  {
   "cell_type": "code",
   "execution_count": null,
   "outputs": [],
   "source": [
    "\"\"\"\n",
    "现在我们定义一个提示，以输入有关实体的信息以及用户输入\n",
    "\"\"\"\n",
    "from langchain.prompts.prompt import PromptTemplate\n",
    " \n",
    "template = \"\"\"The following is a friendly conversation between a human and an AI. The AI is talkative and provides lots of specific details from its context. If the AI does not know the answer to a question, it truthfully says it does not know. You are provided with information about entities the Human mentions, if relevant.\n",
    " \n",
    "Relevant entity information:\n",
    "{entities}\n",
    " \n",
    "Conversation:\n",
    "Human: {input}\n",
    "AI:\"\"\"\n",
    "prompt = PromptTemplate(\n",
    "    input_variables=[\"entities\", \"input\"], template=template\n",
    ")"
   ],
   "metadata": {
    "collapsed": false,
    "ExecuteTime": {
     "end_time": "2024-01-28T09:00:10.459301600Z",
     "start_time": "2024-01-28T09:00:10.458309800Z"
    }
   },
   "id": "4729046168481c04"
  },
  {
   "cell_type": "code",
   "execution_count": null,
   "outputs": [],
   "source": [
    "\"\"\"\n",
    "现在我们将它们组合在一起！\n",
    "\"\"\"\n",
    "conversation = ConversationChain(llm=llm, prompt=prompt, verbose=True, memory=SpacyEntityMemory())\n"
   ],
   "metadata": {
    "collapsed": false,
    "ExecuteTime": {
     "start_time": "2024-01-28T09:00:10.459301600Z"
    }
   },
   "id": "ae8cc16b0bb93dd1"
  },
  {
   "cell_type": "code",
   "execution_count": null,
   "outputs": [],
   "source": [
    "\"\"\"\n",
    "在第一个示例中，没有关于Harrison的先前知识，\"相关实体信息\"部分为空。\n",
    "\"\"\"\n",
    "conversation.predict(input=\"Harrison likes machine learning\")\n"
   ],
   "metadata": {
    "collapsed": false,
    "ExecuteTime": {
     "start_time": "2024-01-28T09:00:10.460310500Z"
    }
   },
   "id": "ecc4467010e1200c"
  },
  {
   "cell_type": "code",
   "execution_count": null,
   "outputs": [],
   "source": [
    "\"\"\"\n",
    "现在在第二个示例中，我们可以看到它提取了有关Harrison的信息。\n",
    "\"\"\"\n",
    "conversation.predict(input=\"What do you think Harrison's favorite subject in college was?\")\n"
   ],
   "metadata": {
    "collapsed": false,
    "ExecuteTime": {
     "start_time": "2024-01-28T09:00:10.461301700Z"
    }
   },
   "id": "a1893cd9164c7f8d"
  },
  {
   "cell_type": "code",
   "execution_count": null,
   "outputs": [],
   "source": [
    "\"\"\"\n",
    "再次提醒，此实现方式相当简单且脆弱，可能在生产环境中无用。它的目的是展示您可以添加自定义内存实现。\n",
    "\"\"\""
   ],
   "metadata": {
    "collapsed": false,
    "ExecuteTime": {
     "start_time": "2024-01-28T09:00:10.462302400Z"
    }
   },
   "id": "7ac20a25b9d63969"
  }
 ],
 "metadata": {
  "kernelspec": {
   "display_name": "Python 3",
   "language": "python",
   "name": "python3"
  },
  "language_info": {
   "codemirror_mode": {
    "name": "ipython",
    "version": 2
   },
   "file_extension": ".py",
   "mimetype": "text/x-python",
   "name": "python",
   "nbconvert_exporter": "python",
   "pygments_lexer": "ipython2",
   "version": "2.7.6"
  }
 },
 "nbformat": 4,
 "nbformat_minor": 5
}
