{
 "cells": [
  {
   "cell_type": "code",
   "execution_count": 1,
   "outputs": [],
   "source": [
    "# !pip install chromadb"
   ],
   "metadata": {
    "collapsed": false,
    "ExecuteTime": {
     "end_time": "2024-01-28T04:00:21.489826800Z",
     "start_time": "2024-01-28T04:00:21.479199200Z"
    }
   },
   "id": "4e44908f99a59625"
  },
  {
   "cell_type": "raw",
   "source": [
    " "
   ],
   "metadata": {
    "collapsed": false
   },
   "id": "61b184a601cd7309"
  },
  {
   "cell_type": "code",
   "execution_count": 2,
   "outputs": [],
   "source": [
    "from dotenv import load_dotenv, find_dotenv\n",
    "\n",
    "# read local .env file\n",
    "# find_dotenv 函数通常用于搜索和定位目录树中的 .env 文件，而 load_dotenv 函数用于将 .env 文件中的变量加载到环境中。\n",
    "_ = load_dotenv(find_dotenv())\n",
    "from langchain_openai import ChatOpenAI, OpenAIEmbeddings\n",
    "\n",
    "llm = ChatOpenAI(model_name=\"gpt-3.5-turbo\", temperature=0.3)\n",
    "embeddings = OpenAIEmbeddings()"
   ],
   "metadata": {
    "collapsed": false,
    "ExecuteTime": {
     "end_time": "2024-01-28T04:00:22.632462Z",
     "start_time": "2024-01-28T04:00:21.493836900Z"
    }
   },
   "id": "initial_id"
  },
  {
   "cell_type": "code",
   "execution_count": 3,
   "outputs": [],
   "source": [
    "\"\"\"\n",
    "大多数内存对象都假设只有一个输入。在本文中，我们将介绍如何给具有多个输入的链添加内存。\n",
    "作为这样一条链的示例，我们将向问答链添加内存。该链将相关文档和用户问题作为输入。\n",
    "\"\"\"\n",
    "from langchain.text_splitter import CharacterTextSplitter\n",
    "from langchain.vectorstores import Chroma\n",
    " "
   ],
   "metadata": {
    "collapsed": false,
    "ExecuteTime": {
     "end_time": "2024-01-28T04:00:22.647462400Z",
     "start_time": "2024-01-28T04:00:22.633462100Z"
    }
   },
   "id": "c81d0007f170e845"
  },
  {
   "cell_type": "code",
   "execution_count": 4,
   "outputs": [],
   "source": [
    "with open('./files/state_of_the_union.txt') as f:\n",
    "    state_of_the_union = f.read()\n",
    "text_splitter = CharacterTextSplitter(chunk_size=1000, chunk_overlap=0)\n",
    "texts = text_splitter.split_text(state_of_the_union) "
   ],
   "metadata": {
    "collapsed": false,
    "ExecuteTime": {
     "end_time": "2024-01-28T04:00:22.666500Z",
     "start_time": "2024-01-28T04:00:22.648461700Z"
    }
   },
   "id": "47615ba657cccc05"
  },
  {
   "cell_type": "code",
   "execution_count": 5,
   "outputs": [],
   "source": [
    "docsearch = Chroma.from_texts(texts, embeddings, metadatas=[{\"source\": i} for i in range(len(texts))])\n",
    " "
   ],
   "metadata": {
    "collapsed": false,
    "ExecuteTime": {
     "end_time": "2024-01-28T04:00:25.189345800Z",
     "start_time": "2024-01-28T04:00:22.665501900Z"
    }
   },
   "id": "cbe3ecda7fd23aff"
  },
  {
   "cell_type": "code",
   "execution_count": 6,
   "outputs": [],
   "source": [
    "query = \"What did the president say about Justice Breyer\"\n",
    "docs = docsearch.similarity_search(query)\n",
    " "
   ],
   "metadata": {
    "collapsed": false,
    "ExecuteTime": {
     "end_time": "2024-01-28T04:00:25.675584500Z",
     "start_time": "2024-01-28T04:00:25.190346700Z"
    }
   },
   "id": "5843d31bd6b82a0"
  },
  {
   "cell_type": "code",
   "execution_count": 7,
   "outputs": [],
   "source": [
    "from langchain.chains.question_answering import load_qa_chain\n",
    "from langchain.prompts import PromptTemplate\n",
    "from langchain.memory import ConversationBufferMemory\n",
    " "
   ],
   "metadata": {
    "collapsed": false,
    "ExecuteTime": {
     "end_time": "2024-01-28T04:00:26.318339600Z",
     "start_time": "2024-01-28T04:00:25.674584600Z"
    }
   },
   "id": "d73337070cecaeb3"
  },
  {
   "cell_type": "code",
   "execution_count": 8,
   "outputs": [],
   "source": [
    "template = \"\"\"You are a chatbot having a conversation with a human.\n",
    " \n",
    "Given the following extracted parts of a long document and a question, create a final answer.\n",
    " \n",
    "{context}\n",
    " \n",
    "{chat_history}\n",
    "Human: {human_input}\n",
    "Chatbot:\"\"\"\n",
    " \n",
    "prompt = PromptTemplate(\n",
    "    input_variables=[\"chat_history\", \"human_input\", \"context\"], \n",
    "    template=template\n",
    ")\n",
    "memory = ConversationBufferMemory(memory_key=\"chat_history\", input_key=\"human_input\")\n",
    "chain = load_qa_chain(llm, chain_type=\"stuff\", memory=memory, prompt=prompt)\n",
    " "
   ],
   "metadata": {
    "collapsed": false,
    "ExecuteTime": {
     "end_time": "2024-01-28T04:00:26.333241200Z",
     "start_time": "2024-01-28T04:00:26.319339400Z"
    }
   },
   "id": "21a2a2b063f23331"
  },
  {
   "cell_type": "code",
   "execution_count": 9,
   "outputs": [
    {
     "data": {
      "text/plain": "{'output_text': 'The president honored Justice Stephen Breyer for his dedication and service to the country. He described Justice Breyer as an Army veteran, Constitutional scholar, and retiring Justice of the United States Supreme Court.'}"
     },
     "execution_count": 9,
     "metadata": {},
     "output_type": "execute_result"
    }
   ],
   "source": [
    "query = \"What did the president say about Justice Breyer\"\n",
    "chain.invoke({\"input_documents\": docs, \"human_input\": query}, return_only_outputs=True)\n",
    " "
   ],
   "metadata": {
    "collapsed": false,
    "ExecuteTime": {
     "end_time": "2024-01-28T04:00:29.303203Z",
     "start_time": "2024-01-28T04:00:26.333241200Z"
    }
   },
   "id": "4eb2ab654a4b9fa"
  },
  {
   "cell_type": "code",
   "execution_count": 10,
   "outputs": [
    {
     "data": {
      "text/plain": "\" output\\n{'output_text': 'The President honored Justice Stephen Breyer, who has dedicated his life to serving the country. He thanked him for his service and mentioned that he is a retired Justice of the United States Supreme Court.'}\\n\""
     },
     "execution_count": 10,
     "metadata": {},
     "output_type": "execute_result"
    }
   ],
   "source": [
    "\"\"\" output\n",
    "{'output_text': 'The President honored Justice Stephen Breyer, who has dedicated his life to serving the country. He thanked him for his service and mentioned that he is a retired Justice of the United States Supreme Court.'}\n",
    "\"\"\""
   ],
   "metadata": {
    "collapsed": false,
    "ExecuteTime": {
     "end_time": "2024-01-28T04:00:29.318846900Z",
     "start_time": "2024-01-28T04:00:29.304201400Z"
    }
   },
   "id": "a156a45a0f753783"
  },
  {
   "cell_type": "code",
   "execution_count": 11,
   "outputs": [
    {
     "name": "stdout",
     "output_type": "stream",
     "text": [
      "Human: What did the president say about Justice Breyer\n",
      "AI: The president honored Justice Stephen Breyer for his dedication and service to the country. He described Justice Breyer as an Army veteran, Constitutional scholar, and retiring Justice of the United States Supreme Court.\n"
     ]
    }
   ],
   "source": [
    "print(chain.memory.buffer)\n",
    " "
   ],
   "metadata": {
    "collapsed": false,
    "ExecuteTime": {
     "end_time": "2024-01-28T04:00:29.351367100Z",
     "start_time": "2024-01-28T04:00:29.318846900Z"
    }
   },
   "id": "f410d5d01f77a12"
  },
  {
   "cell_type": "code",
   "execution_count": 11,
   "outputs": [],
   "source": [
    "\"\"\" output\n",
    "Human: What did the president say about Justice Breyer\n",
    "AI: The president honored Justice Stephen Breyer for his dedication and service to the country. He described Justice Breyer as an Army veteran, Constitutional scholar, and retiring Justice of the United States Supreme Court.\n",
    "\"\"\""
   ],
   "metadata": {
    "collapsed": false,
    "ExecuteTime": {
     "end_time": "2024-01-28T04:00:29.352647Z",
     "start_time": "2024-01-28T04:00:29.334850200Z"
    }
   },
   "id": "192eea47edea1cab"
  }
 ],
 "metadata": {
  "kernelspec": {
   "display_name": "Python 3",
   "language": "python",
   "name": "python3"
  },
  "language_info": {
   "codemirror_mode": {
    "name": "ipython",
    "version": 2
   },
   "file_extension": ".py",
   "mimetype": "text/x-python",
   "name": "python",
   "nbconvert_exporter": "python",
   "pygments_lexer": "ipython2",
   "version": "2.7.6"
  }
 },
 "nbformat": 4,
 "nbformat_minor": 5
}
