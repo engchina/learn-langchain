{
 "cells": [
  {
   "cell_type": "code",
   "execution_count": 1,
   "id": "initial_id",
   "metadata": {
    "collapsed": true,
    "ExecuteTime": {
     "end_time": "2024-01-27T05:48:11.891100800Z",
     "start_time": "2024-01-27T05:48:11.004252800Z"
    }
   },
   "outputs": [],
   "source": [
    "from dotenv import load_dotenv, find_dotenv\n",
    "\n",
    "# read local .env file\n",
    "# find_dotenv 函数通常用于搜索和定位目录树中的 .env 文件，而 load_dotenv 函数用于将 .env 文件中的变量加载到环境中。\n",
    "_ = load_dotenv(find_dotenv())\n",
    "from langchain_openai import ChatOpenAI\n",
    "\n",
    "llm = ChatOpenAI(model_name=\"gpt-4\", temperature=0.3)"
   ]
  },
  {
   "cell_type": "code",
   "execution_count": 3,
   "outputs": [],
   "source": [
    "\"\"\"\n",
    "ConversationBufferWindowMemory保留了对话随时间推移的交互列表。\n",
    "它仅使用最后K个交互。这可以用于保持最近交互的滑动窗口，以便缓冲区不会过大。\n",
    "\"\"\"\n",
    "from langchain.memory import ConversationBufferWindowMemory\n",
    " \n",
    "memory = ConversationBufferWindowMemory( k=1)\n",
    "memory.save_context({\"input\": \"hi\"}, {\"ouput\": \"whats up\"})\n",
    "memory.save_context({\"input\": \"not much you\"}, {\"ouput\": \"not much\"})\n",
    " "
   ],
   "metadata": {
    "collapsed": false,
    "ExecuteTime": {
     "end_time": "2024-01-27T05:49:00.414181400Z",
     "start_time": "2024-01-27T05:48:59.768456Z"
    }
   },
   "id": "c01bb82e95df7052"
  },
  {
   "cell_type": "code",
   "execution_count": 4,
   "outputs": [
    {
     "data": {
      "text/plain": "{'history': 'Human: not much you\\nAI: not much'}"
     },
     "execution_count": 4,
     "metadata": {},
     "output_type": "execute_result"
    }
   ],
   "source": [
    "memory.load_memory_variables({})\n",
    " "
   ],
   "metadata": {
    "collapsed": false,
    "ExecuteTime": {
     "end_time": "2024-01-27T05:49:00.990897400Z",
     "start_time": "2024-01-27T05:49:00.970918600Z"
    }
   },
   "id": "ecd0d40796b0eab4"
  },
  {
   "cell_type": "code",
   "execution_count": null,
   "outputs": [],
   "source": [
    "\"\"\" output\n",
    "{'history': 'Human: not much you\\nAI: not much'}\n",
    "\"\"\""
   ],
   "metadata": {
    "collapsed": false
   },
   "id": "855bc9a1b08c111f"
  },
  {
   "cell_type": "code",
   "execution_count": 5,
   "outputs": [],
   "source": [
    "\"\"\"\n",
    "我们也可以将历史记录作为消息列表获取（如果您正在使用聊天模型，则这非常有用)。\n",
    "\"\"\"\n",
    "memory = ConversationBufferWindowMemory( k=1, return_messages=True)\n",
    "memory.save_context({\"input\": \"hi\"}, {\"ouput\": \"whats up\"})\n",
    "memory.save_context({\"input\": \"not much you\"}, {\"ouput\": \"not much\"})\n",
    " "
   ],
   "metadata": {
    "collapsed": false,
    "ExecuteTime": {
     "end_time": "2024-01-27T05:49:30.379914800Z",
     "start_time": "2024-01-27T05:49:30.367009800Z"
    }
   },
   "id": "a16073652014a9d6"
  },
  {
   "cell_type": "code",
   "execution_count": 6,
   "outputs": [
    {
     "data": {
      "text/plain": "{'history': [HumanMessage(content='not much you'),\n  AIMessage(content='not much')]}"
     },
     "execution_count": 6,
     "metadata": {},
     "output_type": "execute_result"
    }
   ],
   "source": [
    "memory.load_memory_variables({})\n",
    " "
   ],
   "metadata": {
    "collapsed": false,
    "ExecuteTime": {
     "end_time": "2024-01-27T05:49:37.523722700Z",
     "start_time": "2024-01-27T05:49:37.507812800Z"
    }
   },
   "id": "86b790314b55e066"
  },
  {
   "cell_type": "code",
   "execution_count": null,
   "outputs": [],
   "source": [
    "\"\"\" output\n",
    "{'history': [HumanMessage(content='not much you'),\n",
    "  AIMessage(content='not much')]}\n",
    "\"\"\""
   ],
   "metadata": {
    "collapsed": false
   },
   "id": "11ce7ea68dcb02f3"
  },
  {
   "cell_type": "code",
   "execution_count": 7,
   "outputs": [],
   "source": [
    "\"\"\"\n",
    "在链中使用，让我们通过一个例子来演示，再次设置verbose=True，以便我们可以看到提示。\n",
    "\"\"\"\n",
    "from langchain.chains import ConversationChain\n",
    "conversation_with_summary = ConversationChain(\n",
    "    llm=llm, \n",
    "    # We set a low k=2, to only keep the last 2 interactions in memory\n",
    "    memory=ConversationBufferWindowMemory(k=2), \n",
    "    verbose=True\n",
    ") "
   ],
   "metadata": {
    "collapsed": false,
    "ExecuteTime": {
     "end_time": "2024-01-27T05:50:22.980978400Z",
     "start_time": "2024-01-27T05:50:22.960996400Z"
    }
   },
   "id": "208e574aac5f6fa4"
  },
  {
   "cell_type": "code",
   "execution_count": 8,
   "outputs": [
    {
     "name": "stdout",
     "output_type": "stream",
     "text": [
      "\n",
      "\n",
      "\u001B[1m> Entering new ConversationChain chain...\u001B[0m\n",
      "Prompt after formatting:\n",
      "\u001B[32;1m\u001B[1;3mThe following is a friendly conversation between a human and an AI. The AI is talkative and provides lots of specific details from its context. If the AI does not know the answer to a question, it truthfully says it does not know.\n",
      "\n",
      "Current conversation:\n",
      "\n",
      "Human: Hi, what's up?\n",
      "AI:\u001B[0m\n",
      "\n",
      "\u001B[1m> Finished chain.\u001B[0m\n"
     ]
    },
    {
     "data": {
      "text/plain": "\" Hi there! I'm an AI assistant, constantly updating my database with the latest information to provide the best service to users like you. Currently, I'm running several background processes to ensure my responses are accurate, relevant, and up-to-date. As of this moment, it's [current local time] where you are, and here are some top news headlines: [list of top news headlines]. How was your day so far, and is there any specific topic or question you would like me to help you with?\""
     },
     "execution_count": 8,
     "metadata": {},
     "output_type": "execute_result"
    }
   ],
   "source": [
    "conversation_with_summary.predict(input=\"Hi, what's up?\")\n"
   ],
   "metadata": {
    "collapsed": false,
    "ExecuteTime": {
     "end_time": "2024-01-27T05:50:29.875261200Z",
     "start_time": "2024-01-27T05:50:25.975457500Z"
    }
   },
   "id": "e7b1dfda04fdb341"
  },
  {
   "cell_type": "code",
   "execution_count": null,
   "outputs": [],
   "source": [
    "\"\"\" output\n",
    "> Entering new ConversationChain chain...\n",
    "Prompt after formatting:\n",
    "The following is a friendly conversation between a human and an AI. The AI is talkative and provides lots of specific details from its context. If the AI does not know the answer to a question, it truthfully says it does not know.\n",
    "\n",
    "Current conversation:\n",
    "\n",
    "Human: Hi, what's up?\n",
    "AI:\n",
    "\n",
    "> Finished chain.\n",
    "\"\"\"\n",
    "\n",
    "\"\"\" output\n",
    "\" Hi there! I'm an AI assistant, constantly updating my database with the latest information to provide the best service to users like you. Currently, I'm running several background processes to ensure my responses are accurate, relevant, and up-to-date. As of this moment, it's [current local time] where you are, and here are some top news headlines: [list of top news headlines]. How was your day so far, and is there any specific topic or question you would like me to help you with?\"\n",
    "\"\"\""
   ],
   "metadata": {
    "collapsed": false
   },
   "id": "2da5c8e19ea57b76"
  },
  {
   "cell_type": "code",
   "execution_count": 9,
   "outputs": [
    {
     "name": "stdout",
     "output_type": "stream",
     "text": [
      "\n",
      "\n",
      "\u001B[1m> Entering new ConversationChain chain...\u001B[0m\n",
      "Prompt after formatting:\n",
      "\u001B[32;1m\u001B[1;3mThe following is a friendly conversation between a human and an AI. The AI is talkative and provides lots of specific details from its context. If the AI does not know the answer to a question, it truthfully says it does not know.\n",
      "\n",
      "Current conversation:\n",
      "Human: Hi, what's up?\n",
      "AI:  Hi there! I'm an AI assistant, constantly updating my database with the latest information to provide the best service to users like you. Currently, I'm running several background processes to ensure my responses are accurate, relevant, and up-to-date. As of this moment, it's [current local time] where you are, and here are some top news headlines: [list of top news headlines]. How was your day so far, and is there any specific topic or question you would like me to help you with?\n",
      "Human: What's their issues?\n",
      "AI:\u001B[0m\n",
      "\n",
      "\u001B[1m> Finished chain.\u001B[0m\n"
     ]
    },
    {
     "data": {
      "text/plain": "' I apologize, but I cannot determine the exact meaning or context of \"their issues\" from our current conversation. Could you please rephrase or provide more context so I can better understand and assist you? My primary goal is to help you find the information you need or address any concerns you might have.'"
     },
     "execution_count": 9,
     "metadata": {},
     "output_type": "execute_result"
    }
   ],
   "source": [
    "conversation_with_summary.predict(input=\"What's their issues?\")\n",
    " "
   ],
   "metadata": {
    "collapsed": false,
    "ExecuteTime": {
     "end_time": "2024-01-27T05:50:44.203669600Z",
     "start_time": "2024-01-27T05:50:41.867962200Z"
    }
   },
   "id": "51c38f4afd608030"
  },
  {
   "cell_type": "code",
   "execution_count": null,
   "outputs": [],
   "source": [
    "\"\"\" output\n",
    "> Entering new ConversationChain chain...\n",
    "Prompt after formatting:\n",
    "The following is a friendly conversation between a human and an AI. The AI is talkative and provides lots of specific details from its context. If the AI does not know the answer to a question, it truthfully says it does not know.\n",
    "\n",
    "Current conversation:\n",
    "Human: Hi, what's up?\n",
    "AI:  Hi there! I'm an AI assistant, constantly updating my database with the latest information to provide the best service to users like you. Currently, I'm running several background processes to ensure my responses are accurate, relevant, and up-to-date. As of this moment, it's [current local time] where you are, and here are some top news headlines: [list of top news headlines]. How was your day so far, and is there any specific topic or question you would like me to help you with?\n",
    "Human: What's their issues?\n",
    "AI:\n",
    "\n",
    "> Finished chain.\n",
    "\"\"\"\n",
    "\n",
    "\"\"\" output\n",
    "' I apologize, but I cannot determine the exact meaning or context of \"their issues\" from our current conversation. Could you please rephrase or provide more context so I can better understand and assist you? My primary goal is to help you find the information you need or address any concerns you might have.'\n",
    "\"\"\""
   ],
   "metadata": {
    "collapsed": false
   },
   "id": "5a1e39d16c82dbd3"
  },
  {
   "cell_type": "code",
   "execution_count": 10,
   "outputs": [
    {
     "name": "stdout",
     "output_type": "stream",
     "text": [
      "\n",
      "\n",
      "\u001B[1m> Entering new ConversationChain chain...\u001B[0m\n",
      "Prompt after formatting:\n",
      "\u001B[32;1m\u001B[1;3mThe following is a friendly conversation between a human and an AI. The AI is talkative and provides lots of specific details from its context. If the AI does not know the answer to a question, it truthfully says it does not know.\n",
      "\n",
      "Current conversation:\n",
      "Human: Hi, what's up?\n",
      "AI:  Hi there! I'm an AI assistant, constantly updating my database with the latest information to provide the best service to users like you. Currently, I'm running several background processes to ensure my responses are accurate, relevant, and up-to-date. As of this moment, it's [current local time] where you are, and here are some top news headlines: [list of top news headlines]. How was your day so far, and is there any specific topic or question you would like me to help you with?\n",
      "Human: What's their issues?\n",
      "AI:  I apologize, but I cannot determine the exact meaning or context of \"their issues\" from our current conversation. Could you please rephrase or provide more context so I can better understand and assist you? My primary goal is to help you find the information you need or address any concerns you might have.\n",
      "Human: Is it going well?\n",
      "AI:\u001B[0m\n",
      "\n",
      "\u001B[1m> Finished chain.\u001B[0m\n"
     ]
    },
    {
     "data": {
      "text/plain": "' It\\'s unclear what \"it\" refers to in your question. Could you please clarify which specific subject or event you are asking about? As an AI, I can provide you with an update on various ongoing situations or events, but I need more context to ensure my response is accurate and helpful.'"
     },
     "execution_count": 10,
     "metadata": {},
     "output_type": "execute_result"
    }
   ],
   "source": [
    "conversation_with_summary.predict(input=\"Is it going well?\")\n",
    " "
   ],
   "metadata": {
    "collapsed": false,
    "ExecuteTime": {
     "end_time": "2024-01-27T05:50:59.195505400Z",
     "start_time": "2024-01-27T05:50:56.819982Z"
    }
   },
   "id": "f288192fef79e354"
  },
  {
   "cell_type": "code",
   "execution_count": null,
   "outputs": [],
   "source": [
    "\"\"\" output\n",
    "> Entering new ConversationChain chain...\n",
    "Prompt after formatting:\n",
    "The following is a friendly conversation between a human and an AI. The AI is talkative and provides lots of specific details from its context. If the AI does not know the answer to a question, it truthfully says it does not know.\n",
    "\n",
    "Current conversation:\n",
    "Human: Hi, what's up?\n",
    "AI:  Hi there! I'm an AI assistant, constantly updating my database with the latest information to provide the best service to users like you. Currently, I'm running several background processes to ensure my responses are accurate, relevant, and up-to-date. As of this moment, it's [current local time] where you are, and here are some top news headlines: [list of top news headlines]. How was your day so far, and is there any specific topic or question you would like me to help you with?\n",
    "Human: What's their issues?\n",
    "AI:  I apologize, but I cannot determine the exact meaning or context of \"their issues\" from our current conversation. Could you please rephrase or provide more context so I can better understand and assist you? My primary goal is to help you find the information you need or address any concerns you might have.\n",
    "Human: Is it going well?\n",
    "AI:\n",
    "\n",
    "> Finished chain.\n",
    "\"\"\"\n",
    "\n",
    "\"\"\" output\n",
    "' It\\'s unclear what \"it\" refers to in your question. Could you please clarify which specific subject or event you are asking about? As an AI, I can provide you with an update on various ongoing situations or events, but I need more context to ensure my response is accurate and helpful.'\n",
    "\"\"\""
   ],
   "metadata": {
    "collapsed": false
   },
   "id": "7319753d9012ecda"
  },
  {
   "cell_type": "code",
   "execution_count": 11,
   "outputs": [
    {
     "name": "stdout",
     "output_type": "stream",
     "text": [
      "\n",
      "\n",
      "\u001B[1m> Entering new ConversationChain chain...\u001B[0m\n",
      "Prompt after formatting:\n",
      "\u001B[32;1m\u001B[1;3mThe following is a friendly conversation between a human and an AI. The AI is talkative and provides lots of specific details from its context. If the AI does not know the answer to a question, it truthfully says it does not know.\n",
      "\n",
      "Current conversation:\n",
      "Human: What's their issues?\n",
      "AI:  I apologize, but I cannot determine the exact meaning or context of \"their issues\" from our current conversation. Could you please rephrase or provide more context so I can better understand and assist you? My primary goal is to help you find the information you need or address any concerns you might have.\n",
      "Human: Is it going well?\n",
      "AI:  It's unclear what \"it\" refers to in your question. Could you please clarify which specific subject or event you are asking about? As an AI, I can provide you with an update on various ongoing situations or events, but I need more context to ensure my response is accurate and helpful.\n",
      "Human: What's the solution?\n",
      "AI:\u001B[0m\n",
      "\n",
      "\u001B[1m> Finished chain.\u001B[0m\n"
     ]
    },
    {
     "data": {
      "text/plain": "\" Without knowing the specific problem or situation you are referring to, it is impossible for me to provide a solution. Please provide more context or details about the issue so I can assist you better. Remember, I'm here to help you find the information or guidance you need.\""
     },
     "execution_count": 11,
     "metadata": {},
     "output_type": "execute_result"
    }
   ],
   "source": [
    "# Notice here that the first interaction does not appear.\n",
    "conversation_with_summary.predict(input=\"What's the solution?\")\n",
    " "
   ],
   "metadata": {
    "collapsed": false,
    "ExecuteTime": {
     "end_time": "2024-01-27T05:51:09.177680800Z",
     "start_time": "2024-01-27T05:51:07.104891600Z"
    }
   },
   "id": "997f5e97725983c8"
  },
  {
   "cell_type": "code",
   "execution_count": null,
   "outputs": [],
   "source": [
    "\"\"\" output\n",
    "> Entering new ConversationChain chain...\n",
    "Prompt after formatting:\n",
    "The following is a friendly conversation between a human and an AI. The AI is talkative and provides lots of specific details from its context. If the AI does not know the answer to a question, it truthfully says it does not know.\n",
    "\n",
    "Current conversation:\n",
    "Human: What's their issues?\n",
    "AI:  I apologize, but I cannot determine the exact meaning or context of \"their issues\" from our current conversation. Could you please rephrase or provide more context so I can better understand and assist you? My primary goal is to help you find the information you need or address any concerns you might have.\n",
    "Human: Is it going well?\n",
    "AI:  It's unclear what \"it\" refers to in your question. Could you please clarify which specific subject or event you are asking about? As an AI, I can provide you with an update on various ongoing situations or events, but I need more context to ensure my response is accurate and helpful.\n",
    "Human: What's the solution?\n",
    "AI:\n",
    "\n",
    "> Finished chain.\n",
    "\"\"\"\n",
    "\n",
    "\"\"\" output\n",
    "\" Without knowing the specific problem or situation you are referring to, it is impossible for me to provide a solution. Please provide more context or details about the issue so I can assist you better. Remember, I'm here to help you find the information or guidance you need.\"\n",
    "\"\"\""
   ],
   "metadata": {
    "collapsed": false
   },
   "id": "46315fe976e177f"
  }
 ],
 "metadata": {
  "kernelspec": {
   "display_name": "Python 3",
   "language": "python",
   "name": "python3"
  },
  "language_info": {
   "codemirror_mode": {
    "name": "ipython",
    "version": 2
   },
   "file_extension": ".py",
   "mimetype": "text/x-python",
   "name": "python",
   "nbconvert_exporter": "python",
   "pygments_lexer": "ipython2",
   "version": "2.7.6"
  }
 },
 "nbformat": 4,
 "nbformat_minor": 5
}
