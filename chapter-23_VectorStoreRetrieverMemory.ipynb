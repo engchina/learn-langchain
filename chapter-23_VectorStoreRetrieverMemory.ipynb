{
 "cells": [
  {
   "cell_type": "code",
   "execution_count": 4,
   "outputs": [
    {
     "name": "stdout",
     "output_type": "stream",
     "text": [
      "Looking in indexes: https://mirrors.aliyun.com/pypi/simple\n",
      "Requirement already satisfied: faiss-cpu in d:\\anaconda3\\envs\\learn-langchain\\lib\\site-packages (1.7.4)\n"
     ]
    }
   ],
   "source": [
    "!pip install faiss-cpu"
   ],
   "metadata": {
    "collapsed": false,
    "ExecuteTime": {
     "end_time": "2024-01-28T02:46:59.582677200Z",
     "start_time": "2024-01-28T02:46:58.229517500Z"
    }
   },
   "id": "58d5f8c890092793"
  },
  {
   "cell_type": "code",
   "execution_count": 4,
   "outputs": [],
   "source": [
    "from dotenv import load_dotenv, find_dotenv\n",
    "\n",
    "# read local .env file\n",
    "# find_dotenv 函数通常用于搜索和定位目录树中的 .env 文件，而 load_dotenv 函数用于将 .env 文件中的变量加载到环境中。\n",
    "_ = load_dotenv(find_dotenv())\n",
    "from langchain_openai import ChatOpenAI, OpenAIEmbeddings\n",
    "\n",
    "llm = ChatOpenAI(model_name=\"gpt-3.5-turbo\", temperature=0.3)"
   ],
   "metadata": {
    "collapsed": false,
    "ExecuteTime": {
     "end_time": "2024-01-28T02:48:46.977292700Z",
     "start_time": "2024-01-28T02:48:46.652389700Z"
    }
   },
   "id": "initial_id"
  },
  {
   "cell_type": "code",
   "execution_count": 5,
   "outputs": [],
   "source": [
    "\"\"\"\n",
    "VectorStoreRetrieverMemory将记忆存储在VectorDB中，并在每次调用时查询最重要的K个文档。\n",
    "\n",
    "与大多数其他记忆类不同的是，它不明确跟踪交互的顺序。\n",
    "\n",
    "在这种情况下，“文档”是先前的对话片段。这可以用来提到AI在对话中早期被告知的相关信息。\n",
    "\"\"\"\n",
    "from datetime import datetime\n",
    "from langchain_openai import OpenAIEmbeddings\n",
    "from langchain.memory import VectorStoreRetrieverMemory\n",
    "from langchain.chains import ConversationChain\n",
    "from langchain.prompts import PromptTemplate\n",
    " "
   ],
   "metadata": {
    "collapsed": false,
    "ExecuteTime": {
     "end_time": "2024-01-28T02:48:47.446143900Z",
     "start_time": "2024-01-28T02:48:47.437466900Z"
    }
   },
   "id": "c3673c1ac11336f5"
  },
  {
   "cell_type": "code",
   "execution_count": 7,
   "outputs": [],
   "source": [
    "\"\"\"\n",
    "初始化您的VectorStore\n",
    "\"\"\"\n",
    "import faiss\n",
    " \n",
    "from langchain.docstore import InMemoryDocstore\n",
    "from langchain.vectorstores import FAISS\n",
    " \n",
    "embedding_size = 1536 # Dimensions of the OpenAIEmbeddings\n",
    "index = faiss.IndexFlatL2(embedding_size)\n",
    "# embedding_fn = OpenAIEmbeddings().embed_query\n",
    "vectorstore = FAISS(OpenAIEmbeddings(), index, InMemoryDocstore({}), {})\n",
    " "
   ],
   "metadata": {
    "collapsed": false,
    "ExecuteTime": {
     "end_time": "2024-01-28T02:49:34.919029900Z",
     "start_time": "2024-01-28T02:49:34.654151Z"
    }
   },
   "id": "861c41cce77873cc"
  },
  {
   "cell_type": "code",
   "execution_count": 9,
   "outputs": [],
   "source": [
    "\"\"\"\n",
    "创建您的VectorStoreRetrieverMemory\n",
    "记忆体对象是从任何VectorStoreRetriever实例化的。\n",
    "\"\"\"\n",
    "# In actual usage, you would set `k` to be a higher value, but we use k=1 to show that\n",
    "# the vector lookup still returns the semantically relevant information\n",
    "retriever = vectorstore.as_retriever(search_kwargs=dict(k=1))\n",
    "memory = VectorStoreRetrieverMemory(retriever=retriever)\n",
    " \n",
    "# When added to an agent, the memory object can save pertinent information from conversations or used tools\n",
    "memory.save_context({\"input\": \"My favorite food is pizza\"}, {\"output\": \"that's good to know\"})\n",
    "memory.save_context({\"input\": \"My favorite sport is soccer\"}, {\"output\": \"...\"})\n",
    "memory.save_context({\"input\": \"I don't the Celtics\"}, {\"output\": \"ok\"}) # \n",
    " "
   ],
   "metadata": {
    "collapsed": false,
    "ExecuteTime": {
     "end_time": "2024-01-28T02:50:07.555512600Z",
     "start_time": "2024-01-28T02:50:05.922251Z"
    }
   },
   "id": "5a85226a5876c756"
  },
  {
   "cell_type": "code",
   "execution_count": 10,
   "outputs": [
    {
     "name": "stdout",
     "output_type": "stream",
     "text": [
      "input: My favorite sport is soccer\n",
      "output: ...\n"
     ]
    }
   ],
   "source": [
    "# Notice the first result returned is the memory pertaining to tax help, which the language model deems more semantically relevant\n",
    "# to a 1099 than the other documents, despite them both containing numbers.\n",
    "print(memory.load_memory_variables({\"prompt\": \"what sport should i watch?\"})[\"history\"])\n",
    " "
   ],
   "metadata": {
    "collapsed": false,
    "ExecuteTime": {
     "end_time": "2024-01-28T02:50:33.456646900Z",
     "start_time": "2024-01-28T02:50:12.520451Z"
    }
   },
   "id": "e26f143df10f4da7"
  },
  {
   "cell_type": "code",
   "execution_count": null,
   "outputs": [],
   "source": [
    "\"\"\" output\n",
    "input: My favorite sport is soccer\n",
    "output: ...\n",
    "\"\"\""
   ],
   "metadata": {
    "collapsed": false
   },
   "id": "d716c63a4a999944"
  },
  {
   "cell_type": "code",
   "execution_count": 11,
   "outputs": [
    {
     "name": "stdout",
     "output_type": "stream",
     "text": [
      "\n",
      "\n",
      "\u001B[1m> Entering new ConversationChain chain...\u001B[0m\n",
      "Prompt after formatting:\n",
      "\u001B[32;1m\u001B[1;3mThe following is a friendly conversation between a human and an AI. The AI is talkative and provides lots of specific details from its context. If the AI does not know the answer to a question, it truthfully says it does not know.\n",
      " \n",
      "Relevant pieces of previous conversation:\n",
      "input: My favorite food is pizza\n",
      "output: that's good to know\n",
      " \n",
      "(You do not need to use these pieces of information if not relevant)\n",
      " \n",
      "Current conversation:\n",
      "Human: Hi, my name is Perry, what's up?\n",
      "AI:\u001B[0m\n",
      "\n",
      "\u001B[1m> Finished chain.\u001B[0m\n"
     ]
    },
    {
     "data": {
      "text/plain": "\"Hello Perry! I'm doing well, thank you. How about you?\""
     },
     "execution_count": 11,
     "metadata": {},
     "output_type": "execute_result"
    }
   ],
   "source": [
    "\"\"\"\n",
    "在链中使用\n",
    "\"\"\"\n",
    "_DEFAULT_TEMPLATE = \"\"\"The following is a friendly conversation between a human and an AI. The AI is talkative and provides lots of specific details from its context. If the AI does not know the answer to a question, it truthfully says it does not know.\n",
    " \n",
    "Relevant pieces of previous conversation:\n",
    "{history}\n",
    " \n",
    "(You do not need to use these pieces of information if not relevant)\n",
    " \n",
    "Current conversation:\n",
    "Human: {input}\n",
    "AI:\"\"\"\n",
    "PROMPT = PromptTemplate(\n",
    "    input_variables=[\"history\", \"input\"], template=_DEFAULT_TEMPLATE\n",
    ")\n",
    "conversation_with_summary = ConversationChain(\n",
    "    llm=llm, \n",
    "    prompt=PROMPT,\n",
    "    # We set a very low max_token_limit for the purposes of testing.\n",
    "    memory=memory,\n",
    "    verbose=True\n",
    ")\n",
    "conversation_with_summary.predict(input=\"Hi, my name is Perry, what's up?\")\n",
    " "
   ],
   "metadata": {
    "collapsed": false,
    "ExecuteTime": {
     "end_time": "2024-01-28T02:51:19.544607500Z",
     "start_time": "2024-01-28T02:51:17.063572100Z"
    }
   },
   "id": "11a2b2f9bee39316"
  },
  {
   "cell_type": "code",
   "execution_count": 12,
   "outputs": [
    {
     "name": "stdout",
     "output_type": "stream",
     "text": [
      "\n",
      "\n",
      "\u001B[1m> Entering new ConversationChain chain...\u001B[0m\n",
      "Prompt after formatting:\n",
      "\u001B[32;1m\u001B[1;3mThe following is a friendly conversation between a human and an AI. The AI is talkative and provides lots of specific details from its context. If the AI does not know the answer to a question, it truthfully says it does not know.\n",
      " \n",
      "Relevant pieces of previous conversation:\n",
      "input: My favorite sport is soccer\n",
      "output: ...\n",
      " \n",
      "(You do not need to use these pieces of information if not relevant)\n",
      " \n",
      "Current conversation:\n",
      "Human: what's my favorite sport?\n",
      "AI:\u001B[0m\n",
      "\n",
      "\u001B[1m> Finished chain.\u001B[0m\n"
     ]
    },
    {
     "data": {
      "text/plain": "'Your favorite sport is soccer.'"
     },
     "execution_count": 12,
     "metadata": {},
     "output_type": "execute_result"
    }
   ],
   "source": [
    "# Here, the basketball related content is surfaced\n",
    "conversation_with_summary.predict(input=\"what's my favorite sport?\")\n",
    " "
   ],
   "metadata": {
    "collapsed": false,
    "ExecuteTime": {
     "end_time": "2024-01-28T02:51:51.591791500Z",
     "start_time": "2024-01-28T02:51:28.739154300Z"
    }
   },
   "id": "f786745df362e39e"
  },
  {
   "cell_type": "code",
   "execution_count": null,
   "outputs": [],
   "source": [
    "\"\"\" output\n",
    "\n",
    "\n",
    "\u001B[1m> Entering new ConversationChain chain...\u001B[0m\n",
    "Prompt after formatting:\n",
    "\u001B[32;1m\u001B[1;3mThe following is a friendly conversation between a human and an AI. The AI is talkative and provides lots of specific details from its context. If the AI does not know the answer to a question, it truthfully says it does not know.\n",
    " \n",
    "Relevant pieces of previous conversation:\n",
    "input: My favorite sport is soccer\n",
    "output: ...\n",
    " \n",
    "(You do not need to use these pieces of information if not relevant)\n",
    " \n",
    "Current conversation:\n",
    "Human: what's my favorite sport?\n",
    "AI:\u001B[0m\n",
    "\n",
    "\u001B[1m> Finished chain.\u001B[0m\n",
    "\n",
    "'Your favorite sport is soccer.'\n",
    "\"\"\""
   ],
   "metadata": {
    "collapsed": false
   },
   "id": "6a75b3c4fd10c780"
  },
  {
   "cell_type": "code",
   "execution_count": 13,
   "outputs": [
    {
     "name": "stdout",
     "output_type": "stream",
     "text": [
      "\n",
      "\n",
      "\u001B[1m> Entering new ConversationChain chain...\u001B[0m\n",
      "Prompt after formatting:\n",
      "\u001B[32;1m\u001B[1;3mThe following is a friendly conversation between a human and an AI. The AI is talkative and provides lots of specific details from its context. If the AI does not know the answer to a question, it truthfully says it does not know.\n",
      " \n",
      "Relevant pieces of previous conversation:\n",
      "input: My favorite food is pizza\n",
      "output: that's good to know\n",
      " \n",
      "(You do not need to use these pieces of information if not relevant)\n",
      " \n",
      "Current conversation:\n",
      "Human: Whats my favorite food\n",
      "AI:\u001B[0m\n",
      "\n",
      "\u001B[1m> Finished chain.\u001B[0m\n"
     ]
    },
    {
     "data": {
      "text/plain": "'Your favorite food is pizza.'"
     },
     "execution_count": 13,
     "metadata": {},
     "output_type": "execute_result"
    }
   ],
   "source": [
    "# Even though the language model is stateless, since relavent memory is fetched, it can \"reason\" about the time.\n",
    "# Timestamping memories and data is useful in general to let the agent determine temporal relevance\n",
    "conversation_with_summary.predict(input=\"Whats my favorite food\")\n",
    " "
   ],
   "metadata": {
    "collapsed": false,
    "ExecuteTime": {
     "end_time": "2024-01-28T02:52:34.576795Z",
     "start_time": "2024-01-28T02:51:51.592791500Z"
    }
   },
   "id": "8eff15acbcf8b908"
  },
  {
   "cell_type": "code",
   "execution_count": null,
   "outputs": [],
   "source": [
    "\"\"\" output\n",
    "\n",
    "\n",
    "\u001B[1m> Entering new ConversationChain chain...\u001B[0m\n",
    "Prompt after formatting:\n",
    "\u001B[32;1m\u001B[1;3mThe following is a friendly conversation between a human and an AI. The AI is talkative and provides lots of specific details from its context. If the AI does not know the answer to a question, it truthfully says it does not know.\n",
    " \n",
    "Relevant pieces of previous conversation:\n",
    "input: My favorite food is pizza\n",
    "output: that's good to know\n",
    " \n",
    "(You do not need to use these pieces of information if not relevant)\n",
    " \n",
    "Current conversation:\n",
    "Human: Whats my favorite food\n",
    "AI:\u001B[0m\n",
    "\n",
    "\u001B[1m> Finished chain.\u001B[0m\n",
    "\n",
    "'Your favorite food is pizza.'\n",
    "\"\"\""
   ],
   "metadata": {
    "collapsed": false
   },
   "id": "2508f35cc07a3392"
  },
  {
   "cell_type": "code",
   "execution_count": 14,
   "outputs": [
    {
     "name": "stdout",
     "output_type": "stream",
     "text": [
      "\n",
      "\n",
      "\u001B[1m> Entering new ConversationChain chain...\u001B[0m\n",
      "Prompt after formatting:\n",
      "\u001B[32;1m\u001B[1;3mThe following is a friendly conversation between a human and an AI. The AI is talkative and provides lots of specific details from its context. If the AI does not know the answer to a question, it truthfully says it does not know.\n",
      " \n",
      "Relevant pieces of previous conversation:\n",
      "input: Hi, my name is Perry, what's up?\n",
      "response: Hello Perry! I'm doing well, thank you. How about you?\n",
      " \n",
      "(You do not need to use these pieces of information if not relevant)\n",
      " \n",
      "Current conversation:\n",
      "Human: What's my name?\n",
      "AI:\u001B[0m\n",
      "\n",
      "\u001B[1m> Finished chain.\u001B[0m\n"
     ]
    },
    {
     "data": {
      "text/plain": "'Your name is Perry.'"
     },
     "execution_count": 14,
     "metadata": {},
     "output_type": "execute_result"
    }
   ],
   "source": [
    "# The memories from the conversation are automatically stored,\n",
    "# since this query best matches the introduction chat above,\n",
    "# the agent is able to 'remember' the user's name.\n",
    "conversation_with_summary.predict(input=\"What's my name?\")\n",
    " "
   ],
   "metadata": {
    "collapsed": false,
    "ExecuteTime": {
     "end_time": "2024-01-28T02:53:17.615653700Z",
     "start_time": "2024-01-28T02:52:34.577805700Z"
    }
   },
   "id": "3623884544516fbb"
  },
  {
   "cell_type": "code",
   "execution_count": null,
   "outputs": [],
   "source": [
    "\"\"\" output\n",
    "\n",
    "\n",
    "\u001B[1m> Entering new ConversationChain chain...\u001B[0m\n",
    "Prompt after formatting:\n",
    "\u001B[32;1m\u001B[1;3mThe following is a friendly conversation between a human and an AI. The AI is talkative and provides lots of specific details from its context. If the AI does not know the answer to a question, it truthfully says it does not know.\n",
    " \n",
    "Relevant pieces of previous conversation:\n",
    "input: Hi, my name is Perry, what's up?\n",
    "response: Hello Perry! I'm doing well, thank you. How about you?\n",
    " \n",
    "(You do not need to use these pieces of information if not relevant)\n",
    " \n",
    "Current conversation:\n",
    "Human: What's my name?\n",
    "AI:\u001B[0m\n",
    "\n",
    "\u001B[1m> Finished chain.\u001B[0m\n",
    "\n",
    "'Your name is Perry.'\n",
    "\"\"\""
   ],
   "metadata": {
    "collapsed": false
   },
   "id": "a4a9f86562278d18"
  }
 ],
 "metadata": {
  "kernelspec": {
   "display_name": "Python 3",
   "language": "python",
   "name": "python3"
  },
  "language_info": {
   "codemirror_mode": {
    "name": "ipython",
    "version": 2
   },
   "file_extension": ".py",
   "mimetype": "text/x-python",
   "name": "python",
   "nbconvert_exporter": "python",
   "pygments_lexer": "ipython2",
   "version": "2.7.6"
  }
 },
 "nbformat": 4,
 "nbformat_minor": 5
}
