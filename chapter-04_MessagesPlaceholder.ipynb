{
 "cells": [
  {
   "cell_type": "code",
   "execution_count": 1,
   "outputs": [],
   "source": [
    "# 通常提示的输入可以是消息列表。这是您需要使用 MessagesPlaceholder 的时候。\n",
    "# 这些对象由 variable_name 参数参数化。与此 variable_name 值相同的输入应该是消息列表。"
   ],
   "metadata": {
    "collapsed": false,
    "ExecuteTime": {
     "end_time": "2024-01-24T14:56:01.911493900Z",
     "start_time": "2024-01-24T14:56:01.905485400Z"
    }
   },
   "id": "2865461d967a68d4"
  },
  {
   "cell_type": "code",
   "execution_count": 1,
   "outputs": [],
   "source": [
    "from dotenv import load_dotenv, find_dotenv\n",
    "\n",
    "# read local .env file\n",
    "# find_dotenv 函数通常用于搜索和定位目录树中的 .env 文件，而 load_dotenv 函数用于将 .env 文件中的变量加载到环境中。\n",
    "_ = load_dotenv(find_dotenv())"
   ],
   "metadata": {
    "collapsed": false,
    "ExecuteTime": {
     "end_time": "2024-01-28T00:43:28.835351800Z",
     "start_time": "2024-01-28T00:43:28.815360Z"
    }
   },
   "id": "54baacba88d6781e"
  },
  {
   "cell_type": "code",
   "execution_count": 2,
   "outputs": [],
   "source": [
    "from langchain_openai import ChatOpenAI\n",
    "\n",
    "llm = ChatOpenAI(model_name=\"gpt-3.5-turbo\", temperature=0.3)"
   ],
   "metadata": {
    "collapsed": false,
    "ExecuteTime": {
     "end_time": "2024-01-28T00:43:30.383024700Z",
     "start_time": "2024-01-28T00:43:29.422458500Z"
    }
   },
   "id": "435fa6a0abea371d"
  },
  {
   "cell_type": "code",
   "execution_count": 3,
   "outputs": [],
   "source": [
    "from langchain_core.prompts import HumanMessagePromptTemplate, ChatPromptTemplate\n",
    "from langchain.prompts import MessagesPlaceholder\n",
    " \n",
    "human_prompt = \"Summarize our conversation so far in {word_count} words.\"\n",
    "human_message_template = HumanMessagePromptTemplate.from_template(human_prompt)\n",
    " \n",
    "chat_prompt = ChatPromptTemplate.from_messages([MessagesPlaceholder(variable_name=\"conversation\"), human_message_template])"
   ],
   "metadata": {
    "collapsed": false,
    "ExecuteTime": {
     "end_time": "2024-01-28T00:43:32.573520800Z",
     "start_time": "2024-01-28T00:43:32.503552600Z"
    }
   },
   "id": "c40e45aebcb3d337"
  },
  {
   "cell_type": "code",
   "execution_count": 4,
   "outputs": [
    {
     "data": {
      "text/plain": "[HumanMessage(content='What is the best way to learn programming?'),\n AIMessage(content='1. Choose a programming language: Decide on a programming language that you want to learn. \\n \\n2. Start with the basics: Familiarize yourself with the basic programming concepts such as variables, data types and control structures.\\n \\n3. Practice, practice, practice: The best way to learn programming is through hands-on experience'),\n HumanMessage(content='Summarize our conversation so far in 10 words.')]"
     },
     "execution_count": 4,
     "metadata": {},
     "output_type": "execute_result"
    }
   ],
   "source": [
    "from langchain_core.messages import HumanMessage, AIMessage\n",
    "\n",
    "human_message = HumanMessage(content=\"What is the best way to learn programming?\")\n",
    "ai_message = AIMessage(content=\"\"\"\\\n",
    "1. Choose a programming language: Decide on a programming language that you want to learn. \n",
    " \n",
    "2. Start with the basics: Familiarize yourself with the basic programming concepts such as variables, data types and control structures.\n",
    " \n",
    "3. Practice, practice, practice: The best way to learn programming is through hands-on experience\\\n",
    "\"\"\")\n",
    " \n",
    "chat_prompt.format_prompt(conversation=[human_message, ai_message], word_count=\"10\").to_messages()\n"
   ],
   "metadata": {
    "collapsed": false,
    "ExecuteTime": {
     "end_time": "2024-01-28T00:43:37.771565700Z",
     "start_time": "2024-01-28T00:43:37.741043200Z"
    }
   },
   "id": "790f86b4e5626627"
  },
  {
   "cell_type": "code",
   "execution_count": null,
   "outputs": [],
   "source": [
    "\"\"\" output\n",
    "[HumanMessage(content='What is the best way to learn programming?'),\n",
    " AIMessage(content='1. Choose a programming language: Decide on a programming language that you want to learn. \\n \\n2. Start with the basics: Familiarize yourself with the basic programming concepts such as variables, data types and control structures.\\n \\n3. Practice, practice, practice: The best way to learn programming is through hands-on experience'),\n",
    " HumanMessage(content='Summarize our conversation so far in 10 words.')]\n",
    "\"\"\""
   ],
   "metadata": {
    "collapsed": false
   },
   "id": "b8403682f85a1073"
  }
 ],
 "metadata": {
  "kernelspec": {
   "display_name": "Python 3",
   "language": "python",
   "name": "python3"
  },
  "language_info": {
   "codemirror_mode": {
    "name": "ipython",
    "version": 2
   },
   "file_extension": ".py",
   "mimetype": "text/x-python",
   "name": "python",
   "nbconvert_exporter": "python",
   "pygments_lexer": "ipython2",
   "version": "2.7.6"
  }
 },
 "nbformat": 4,
 "nbformat_minor": 5
}
