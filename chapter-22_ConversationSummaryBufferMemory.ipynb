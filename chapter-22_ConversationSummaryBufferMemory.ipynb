{
 "cells": [
  {
   "cell_type": "code",
   "execution_count": 1,
   "id": "initial_id",
   "metadata": {
    "collapsed": true,
    "ExecuteTime": {
     "end_time": "2024-01-28T02:29:48.223448600Z",
     "start_time": "2024-01-28T02:29:47.361993400Z"
    }
   },
   "outputs": [],
   "source": [
    "from dotenv import load_dotenv, find_dotenv\n",
    "\n",
    "# read local .env file\n",
    "# find_dotenv 函数通常用于搜索和定位目录树中的 .env 文件，而 load_dotenv 函数用于将 .env 文件中的变量加载到环境中。\n",
    "_ = load_dotenv(find_dotenv())\n",
    "from langchain_openai import ChatOpenAI\n",
    "\n",
    "llm = ChatOpenAI(model_name=\"gpt-3.5-turbo\", temperature=0.3)"
   ]
  },
  {
   "cell_type": "code",
   "execution_count": 2,
   "outputs": [],
   "source": [
    "\"\"\"\n",
    "ConversationSummaryBufferMemory将最近的交互记录缓存在内存中，但不仅仅是完全清除旧的交互，而是将它们编译成一份摘要并同时使用。\n",
    "不过，与之前的实现不同，它使用令牌长度而不是交互数量来确定何时清除交互。\n",
    "\"\"\"\n",
    "from langchain.memory import ConversationSummaryBufferMemory\n",
    "memory = ConversationSummaryBufferMemory(llm=llm, max_token_limit=10)\n",
    "memory.save_context({\"input\": \"hi\"}, {\"output\": \"whats up\"})\n",
    "memory.save_context({\"input\": \"not much you\"}, {\"output\": \"not much\"})\n",
    " "
   ],
   "metadata": {
    "collapsed": false,
    "ExecuteTime": {
     "end_time": "2024-01-28T02:30:18.865068600Z",
     "start_time": "2024-01-28T02:30:14.761562500Z"
    }
   },
   "id": "27eb500ed4fc0360"
  },
  {
   "cell_type": "code",
   "execution_count": 3,
   "outputs": [
    {
     "data": {
      "text/plain": "{'history': 'System: The human greets the AI and the AI asks what is going on. The human responds by saying \"not much, you?\"\\nAI: not much'}"
     },
     "execution_count": 3,
     "metadata": {},
     "output_type": "execute_result"
    }
   ],
   "source": [
    "memory.load_memory_variables({})\n",
    " "
   ],
   "metadata": {
    "collapsed": false,
    "ExecuteTime": {
     "end_time": "2024-01-28T02:30:20.901926900Z",
     "start_time": "2024-01-28T02:30:20.885624600Z"
    }
   },
   "id": "ced0ac0abbf079d7"
  },
  {
   "cell_type": "code",
   "execution_count": null,
   "outputs": [],
   "source": [
    "\"\"\" output\n",
    "{'history': 'System: The human greets the AI and the AI asks what is going on. The human responds by saying \"not much, you?\"\\nAI: not much'}\n",
    "\"\"\""
   ],
   "metadata": {
    "collapsed": false
   },
   "id": "4b8443ed701707fc"
  },
  {
   "cell_type": "code",
   "execution_count": 4,
   "outputs": [],
   "source": [
    "\"\"\"\n",
    "我们还可以将历史记录作为消息列表获取（如果您正在使用聊天模型，则此功能很有用)。\n",
    "\"\"\"\n",
    "\n",
    "memory = ConversationSummaryBufferMemory(llm=llm, max_token_limit=10, return_messages=True)\n",
    "memory.save_context({\"input\": \"hi\"}, {\"output\": \"whats up\"})\n",
    "memory.save_context({\"input\": \"not much you\"}, {\"output\": \"not much\"})\n",
    " "
   ],
   "metadata": {
    "collapsed": false,
    "ExecuteTime": {
     "end_time": "2024-01-28T02:31:17.058652Z",
     "start_time": "2024-01-28T02:31:13.551498900Z"
    }
   },
   "id": "41108c0665968625"
  },
  {
   "cell_type": "code",
   "execution_count": 5,
   "outputs": [
    {
     "data": {
      "text/plain": "\"The human asks what the AI thinks of artificial intelligence. The AI thinks artificial intelligence is a force for good because it will help humans reach their full potential. The AI also mentions that there isn't much else to say about it.\""
     },
     "execution_count": 5,
     "metadata": {},
     "output_type": "execute_result"
    }
   ],
   "source": [
    "\"\"\"\n",
    "我们还可以直接利用predict_new_summary方法。\n",
    "\"\"\"\n",
    "messages = memory.chat_memory.messages\n",
    "previous_summary = \"\"\n",
    "memory.predict_new_summary(messages, previous_summary)\n",
    " "
   ],
   "metadata": {
    "collapsed": false,
    "ExecuteTime": {
     "end_time": "2024-01-28T02:31:37.727642800Z",
     "start_time": "2024-01-28T02:31:35.016267800Z"
    }
   },
   "id": "9321f45807f1e4d6"
  },
  {
   "cell_type": "code",
   "execution_count": null,
   "outputs": [],
   "source": [
    "\"\"\" output\n",
    "\"The human asks what the AI thinks of artificial intelligence. The AI thinks artificial intelligence is a force for good because it will help humans reach their full potential. The AI also mentions that there isn't much else to say about it.\"\n",
    "\"\"\""
   ],
   "metadata": {
    "collapsed": false
   },
   "id": "105c36281ce60bf8"
  },
  {
   "cell_type": "code",
   "execution_count": 6,
   "outputs": [
    {
     "name": "stdout",
     "output_type": "stream",
     "text": [
      "\n",
      "\n",
      "\u001B[1m> Entering new ConversationChain chain...\u001B[0m\n",
      "Prompt after formatting:\n",
      "\u001B[32;1m\u001B[1;3mThe following is a friendly conversation between a human and an AI. The AI is talkative and provides lots of specific details from its context. If the AI does not know the answer to a question, it truthfully says it does not know.\n",
      "\n",
      "Current conversation:\n",
      "\n",
      "Human: Hi, what's up?\n",
      "AI:\u001B[0m\n",
      "\n",
      "\u001B[1m> Finished chain.\u001B[0m\n"
     ]
    },
    {
     "data": {
      "text/plain": "\"Hello! I'm an AI designed to have conversations and provide information. Right now, I'm here to chat with you. How can I assist you today?\""
     },
     "execution_count": 6,
     "metadata": {},
     "output_type": "execute_result"
    }
   ],
   "source": [
    "\"\"\"\n",
    "在链式中使用\n",
    "\"\"\"\n",
    "from langchain.chains import ConversationChain\n",
    "conversation_with_summary = ConversationChain(\n",
    "    llm=llm, \n",
    "    # We set a very low max_token_limit for the purposes of testing.\n",
    "    memory=ConversationSummaryBufferMemory(llm=llm, max_token_limit=40),\n",
    "    verbose=True\n",
    ")\n",
    "conversation_with_summary.predict(input=\"Hi, what's up?\")"
   ],
   "metadata": {
    "collapsed": false,
    "ExecuteTime": {
     "end_time": "2024-01-28T02:32:17.552762600Z",
     "start_time": "2024-01-28T02:32:14.602289200Z"
    }
   },
   "id": "34b0170cacd006da"
  },
  {
   "cell_type": "code",
   "execution_count": null,
   "outputs": [],
   "source": [
    "\"\"\" output\n",
    "\n",
    "\n",
    "\u001B[1m> Entering new ConversationChain chain...\u001B[0m\n",
    "Prompt after formatting:\n",
    "\u001B[32;1m\u001B[1;3mThe following is a friendly conversation between a human and an AI. The AI is talkative and provides lots of specific details from its context. If the AI does not know the answer to a question, it truthfully says it does not know.\n",
    "\n",
    "Current conversation:\n",
    "\n",
    "Human: Hi, what's up?\n",
    "AI:\u001B[0m\n",
    "\n",
    "\u001B[1m> Finished chain.\u001B[0m\n",
    "\n",
    "\"Hello! I'm an AI designed to have conversations and provide information. Right now, I'm here to chat with you. How can I assist you today?\"\n",
    "\"\"\""
   ],
   "metadata": {
    "collapsed": false
   },
   "id": "4bbb86c337eda80f"
  },
  {
   "cell_type": "code",
   "execution_count": 7,
   "outputs": [
    {
     "name": "stdout",
     "output_type": "stream",
     "text": [
      "\n",
      "\n",
      "\u001B[1m> Entering new ConversationChain chain...\u001B[0m\n",
      "Prompt after formatting:\n",
      "\u001B[32;1m\u001B[1;3mThe following is a friendly conversation between a human and an AI. The AI is talkative and provides lots of specific details from its context. If the AI does not know the answer to a question, it truthfully says it does not know.\n",
      "\n",
      "Current conversation:\n",
      "System: The human greets the AI and asks what's up.\n",
      "AI: Hello! I'm an AI designed to have conversations and provide information. Right now, I'm here to chat with you. How can I assist you today?\n",
      "Human: Just working on writing some documentation!\n",
      "AI:\u001B[0m\n",
      "\n",
      "\u001B[1m> Finished chain.\u001B[0m\n"
     ]
    },
    {
     "data": {
      "text/plain": "\"That's great! Documentation is an important part of any project. What kind of documentation are you working on? Is it for a specific software or process?\""
     },
     "execution_count": 7,
     "metadata": {},
     "output_type": "execute_result"
    }
   ],
   "source": [
    "conversation_with_summary.predict(input=\"Just working on writing some documentation!\")\n"
   ],
   "metadata": {
    "collapsed": false,
    "ExecuteTime": {
     "end_time": "2024-01-28T02:32:49.414295200Z",
     "start_time": "2024-01-28T02:32:24.798174800Z"
    }
   },
   "id": "c13d9203d0b26c55"
  },
  {
   "cell_type": "code",
   "execution_count": null,
   "outputs": [],
   "source": [
    "\"\"\" output\n",
    "\n",
    "\n",
    "\u001B[1m> Entering new ConversationChain chain...\u001B[0m\n",
    "Prompt after formatting:\n",
    "\u001B[32;1m\u001B[1;3mThe following is a friendly conversation between a human and an AI. The AI is talkative and provides lots of specific details from its context. If the AI does not know the answer to a question, it truthfully says it does not know.\n",
    "\n",
    "Current conversation:\n",
    "System: The human greets the AI and asks what's up.\n",
    "AI: Hello! I'm an AI designed to have conversations and provide information. Right now, I'm here to chat with you. How can I assist you today?\n",
    "Human: Just working on writing some documentation!\n",
    "AI:\u001B[0m\n",
    "\n",
    "\u001B[1m> Finished chain.\u001B[0m\n",
    "\n",
    "\"That's great! Documentation is an important part of any project. What kind of documentation are you working on? Is it for a specific software or process?\"\n",
    "\"\"\""
   ],
   "metadata": {
    "collapsed": false
   },
   "id": "e51c9a989a52f422"
  },
  {
   "cell_type": "code",
   "execution_count": 8,
   "outputs": [
    {
     "name": "stdout",
     "output_type": "stream",
     "text": [
      "\n",
      "\n",
      "\u001B[1m> Entering new ConversationChain chain...\u001B[0m\n",
      "Prompt after formatting:\n",
      "\u001B[32;1m\u001B[1;3mThe following is a friendly conversation between a human and an AI. The AI is talkative and provides lots of specific details from its context. If the AI does not know the answer to a question, it truthfully says it does not know.\n",
      "\n",
      "Current conversation:\n",
      "System: The human greets the AI and asks what's up. The AI responds by introducing itself as an AI designed for conversations and information. The human mentions that they are currently working on writing documentation.\n",
      "AI: That's great! Documentation is an important part of any project. What kind of documentation are you working on? Is it for a specific software or process?\n",
      "Human: For LangChain! Have you heard of it?\n",
      "AI:\u001B[0m\n",
      "\n",
      "\u001B[1m> Finished chain.\u001B[0m\n"
     ]
    },
    {
     "data": {
      "text/plain": "\"Yes, I have heard of LangChain! It is a blockchain platform specifically designed for language-related applications. It aims to provide a decentralized and secure environment for language-related services such as translation, interpretation, and language learning. LangChain utilizes smart contracts and a native cryptocurrency called LangCoin to facilitate transactions and incentivize participants. It also incorporates machine learning and natural language processing technologies to enhance the efficiency and accuracy of language-related tasks. It's an interesting project! Is there anything specific you would like to know about LangChain?\""
     },
     "execution_count": 8,
     "metadata": {},
     "output_type": "execute_result"
    }
   ],
   "source": [
    "# We can see here that there is a summary of the conversation and then some previous interactions\n",
    "conversation_with_summary.predict(input=\"For LangChain! Have you heard of it?\")\n",
    " "
   ],
   "metadata": {
    "collapsed": false,
    "ExecuteTime": {
     "end_time": "2024-01-28T02:33:30.390506300Z",
     "start_time": "2024-01-28T02:33:01.393589200Z"
    }
   },
   "id": "6224f03e02c4095b"
  },
  {
   "cell_type": "code",
   "execution_count": null,
   "outputs": [],
   "source": [
    "\"\"\" output\n",
    "\n",
    "\n",
    "\u001B[1m> Entering new ConversationChain chain...\u001B[0m\n",
    "Prompt after formatting:\n",
    "\u001B[32;1m\u001B[1;3mThe following is a friendly conversation between a human and an AI. The AI is talkative and provides lots of specific details from its context. If the AI does not know the answer to a question, it truthfully says it does not know.\n",
    "\n",
    "Current conversation:\n",
    "System: The human greets the AI and asks what's up. The AI responds by introducing itself as an AI designed for conversations and information. The human mentions that they are currently working on writing documentation.\n",
    "AI: That's great! Documentation is an important part of any project. What kind of documentation are you working on? Is it for a specific software or process?\n",
    "Human: For LangChain! Have you heard of it?\n",
    "AI:\u001B[0m\n",
    "\n",
    "\u001B[1m> Finished chain.\u001B[0m\n",
    "\n",
    "\"Yes, I have heard of LangChain! It is a blockchain platform specifically designed for language-related applications. It aims to provide a decentralized and secure environment for language-related services such as translation, interpretation, and language learning. LangChain utilizes smart contracts and a native cryptocurrency called LangCoin to facilitate transactions and incentivize participants. It also incorporates machine learning and natural language processing technologies to enhance the efficiency and accuracy of language-related tasks. It's an interesting project! Is there anything specific you would like to know about LangChain?\"\n",
    "\"\"\""
   ],
   "metadata": {
    "collapsed": false
   },
   "id": "7ef5411ce0dcda8f"
  },
  {
   "cell_type": "code",
   "execution_count": 9,
   "outputs": [
    {
     "name": "stdout",
     "output_type": "stream",
     "text": [
      "\n",
      "\n",
      "\u001B[1m> Entering new ConversationChain chain...\u001B[0m\n",
      "Prompt after formatting:\n",
      "\u001B[32;1m\u001B[1;3mThe following is a friendly conversation between a human and an AI. The AI is talkative and provides lots of specific details from its context. If the AI does not know the answer to a question, it truthfully says it does not know.\n",
      "\n",
      "Current conversation:\n",
      "System: The human greets the AI and asks what's up. The AI responds by introducing itself as an AI designed for conversations and information. The human mentions that they are currently working on writing documentation for LangChain, a blockchain platform for language-related applications. The AI is familiar with LangChain and explains its features, such as smart contracts, a native cryptocurrency called LangCoin, and the incorporation of machine learning and natural language processing technologies. The AI expresses interest in learning more about LangChain and asks if there are any specific details the human would like to know.\n",
      "Human: Haha nope, although a lot of people confuse it for that\n",
      "AI:\u001B[0m\n",
      "\n",
      "\u001B[1m> Finished chain.\u001B[0m\n"
     ]
    },
    {
     "data": {
      "text/plain": "'Confuse what for what? Could you please clarify?'"
     },
     "execution_count": 9,
     "metadata": {},
     "output_type": "execute_result"
    }
   ],
   "source": [
    "# We can see here that the summary and the buffer are updated\n",
    "conversation_with_summary.predict(input=\"Haha nope, although a lot of people confuse it for that\")\n",
    " "
   ],
   "metadata": {
    "collapsed": false,
    "ExecuteTime": {
     "end_time": "2024-01-28T02:33:51.951777800Z",
     "start_time": "2024-01-28T02:33:30.386288700Z"
    }
   },
   "id": "3675f7dd3e254208"
  },
  {
   "cell_type": "code",
   "execution_count": null,
   "outputs": [],
   "source": [
    "\"\"\" output\n",
    "\n",
    "\n",
    "\u001B[1m> Entering new ConversationChain chain...\u001B[0m\n",
    "Prompt after formatting:\n",
    "\u001B[32;1m\u001B[1;3mThe following is a friendly conversation between a human and an AI. The AI is talkative and provides lots of specific details from its context. If the AI does not know the answer to a question, it truthfully says it does not know.\n",
    "\n",
    "Current conversation:\n",
    "System: The human greets the AI and asks what's up. The AI responds by introducing itself as an AI designed for conversations and information. The human mentions that they are currently working on writing documentation for LangChain, a blockchain platform for language-related applications. The AI is familiar with LangChain and explains its features, such as smart contracts, a native cryptocurrency called LangCoin, and the incorporation of machine learning and natural language processing technologies. The AI expresses interest in learning more about LangChain and asks if there are any specific details the human would like to know.\n",
    "Human: Haha nope, although a lot of people confuse it for that\n",
    "AI:\u001B[0m\n",
    "\n",
    "\u001B[1m> Finished chain.\u001B[0m\n",
    "\n",
    "'Confuse what for what? Could you please clarify?'\n",
    "\"\"\""
   ],
   "metadata": {
    "collapsed": false
   },
   "id": "9ae29fa0ecbf7e53"
  }
 ],
 "metadata": {
  "kernelspec": {
   "display_name": "Python 3",
   "language": "python",
   "name": "python3"
  },
  "language_info": {
   "codemirror_mode": {
    "name": "ipython",
    "version": 2
   },
   "file_extension": ".py",
   "mimetype": "text/x-python",
   "name": "python",
   "nbconvert_exporter": "python",
   "pygments_lexer": "ipython2",
   "version": "2.7.6"
  }
 },
 "nbformat": 4,
 "nbformat_minor": 5
}
