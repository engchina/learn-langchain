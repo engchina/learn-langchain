{
 "cells": [
  {
   "cell_type": "code",
   "execution_count": null,
   "id": "initial_id",
   "metadata": {
    "collapsed": true
   },
   "outputs": [],
   "source": [
    "from langchain.memory import RedisChatMessageHistory\n",
    " \n",
    "history = RedisChatMessageHistory(\"foo\")\n",
    " \n",
    "history.add_user_message(\"hi!\")\n",
    " \n",
    "history.add_ai_message(\"whats up?\")\n",
    " "
   ]
  },
  {
   "cell_type": "code",
   "execution_count": null,
   "outputs": [],
   "source": [
    "history.messages\n",
    " "
   ],
   "metadata": {
    "collapsed": false
   },
   "id": "388ca2363b7c47ec"
  }
 ],
 "metadata": {
  "kernelspec": {
   "display_name": "Python 3",
   "language": "python",
   "name": "python3"
  },
  "language_info": {
   "codemirror_mode": {
    "name": "ipython",
    "version": 2
   },
   "file_extension": ".py",
   "mimetype": "text/x-python",
   "name": "python",
   "nbconvert_exporter": "python",
   "pygments_lexer": "ipython2",
   "version": "2.7.6"
  }
 },
 "nbformat": 4,
 "nbformat_minor": 5
}
