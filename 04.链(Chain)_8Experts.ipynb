{
 "cells": [
  {
   "cell_type": "markdown",
   "source": [
    "Download SQLite: https://www.sqlite.org/download.html\n",
    "\n",
    "sqlite3 ./files/Chinook.db\n",
    "```\n",
    "> .read ./files/Chinook_Sqlite.sql\n",
    "> SELECT * FROM Artist LIMIT 10;\n",
    "```"
   ],
   "metadata": {
    "collapsed": false
   },
   "id": "f8b15f16eb813d66"
  },
  {
   "cell_type": "code",
   "execution_count": 1,
   "outputs": [],
   "source": [
    "import os\n",
    "import sys\n",
    "\n",
    "import openai\n",
    "from dotenv import load_dotenv, find_dotenv\n",
    "\n",
    "sys.path.append('../..')\n",
    "\n",
    "# read local .env file\n",
    "_ = load_dotenv(find_dotenv())\n",
    "\n",
    "openai.api_key = os.environ['OPENAI_API_KEY']\n",
    "openai.api_base = os.environ['OPENAI_API_BASE']"
   ],
   "metadata": {
    "collapsed": false,
    "ExecuteTime": {
     "end_time": "2023-12-26T09:04:13.414715300Z",
     "start_time": "2023-12-26T09:04:13.060444300Z"
    }
   },
   "id": "initial_id"
  },
  {
   "cell_type": "markdown",
   "source": [
    "# Prepare"
   ],
   "metadata": {
    "collapsed": false
   },
   "id": "a9d18b6d2a4212ad"
  },
  {
   "cell_type": "markdown",
   "source": [
    "## SQLDatabaseToolkit"
   ],
   "metadata": {
    "collapsed": false
   },
   "id": "5cb21bcfea4bcceb"
  },
  {
   "cell_type": "code",
   "execution_count": 2,
   "outputs": [],
   "source": [
    "from langchain.agents import create_sql_agent\n",
    "from langchain.agents.agent_toolkits import SQLDatabaseToolkit\n",
    "from langchain.agents.agent_types import AgentType\n",
    "from langchain.chat_models import ChatOpenAI\n",
    "from langchain.sql_database import SQLDatabase"
   ],
   "metadata": {
    "collapsed": false,
    "ExecuteTime": {
     "end_time": "2023-12-26T09:04:16.363955600Z",
     "start_time": "2023-12-26T09:04:15.060060300Z"
    }
   },
   "id": "c4a847e4313fa8c8"
  },
  {
   "cell_type": "code",
   "execution_count": 3,
   "outputs": [],
   "source": [
    "db = SQLDatabase.from_uri(\"sqlite:///files/Chinook.db\")\n",
    "toolkit = SQLDatabaseToolkit(db=db, llm=ChatOpenAI(temperature=0, model_name=\"gpt-4\"))"
   ],
   "metadata": {
    "collapsed": false,
    "ExecuteTime": {
     "end_time": "2023-12-26T09:04:16.648359900Z",
     "start_time": "2023-12-26T09:04:16.366955700Z"
    }
   },
   "id": "95ffb96c06e4ac49"
  },
  {
   "cell_type": "code",
   "execution_count": 4,
   "outputs": [],
   "source": [
    "agent_executor = create_sql_agent(\n",
    "    llm=ChatOpenAI(temperature=0, model_name=\"gpt-4\"),\n",
    "    toolkit=toolkit,\n",
    "    verbose=True,\n",
    "    agent_type=AgentType.ZERO_SHOT_REACT_DESCRIPTION,\n",
    ")"
   ],
   "metadata": {
    "collapsed": false,
    "ExecuteTime": {
     "end_time": "2023-12-26T09:04:18.125982Z",
     "start_time": "2023-12-26T09:04:17.861941Z"
    }
   },
   "id": "ceb92f5f28895d8b"
  },
  {
   "cell_type": "code",
   "execution_count": null,
   "outputs": [
    {
     "name": "stdout",
     "output_type": "stream",
     "text": [
      "\n",
      "\n",
      "\u001B[1m> Entering new AgentExecutor chain...\u001B[0m\n"
     ]
    }
   ],
   "source": [
    "agent_executor.run(\"Describe the playlisttrack table\")"
   ],
   "metadata": {
    "collapsed": false,
    "is_executing": true,
    "ExecuteTime": {
     "start_time": "2023-12-26T09:04:18.901724100Z"
    }
   },
   "id": "c635be032f3a6c68"
  },
  {
   "cell_type": "code",
   "execution_count": null,
   "outputs": [],
   "source": [
    "agent_executor.run(\"Describe the playlistsong table\")"
   ],
   "metadata": {
    "collapsed": false
   },
   "id": "4de6d84c10b353b"
  },
  {
   "cell_type": "code",
   "execution_count": null,
   "outputs": [],
   "source": [
    "agent_executor.run(\n",
    "    \"List the total sales per country. Which country's customers spent the most?\"\n",
    ")"
   ],
   "metadata": {
    "collapsed": false
   },
   "id": "8c9401f18a25317f"
  },
  {
   "cell_type": "code",
   "execution_count": null,
   "outputs": [],
   "source": [
    "agent_executor.run(\n",
    "    \"Show the total number of tracks in each playlist. The Playlist name should be included in the result.\"\n",
    ")"
   ],
   "metadata": {
    "collapsed": false
   },
   "id": "4c903444034b5035"
  },
  {
   "cell_type": "code",
   "execution_count": null,
   "outputs": [],
   "source": [
    "agent_executor.run(\"Who are the top 3 best selling artists?\")"
   ],
   "metadata": {
    "collapsed": false
   },
   "id": "92f278c683e356fc"
  },
  {
   "cell_type": "code",
   "execution_count": null,
   "outputs": [],
   "source": [],
   "metadata": {
    "collapsed": false
   },
   "id": "661e57a4b44fcc7f"
  }
 ],
 "metadata": {
  "kernelspec": {
   "display_name": "Python 3",
   "language": "python",
   "name": "python3"
  },
  "language_info": {
   "codemirror_mode": {
    "name": "ipython",
    "version": 2
   },
   "file_extension": ".py",
   "mimetype": "text/x-python",
   "name": "python",
   "nbconvert_exporter": "python",
   "pygments_lexer": "ipython2",
   "version": "2.7.6"
  }
 },
 "nbformat": 4,
 "nbformat_minor": 5
}
