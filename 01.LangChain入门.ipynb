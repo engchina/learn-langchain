{
 "cells": [
  {
   "cell_type": "markdown",
   "source": [
    "## Prepare"
   ],
   "metadata": {
    "collapsed": false
   },
   "id": "7031972a64445298"
  },
  {
   "cell_type": "code",
   "execution_count": 1,
   "outputs": [],
   "source": [
    "import os\n",
    "import sys\n",
    "\n",
    "import openai\n",
    "from dotenv import load_dotenv, find_dotenv\n",
    "\n",
    "sys.path.append('../..')\n",
    "\n",
    "# read local .env file\n",
    "_ = load_dotenv(find_dotenv())\n",
    "\n",
    "openai.api_key = os.environ['OPENAI_API_KEY']\n",
    "openai.api_base = os.environ['OPENAI_API_BASE']"
   ],
   "metadata": {
    "collapsed": false,
    "ExecuteTime": {
     "end_time": "2023-12-24T11:02:19.694713100Z",
     "start_time": "2023-12-24T11:02:19.364234800Z"
    }
   },
   "id": "f76ab855bc398d04"
  },
  {
   "cell_type": "markdown",
   "source": [
    "## Agent"
   ],
   "metadata": {
    "collapsed": false
   },
   "id": "da48a0a825c54b5"
  },
  {
   "cell_type": "code",
   "execution_count": null,
   "outputs": [
    {
     "name": "stdout",
     "output_type": "stream",
     "text": [
      "\n",
      "\n",
      "\u001B[1m> Entering new AgentExecutor chain...\u001B[0m\n",
      "\u001B[32;1m\u001B[1;3mThe user is asking about the weather in Shanghai three days from now. I need to look up the current weather forecast for Shanghai.\n",
      "Action: Search\n",
      "Action Input: Weather forecast for Shanghai on the third day from now\u001B[0m\n",
      "Observation: \u001B[36;1m\u001B[1;3m['Shanghai Extended Forecast with high and low temperatures ... Mostly sunny. Feels Like: 38 °F. Humidity: 34%. Precipitation: Rain: 0 Snow ...', 'in Shanghai fair, +19 °C. Weather. Maps News · China. Shanghai 3-Day Weather Forecast. Now Today Tomorrow. 3 days. 10 days Month', 'The Shanghai weather on September 30 night will be mixed with some thunderstorm clouds possible and warm. Chance of precipitation 20%, normal atmospheric ...', \"TONIGHT'S WEATHER FORECAST. 12/24. 30°Lo. RealFeel® 26°. Partly cloudy and cold · TOMORROW'S WEATHER FORECAST. 12/25. 43°/ 32°. RealFeel® 41°. Partly sunny and ...\", 'Day by day forecast ; Today · 1° 33° · -3° 27° ; Saturday 23rd DecemberSat 23rd · 5° 42° · -4° 24° ; Sunday 24th DecemberSun 24th · 7° 45° · -5° 23°.', 'Weather now for Shanghai, weather tormorrow for Shanghai and weather forecast for 25 days updated every half hour ... Wednesday 3rd January. °C. °F. 4º 39º. Clear.', \"Shanghai, People's Republic of China 10-Day Weather Forecaststar_ratehome ; Pressure. 30.71 · in ; Visibility. 6 · miles ; Dew Point. 5 · F ; Humidity. 37 · % ; Rainfall.\", '3rd day weather condition icon. Patchy rain possible. 1.3˚C. Fri. 4th ... The current weather condition in Perth is Clear now. This was last ...', 'Fri. 2023.12.22. cold ; Sat. 2023.12.23. generally overcast with frost at morning ; Sun. 2023.12.24. cold and scattered clouds ; Mon. 2023.12.25. cold and clear.', 'today. 49°. 42°. Precipitation 34% · Wed 13. 62°. 56°. Precipitation 24% · Thu 14. 72°. 59°. Precipitation 1% · Fri 15. 60°. 38°. Precipitation 74% · Sat 16. 41°.']\u001B[0m\n",
      "Thought:"
     ]
    }
   ],
   "source": [
    "from langchain.agents import load_tools\n",
    "from langchain.agents import initialize_agent\n",
    "from langchain.agents import AgentType\n",
    "from langchain.chat_models import ChatOpenAI\n",
    "\n",
    "chat = ChatOpenAI(temperature=0)\n",
    "tools = load_tools([\"serpapi\", \"llm-math\"], llm=chat)\n",
    "agent = initialize_agent(tools, chat, agent=AgentType.ZERO_SHOT_REACT_DESCRIPTION, verbose=True)\n",
    "# agent.run(\"What will be the weather in Shanghai three days from now?\")\n",
    "agent.run(\"三天后上海的天气会怎么样？\")"
   ],
   "metadata": {
    "collapsed": false,
    "is_executing": true,
    "ExecuteTime": {
     "start_time": "2023-12-24T11:01:22.441115200Z"
    }
   },
   "id": "42549d96f2b5933b"
  },
  {
   "cell_type": "markdown",
   "source": [
    "## 记忆组件"
   ],
   "metadata": {
    "collapsed": false
   },
   "id": "7b4c5a02554e0088"
  },
  {
   "cell_type": "code",
   "execution_count": 2,
   "outputs": [
    {
     "data": {
      "text/plain": "'你好！很高兴认识你。作为一个AI助手，我可以回答你的问题、提供信息和帮助解决问题。请随时告诉我需要什么帮助。\\n\\n你说你是程序员，那么你最常用的编程语言是哪个？我知道很多程序员都喜欢使用Python或JavaScript，因为它们有丰富的库和框架支持。但是，根据你的需求和偏好，也可能会选择其他语言。\\n\\n如果你遇到任何问题或困难，请告诉我，我将尽力提供帮助。'"
     },
     "execution_count": 2,
     "metadata": {},
     "output_type": "execute_result"
    }
   ],
   "source": [
    "from langchain.prompts import (\n",
    "    ChatPromptTemplate,\n",
    "    MessagesPlaceholder,\n",
    "    SystemMessagePromptTemplate,\n",
    "    HumanMessagePromptTemplate,\n",
    ")\n",
    "from langchain.chains import ConversationChain\n",
    "from langchain.chat_models import ChatOpenAI\n",
    "from langchain.memory import ConversationBufferMemory\n",
    "\n",
    "prompt = ChatPromptTemplate.from_messages([\n",
    "    SystemMessagePromptTemplate.from_template(\n",
    "        \"\"\"\n",
    "The following is a friendly conversation between a human and an AI.\n",
    "The AI is talkative and provides lots of specific details from its context.\n",
    "If the AI does not know the answer to a question, it truthfully says it does not know.        \n",
    "        \"\"\"\n",
    "    ),\n",
    "    MessagesPlaceholder(variable_name=\"history\"),\n",
    "    HumanMessagePromptTemplate.from_template(\"{input}\"),\n",
    "])\n",
    "\n",
    "llm = ChatOpenAI(temperature=0)\n",
    "memory = ConversationBufferMemory(return_messages=True)\n",
    "conversation = ConversationChain(\n",
    "    llm=llm,\n",
    "    prompt=prompt,\n",
    "    memory=memory\n",
    ")\n",
    "\n",
    "conversation.predict(input=\"你好，我是程序员\")"
   ],
   "metadata": {
    "collapsed": false,
    "ExecuteTime": {
     "end_time": "2023-12-24T11:03:14.642736400Z",
     "start_time": "2023-12-24T11:02:23.520097500Z"
    }
   },
   "id": "5c7ec6d0c6feb2b3"
  },
  {
   "cell_type": "markdown",
   "source": [
    "## LangChain 表达式"
   ],
   "metadata": {
    "collapsed": false
   },
   "id": "aa06eb55a7300c32"
  },
  {
   "cell_type": "code",
   "execution_count": 3,
   "outputs": [
    {
     "name": "stdout",
     "output_type": "stream",
     "text": [
      "Sure, here's one: Why don't bears use email? Because they can't handle too many attachments! How was that?\n"
     ]
    }
   ],
   "source": [
    "from langchain.prompts import ChatPromptTemplate\n",
    "from langchain.chat_models import ChatOpenAI\n",
    "from langchain.schema.output_parser import StrOutputParser\n",
    "\n",
    "prompt = ChatPromptTemplate.from_template(\n",
    "    \"tell me a joke about {topic}\"\n",
    ")\n",
    "model = ChatOpenAI(temperature=0)\n",
    "output_parser = StrOutputParser()\n",
    "chain = prompt | model | output_parser\n",
    "\n",
    "response = chain.invoke({\"topic\": \"bear\"})\n",
    "print(response)"
   ],
   "metadata": {
    "collapsed": false,
    "ExecuteTime": {
     "end_time": "2023-12-24T11:03:26.705380400Z",
     "start_time": "2023-12-24T11:03:14.642736400Z"
    }
   },
   "id": "d5719c54061d3a11"
  },
  {
   "cell_type": "code",
   "execution_count": 4,
   "outputs": [
    {
     "name": "stdout",
     "output_type": "stream",
     "text": [
      "content=\"Sure, why not? Here's one for you: Why do bears hate shoes so much? Because they like to run around in their bear feet! Is that the kind of joke you were looking for?\"\n"
     ]
    }
   ],
   "source": [
    "functions = [\n",
    "    {\n",
    "        \"name\": \"joke\",\n",
    "        \"description\": \"tell me a joke\",\n",
    "        \"parameters\": {\n",
    "            \"topic\": {\n",
    "                \"type\": \"object\",\n",
    "                \"properties\": {\n",
    "                    \"setup\": {\n",
    "                        \"type\": \"string\",\n",
    "                        \"description\": \"The setup for the joke\"\n",
    "                    },\n",
    "                    \"punchline\": {\n",
    "                        \"type\": \"string\",\n",
    "                        \"description\": \"The punchline for the joke\"\n",
    "                    }\n",
    "                },\n",
    "                \"required\": [\"setup\", \"punchline\"]\n",
    "            }\n",
    "        }\n",
    "    }\n",
    "]\n",
    "\n",
    "chain = prompt | model.bind(function_call={\"name\": \"joke\"}, functions=functions)\n",
    "response = chain.invoke({\"topic\": \"bear\"}, config={})\n",
    "print(response)"
   ],
   "metadata": {
    "collapsed": false,
    "ExecuteTime": {
     "end_time": "2023-12-24T11:03:40.040113400Z",
     "start_time": "2023-12-24T11:03:26.705380400Z"
    }
   },
   "id": "63a6a90d37d1c543"
  },
  {
   "cell_type": "markdown",
   "source": [
    "## 多功能组合链"
   ],
   "metadata": {
    "collapsed": false
   },
   "id": "59b77bc6028cda48"
  },
  {
   "cell_type": "code",
   "execution_count": 5,
   "outputs": [
    {
     "name": "stdout",
     "output_type": "stream",
     "text": [
      "Barack Obama was born in Honolulu, Hawaii.\n"
     ]
    },
    {
     "data": {
      "text/plain": "'这个城市位于夏威夷州，美国。中文：这个城市位于夏威夷州，美国。'"
     },
     "execution_count": 5,
     "metadata": {},
     "output_type": "execute_result"
    }
   ],
   "source": [
    "from operator import itemgetter\n",
    "\n",
    "prompt1 = ChatPromptTemplate.from_template(\"what is the city {person} is from?\")\n",
    "prompt2 = ChatPromptTemplate.from_template(\"what country is the city {city} in? respond in {language}\")\n",
    "chain1 = prompt1 | model | StrOutputParser()\n",
    "response = chain1.invoke({\"person\": \"obama\"})\n",
    "print(response)\n",
    "chain2 = (\n",
    "        {\"city\": chain1, \"language\": itemgetter(\"language\")}\n",
    "        | prompt2\n",
    "        | model\n",
    "        | StrOutputParser()\n",
    ")\n",
    "chain2.invoke({\"person\": \"obama\", \"language\": \"Chinese\"})"
   ],
   "metadata": {
    "collapsed": false,
    "ExecuteTime": {
     "end_time": "2023-12-24T11:04:00.391847200Z",
     "start_time": "2023-12-24T11:03:40.042535200Z"
    }
   },
   "id": "a52fe5e72f8df0a7"
  },
  {
   "cell_type": "code",
   "execution_count": 8,
   "outputs": [
    {
     "data": {
      "text/plain": "ChatPromptValue(messages=[HumanMessage(content=\"what is the color of The name of the fruit that is this color is not something I can determine as it's a random color and not associated with any specific fruit. However, some fruits that are shades of purple include eggplant, acai berries, blackberries, and plums. and The country with a flag closest to the color you provided (#8A2BE2) is Dominica. However, please note that no country has an exact match for this specific shade of purple.\")])"
     },
     "execution_count": 8,
     "metadata": {},
     "output_type": "execute_result"
    }
   ],
   "source": [
    "from langchain.schema.runnable import RunnableMap\n",
    "\n",
    "prompt1 = ChatPromptTemplate.from_template(\"generate a random color\")\n",
    "prompt2 = ChatPromptTemplate.from_template(\"what is a fruit of color: {color}\")\n",
    "prompt3 = ChatPromptTemplate.from_template(\"what is countries flag that has the color: {color}\")\n",
    "prompt4 = ChatPromptTemplate.from_template(\"what is the color of {fruit} and {country}\")\n",
    "\n",
    "chain1 = prompt1 | model | StrOutputParser()\n",
    "chain2 = RunnableMap(color={\"color\": chain1}) | {\"fruit\": prompt2 | model | StrOutputParser(),\n",
    "                                                 \"country\": prompt3 | model | StrOutputParser(), } | prompt4\n",
    "chain2.invoke({})"
   ],
   "metadata": {
    "collapsed": false,
    "ExecuteTime": {
     "end_time": "2023-12-24T11:10:38.579365700Z",
     "start_time": "2023-12-24T11:09:59.901288500Z"
    }
   },
   "id": "2a57f64b3e912e48"
  },
  {
   "cell_type": "code",
   "execution_count": null,
   "outputs": [],
   "source": [],
   "metadata": {
    "collapsed": false
   },
   "id": "d9cbee20e7055bed"
  }
 ],
 "metadata": {
  "kernelspec": {
   "display_name": "Python 3",
   "language": "python",
   "name": "python3"
  },
  "language_info": {
   "codemirror_mode": {
    "name": "ipython",
    "version": 2
   },
   "file_extension": ".py",
   "mimetype": "text/x-python",
   "name": "python",
   "nbconvert_exporter": "python",
   "pygments_lexer": "ipython2",
   "version": "2.7.6"
  }
 },
 "nbformat": 4,
 "nbformat_minor": 5
}
