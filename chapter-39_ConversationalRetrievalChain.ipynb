{
 "cells": [
  {
   "cell_type": "code",
   "execution_count": 4,
   "outputs": [],
   "source": [
    "from dotenv import load_dotenv, find_dotenv\n",
    "from langchain_openai import ChatOpenAI, OpenAIEmbeddings\n",
    "\n",
    "# read local .env file\n",
    "# find_dotenv 函数通常用于搜索和定位目录树中的 .env 文件，而 load_dotenv 函数用于将 .env 文件中的变量加载到环境中。\n",
    "_ = load_dotenv(find_dotenv())\n",
    "\n",
    "llm = ChatOpenAI(model_name=\"gpt-3.5-turbo\", temperature=0.3)\n",
    "embeddings = OpenAIEmbeddings()"
   ],
   "metadata": {
    "collapsed": false,
    "ExecuteTime": {
     "end_time": "2024-01-28T14:58:53.358728900Z",
     "start_time": "2024-01-28T14:58:52.827300Z"
    }
   },
   "id": "a60f1b240c7ab71e"
  },
  {
   "cell_type": "code",
   "execution_count": 2,
   "outputs": [],
   "source": [
    "\"\"\"\n",
    "在文档中聊天，带有聊天记录\n",
    "本教程演示了如何使用ConversationalRetrievalChain设置聊天过程中带有聊天历史的链。与RetrievalQAChain唯一的区别是，这个链允许传入聊天历史，以便进行后续提问。\n",
    "\"\"\"\n",
    "from langchain.vectorstores import Chroma\n",
    "from langchain.text_splitter import CharacterTextSplitter\n",
    "from langchain.chains import ConversationalRetrievalChain\n"
   ],
   "metadata": {
    "collapsed": false,
    "ExecuteTime": {
     "end_time": "2024-01-28T14:56:52.282908200Z",
     "start_time": "2024-01-28T14:56:51.516589100Z"
    }
   },
   "id": "initial_id"
  },
  {
   "cell_type": "code",
   "execution_count": 3,
   "outputs": [],
   "source": [
    "\"\"\"\n",
    "加载文档。您可以将其替换为您想要的任何类型的数据加载程序\n",
    "\"\"\"\n",
    "from langchain.document_loaders import TextLoader\n",
    "\n",
    "loader = TextLoader(\"files/state_of_the_union.txt\")\n",
    "documents = loader.load()\n"
   ],
   "metadata": {
    "collapsed": false,
    "ExecuteTime": {
     "end_time": "2024-01-28T14:57:21.989750100Z",
     "start_time": "2024-01-28T14:57:21.833671300Z"
    }
   },
   "id": "4cd3b5b1cae44c6a"
  },
  {
   "cell_type": "code",
   "execution_count": null,
   "outputs": [],
   "source": [
    "\"\"\"\n",
    "如果您有多个加载程序需要组合，可以执行以下操作：\n",
    "\"\"\"\n",
    "# loaders = [....]\n",
    "# docs = []\n",
    "# for loader in loaders:\n",
    "# docs.extend(loader.load())\n"
   ],
   "metadata": {
    "collapsed": false
   },
   "id": "2ef95d49577fd171"
  },
  {
   "cell_type": "code",
   "execution_count": 5,
   "outputs": [],
   "source": [
    "\"\"\"\n",
    "现在我们将文档拆分、创建嵌入并将它们放入向量存储中。这使我们可以在它们之间进行语义搜索。\n",
    "\"\"\"\n",
    "text_splitter = CharacterTextSplitter(chunk_size=1000, chunk_overlap=0)\n",
    "documents = text_splitter.split_documents(documents)\n",
    "\n",
    "vectorstore = Chroma.from_documents(documents, embeddings)\n"
   ],
   "metadata": {
    "collapsed": false,
    "ExecuteTime": {
     "end_time": "2024-01-28T14:59:04.072716800Z",
     "start_time": "2024-01-28T14:59:01.037208700Z"
    }
   },
   "id": "d55533817065a30f"
  },
  {
   "cell_type": "code",
   "execution_count": 6,
   "outputs": [],
   "source": [
    "\"\"\"\n",
    "现在我们可以创建一个内存对象，用于跟踪输入/输出并进行对话。\n",
    "\"\"\"\n",
    "from langchain.memory import ConversationBufferMemory\n",
    "\n",
    "memory = ConversationBufferMemory(memory_key=\"chat_history\", return_messages=True)\n"
   ],
   "metadata": {
    "collapsed": false,
    "ExecuteTime": {
     "end_time": "2024-01-28T14:59:29.077903300Z",
     "start_time": "2024-01-28T14:59:29.060101100Z"
    }
   },
   "id": "284f7fbac7a90b9b"
  },
  {
   "cell_type": "code",
   "execution_count": 7,
   "outputs": [],
   "source": [
    "\"\"\"\n",
    "现在我们初始化ConversationalRetrievalChain\n",
    "\"\"\"\n",
    "qa = ConversationalRetrievalChain.from_llm(llm, vectorstore.as_retriever(), memory=memory)\n"
   ],
   "metadata": {
    "collapsed": false,
    "ExecuteTime": {
     "end_time": "2024-01-28T14:59:47.598023100Z",
     "start_time": "2024-01-28T14:59:47.585849500Z"
    }
   },
   "id": "9c4377dabc0ce04"
  },
  {
   "cell_type": "code",
   "execution_count": 8,
   "outputs": [],
   "source": [
    "query = \"What did the president say about Ketanji Brown Jackson\"\n",
    "result = qa.invoke(input={\"question\": query})\n"
   ],
   "metadata": {
    "collapsed": false,
    "ExecuteTime": {
     "end_time": "2024-01-28T15:00:13.384974100Z",
     "start_time": "2024-01-28T15:00:08.645641500Z"
    }
   },
   "id": "aa309cc0219d2b03"
  },
  {
   "cell_type": "code",
   "execution_count": 9,
   "outputs": [
    {
     "data": {
      "text/plain": "\"The President said that he nominated Circuit Court of Appeals Judge Ketanji Brown Jackson to serve on the United States Supreme Court. He described her as one of the nation's top legal minds and mentioned that she has received broad support from various groups, including the Fraternal Order of Police and former judges appointed by Democrats and Republicans.\""
     },
     "execution_count": 9,
     "metadata": {},
     "output_type": "execute_result"
    }
   ],
   "source": [
    "result[\"answer\"]\n"
   ],
   "metadata": {
    "collapsed": false,
    "ExecuteTime": {
     "end_time": "2024-01-28T15:01:29.991308200Z",
     "start_time": "2024-01-28T15:01:29.955575300Z"
    }
   },
   "id": "210d28905e2fba08"
  },
  {
   "cell_type": "code",
   "execution_count": null,
   "outputs": [],
   "source": [
    "\"\"\" output\n",
    "\"The President said that he nominated Circuit Court of Appeals Judge Ketanji Brown Jackson to serve on the United States Supreme Court. He described her as one of the nation's top legal minds and mentioned that she has received broad support from various groups, including the Fraternal Order of Police and former judges appointed by Democrats and Republicans.\"\n",
    "\"\"\""
   ],
   "metadata": {
    "collapsed": false
   },
   "id": "8dcfab5dec1a4250"
  },
  {
   "cell_type": "code",
   "execution_count": 10,
   "outputs": [],
   "source": [
    "query = \"Did he mention who she suceeded\"\n",
    "result = qa.invoke(input={\"question\": query})\n"
   ],
   "metadata": {
    "collapsed": false,
    "ExecuteTime": {
     "end_time": "2024-01-28T15:01:57.404598400Z",
     "start_time": "2024-01-28T15:01:51.365100200Z"
    }
   },
   "id": "bedb8199b9c0a1a6"
  },
  {
   "cell_type": "code",
   "execution_count": 11,
   "outputs": [
    {
     "data": {
      "text/plain": "\"The user's question is unclear. If they are referring to President Biden's mention of a successor to Justice Breyer on the Supreme Court, he did not mention a specific individual as a successor in the provided context. However, he did mention his recent nomination of Judge Ketanji Brown Jackson to the Circuit Court of Appeals, highlighting her qualifications and broad support.\""
     },
     "execution_count": 11,
     "metadata": {},
     "output_type": "execute_result"
    }
   ],
   "source": [
    "result[\"answer\"]\n"
   ],
   "metadata": {
    "collapsed": false,
    "ExecuteTime": {
     "end_time": "2024-01-28T15:02:15.445547100Z",
     "start_time": "2024-01-28T15:02:15.413420500Z"
    }
   },
   "id": "5ae2228cd14982cb"
  },
  {
   "cell_type": "code",
   "execution_count": null,
   "outputs": [],
   "source": [
    "\"\"\" output\n",
    "\"The user's question is unclear. If they are referring to President Biden's mention of a successor to Justice Breyer on the Supreme Court, he did not mention a specific individual as a successor in the provided context. However, he did mention his recent nomination of Judge Ketanji Brown Jackson to the Circuit Court of Appeals, highlighting her qualifications and broad support.\"\n",
    "\"\"\""
   ],
   "metadata": {
    "collapsed": false
   },
   "id": "81e91f9697a846a6"
  },
  {
   "cell_type": "code",
   "execution_count": null,
   "outputs": [],
   "source": [
    "\"\"\"\n",
    "传入聊天历史\n",
    "\n",
    "在上面的示例中，我们使用Memory对象来跟踪聊天历史。我们也可以直接传递它。为此，我们需要初始化一个没有任何内存对象的链。\n",
    "\n",
    "\"\"\"\n",
    "qa = ConversationalRetrievalChain.from_llm(llm, vectorstore.as_retriever())\n"
   ],
   "metadata": {
    "collapsed": false
   },
   "id": "9865a005c7c182bd"
  },
  {
   "cell_type": "code",
   "execution_count": 12,
   "outputs": [],
   "source": [
    "\"\"\"\n",
    "这里是一个没有聊天记录的提问示例\n",
    "\"\"\"\n",
    "chat_history = []\n",
    "query = \"What did the president say about Ketanji Brown Jackson\"\n",
    "result = qa.invoke(input={\"question\": query, \"chat_history\": chat_history})\n"
   ],
   "metadata": {
    "collapsed": false,
    "ExecuteTime": {
     "end_time": "2024-01-28T15:03:27.103088100Z",
     "start_time": "2024-01-28T15:03:16.933513400Z"
    }
   },
   "id": "b0763ab0a94cfebd"
  },
  {
   "cell_type": "code",
   "execution_count": 13,
   "outputs": [
    {
     "data": {
      "text/plain": "'The president mentioned Circuit Court of Appeals Judge Ketanji Brown Jackson as a successor to Justice Breyer on the Supreme Court.'"
     },
     "execution_count": 13,
     "metadata": {},
     "output_type": "execute_result"
    }
   ],
   "source": [
    "result[\"answer\"]\n"
   ],
   "metadata": {
    "collapsed": false,
    "ExecuteTime": {
     "end_time": "2024-01-28T15:03:43.341499Z",
     "start_time": "2024-01-28T15:03:43.332961800Z"
    }
   },
   "id": "8ea201f572010de"
  },
  {
   "cell_type": "code",
   "execution_count": 16,
   "outputs": [],
   "source": [
    "\"\"\"\n",
    "这里是一个有一些聊天记录的提问示例\n",
    "\n",
    "\"\"\"\n",
    "chat_history = [(query, result[\"answer\"])]\n",
    "query = \"Did he mention who she suceeded\"\n",
    "result = qa.invoke(input={\"question\": query, \"chat_history\": chat_history})\n"
   ],
   "metadata": {
    "collapsed": false,
    "ExecuteTime": {
     "end_time": "2024-01-28T15:05:00.431847700Z",
     "start_time": "2024-01-28T15:04:56.316360Z"
    }
   },
   "id": "6d11e056de331e7e"
  },
  {
   "cell_type": "code",
   "execution_count": 17,
   "outputs": [
    {
     "data": {
      "text/plain": "'The president mentioned Circuit Court of Appeals Judge Ketanji Brown Jackson as the successor to Justice Breyer on the Supreme Court.'"
     },
     "execution_count": 17,
     "metadata": {},
     "output_type": "execute_result"
    }
   ],
   "source": [
    "result['answer']\n"
   ],
   "metadata": {
    "collapsed": false,
    "ExecuteTime": {
     "end_time": "2024-01-28T15:05:00.446856300Z",
     "start_time": "2024-01-28T15:05:00.431847700Z"
    }
   },
   "id": "f84ac4561666790c"
  },
  {
   "cell_type": "code",
   "execution_count": null,
   "outputs": [],
   "source": [
    "\"\"\" output\n",
    "'The president mentioned Circuit Court of Appeals Judge Ketanji Brown Jackson as the successor to Justice Breyer on the Supreme Court.'\n",
    "\"\"\""
   ],
   "metadata": {
    "collapsed": false
   },
   "id": "125c86fe7b249e9"
  },
  {
   "cell_type": "code",
   "execution_count": 18,
   "outputs": [],
   "source": [
    "\"\"\" \n",
    "返回源文件\n",
    "\n",
    "您还可以轻松地从ConversationalRetrievalChain返回源文档。这对于您想要检查哪些文档被返回时非常有用。\n",
    "\n",
    "\"\"\"\n",
    "qa = ConversationalRetrievalChain.from_llm(llm, vectorstore.as_retriever(), return_source_documents=True)\n"
   ],
   "metadata": {
    "collapsed": false,
    "ExecuteTime": {
     "end_time": "2024-01-28T15:05:44.211924900Z",
     "start_time": "2024-01-28T15:05:44.186798900Z"
    }
   },
   "id": "28e9c1ddbaef26a1"
  },
  {
   "cell_type": "code",
   "execution_count": 20,
   "outputs": [],
   "source": [
    "chat_history = []\n",
    "query = \"What did the president say about Ketanji Brown Jackson\"\n",
    "result = qa.invoke(input={\"question\": query, \"chat_history\": chat_history})\n"
   ],
   "metadata": {
    "collapsed": false,
    "ExecuteTime": {
     "end_time": "2024-01-28T15:06:06.471724500Z",
     "start_time": "2024-01-28T15:06:01.108782200Z"
    }
   },
   "id": "2b8875b76ec2c7ff"
  },
  {
   "cell_type": "code",
   "execution_count": 21,
   "outputs": [
    {
     "data": {
      "text/plain": "Document(page_content='Tonight. I call on the Senate to: Pass the Freedom to Vote Act. Pass the John Lewis Voting Rights Act. And while you’re at it, pass the Disclose Act so Americans can know who is funding our elections. \\n\\nTonight, I’d like to honor someone who has dedicated his life to serve this country: Justice Stephen Breyer—an Army veteran, Constitutional scholar, and retiring Justice of the United States Supreme Court. Justice Breyer, thank you for your service. \\n\\nOne of the most serious constitutional responsibilities a President has is nominating someone to serve on the United States Supreme Court. \\n\\nAnd I did that 4 days ago, when I nominated Circuit Court of Appeals Judge Ketanji Brown Jackson. One of our nation’s top legal minds, who will continue Justice Breyer’s legacy of excellence.', metadata={'source': 'files/state_of_the_union.txt'})"
     },
     "execution_count": 21,
     "metadata": {},
     "output_type": "execute_result"
    }
   ],
   "source": [
    "result['source_documents'][0]\n"
   ],
   "metadata": {
    "collapsed": false,
    "ExecuteTime": {
     "end_time": "2024-01-28T15:06:08.578385300Z",
     "start_time": "2024-01-28T15:06:08.562542300Z"
    }
   },
   "id": "94da6d068d76b85e"
  },
  {
   "cell_type": "code",
   "execution_count": null,
   "outputs": [],
   "source": [
    "\"\"\" output\n",
    "Document(page_content='Tonight. I call on the Senate to: Pass the Freedom to Vote Act. Pass the John Lewis Voting Rights Act. And while you’re at it, pass the Disclose Act so Americans can know who is funding our elections. \\n\\nTonight, I’d like to honor someone who has dedicated his life to serve this country: Justice Stephen Breyer—an Army veteran, Constitutional scholar, and retiring Justice of the United States Supreme Court. Justice Breyer, thank you for your service. \\n\\nOne of the most serious constitutional responsibilities a President has is nominating someone to serve on the United States Supreme Court. \\n\\nAnd I did that 4 days ago, when I nominated Circuit Court of Appeals Judge Ketanji Brown Jackson. One of our nation’s top legal minds, who will continue Justice Breyer’s legacy of excellence.', metadata={'source': 'files/state_of_the_union.txt'})\n",
    "\"\"\""
   ],
   "metadata": {
    "collapsed": false
   },
   "id": "54f9b590f2f96bac"
  },
  {
   "cell_type": "code",
   "execution_count": 22,
   "outputs": [],
   "source": [
    "\"\"\"\n",
    "带有search_distance的ConversationalRetrievalChain\n",
    "\n",
    "如果您正在使用支持按搜索距离过滤的向量存储，则可以添加阈值参数。\n",
    "\n",
    "\n",
    "\"\"\"\n",
    "vectordbkwargs = {\"search_distance\": 0.9}\n",
    "\n",
    "qa = ConversationalRetrievalChain.from_llm(llm, vectorstore.as_retriever(), return_source_documents=True)\n",
    "chat_history = []\n",
    "query = \"What did the president say about Ketanji Brown Jackson\"\n",
    "result = qa.invoke(input={\"question\": query, \"chat_history\": chat_history, \"vectordbkwargs\": vectordbkwargs})\n"
   ],
   "metadata": {
    "collapsed": false,
    "ExecuteTime": {
     "end_time": "2024-01-28T15:07:24.273606900Z",
     "start_time": "2024-01-28T15:07:19.207620700Z"
    }
   },
   "id": "d138ec8b66c232a1"
  },
  {
   "cell_type": "code",
   "execution_count": 23,
   "outputs": [
    {
     "data": {
      "text/plain": "\"The President said that he nominated Ketanji Brown Jackson for the United States Supreme Court. He described her as one of the nation's top legal minds and mentioned her background as a former top litigator in private practice and a former federal public defender. He also highlighted her support from various groups, including the Fraternal Order of Police and former judges appointed by Democrats and Republicans.\""
     },
     "execution_count": 23,
     "metadata": {},
     "output_type": "execute_result"
    }
   ],
   "source": [
    "result['answer']"
   ],
   "metadata": {
    "collapsed": false,
    "ExecuteTime": {
     "end_time": "2024-01-28T15:07:39.681056400Z",
     "start_time": "2024-01-28T15:07:39.656526100Z"
    }
   },
   "id": "4e9f9ea275b1367f"
  },
  {
   "cell_type": "code",
   "execution_count": null,
   "outputs": [],
   "source": [
    "\"\"\" output\n",
    "\"The President said that he nominated Ketanji Brown Jackson for the United States Supreme Court. He described her as one of the nation's top legal minds and mentioned her background as a former top litigator in private practice and a former federal public defender. He also highlighted her support from various groups, including the Fraternal Order of Police and former judges appointed by Democrats and Republicans.\"\n",
    "\"\"\""
   ],
   "metadata": {
    "collapsed": false
   },
   "id": "d01d84ba407353a"
  },
  {
   "cell_type": "code",
   "execution_count": 24,
   "outputs": [],
   "source": [
    "\"\"\"\n",
    "带有map_reduce的ConversationalRetrievalChain\n",
    "\n",
    "我们还可以使用不同类型的组合文档链与ConversationalRetrievalChain链。\n",
    "\n",
    "\"\"\"\n",
    "from langchain.chains import LLMChain\n",
    "from langchain.chains.question_answering import load_qa_chain\n",
    "from langchain.chains.conversational_retrieval.prompts import CONDENSE_QUESTION_PROMPT\n"
   ],
   "metadata": {
    "collapsed": false,
    "ExecuteTime": {
     "end_time": "2024-01-28T15:08:14.089944800Z",
     "start_time": "2024-01-28T15:08:14.070267100Z"
    }
   },
   "id": "b5d82da55e2c78ae"
  },
  {
   "cell_type": "code",
   "execution_count": 25,
   "outputs": [],
   "source": [
    "question_generator = LLMChain(llm=llm, prompt=CONDENSE_QUESTION_PROMPT)\n",
    "doc_chain = load_qa_chain(llm, chain_type=\"map_reduce\")\n",
    "\n",
    "chain = ConversationalRetrievalChain(\n",
    "    retriever=vectorstore.as_retriever(),\n",
    "    question_generator=question_generator,\n",
    "    combine_docs_chain=doc_chain,\n",
    ")\n"
   ],
   "metadata": {
    "collapsed": false,
    "ExecuteTime": {
     "end_time": "2024-01-28T15:08:27.326493Z",
     "start_time": "2024-01-28T15:08:27.303962700Z"
    }
   },
   "id": "72cabda87fc4ed9a"
  },
  {
   "cell_type": "code",
   "execution_count": 26,
   "outputs": [],
   "source": [
    "chat_history = []\n",
    "query = \"What did the president say about Ketanji Brown Jackson\"\n",
    "result = chain.invoke(input={\"question\": query, \"chat_history\": chat_history})\n"
   ],
   "metadata": {
    "collapsed": false,
    "ExecuteTime": {
     "end_time": "2024-01-28T15:09:32.277906100Z",
     "start_time": "2024-01-28T15:08:42.838251100Z"
    }
   },
   "id": "2decde4ac5f475cc"
  },
  {
   "cell_type": "code",
   "execution_count": 27,
   "outputs": [
    {
     "data": {
      "text/plain": "'The president did not mention Ketanji Brown Jackson in the provided text.'"
     },
     "execution_count": 27,
     "metadata": {},
     "output_type": "execute_result"
    }
   ],
   "source": [
    "result['answer']\n"
   ],
   "metadata": {
    "collapsed": false,
    "ExecuteTime": {
     "end_time": "2024-01-28T15:09:32.293967300Z",
     "start_time": "2024-01-28T15:09:32.278908100Z"
    }
   },
   "id": "f793735c903aec43"
  },
  {
   "cell_type": "code",
   "execution_count": null,
   "outputs": [],
   "source": [
    "\"\"\" output\n",
    "'The president did not mention Ketanji Brown Jackson in the provided text.'\n",
    "\"\"\""
   ],
   "metadata": {
    "collapsed": false
   },
   "id": "561a35d17dbc9ea5"
  },
  {
   "cell_type": "code",
   "execution_count": 28,
   "outputs": [],
   "source": [
    "\"\"\"\n",
    "带有源问题的ConversationalRetrievalChain问答\n",
    "\n",
    "你也可以将这个链与带有来源的问答链一起使用。\n",
    "\n",
    "\"\"\"\n",
    "from langchain.chains.qa_with_sources import load_qa_with_sources_chain\n"
   ],
   "metadata": {
    "collapsed": false,
    "ExecuteTime": {
     "end_time": "2024-01-28T15:09:32.329000800Z",
     "start_time": "2024-01-28T15:09:32.294967700Z"
    }
   },
   "id": "e8103336fe6ccac5"
  },
  {
   "cell_type": "code",
   "execution_count": 29,
   "outputs": [],
   "source": [
    "question_generator = LLMChain(llm=llm, prompt=CONDENSE_QUESTION_PROMPT)\n",
    "doc_chain = load_qa_with_sources_chain(llm, chain_type=\"map_reduce\")\n",
    "\n",
    "chain = ConversationalRetrievalChain(\n",
    "    retriever=vectorstore.as_retriever(),\n",
    "    question_generator=question_generator,\n",
    "    combine_docs_chain=doc_chain,\n",
    ")\n"
   ],
   "metadata": {
    "collapsed": false,
    "ExecuteTime": {
     "end_time": "2024-01-28T15:09:32.329912600Z",
     "start_time": "2024-01-28T15:09:32.312991900Z"
    }
   },
   "id": "d4f2eacf403578e"
  },
  {
   "cell_type": "code",
   "execution_count": 30,
   "outputs": [],
   "source": [
    "chat_history = []\n",
    "query = \"What did the president say about Ketanji Brown Jackson\"\n",
    "result = chain.invoke(input={\"question\": query, \"chat_history\": chat_history})\n"
   ],
   "metadata": {
    "collapsed": false,
    "ExecuteTime": {
     "end_time": "2024-01-28T15:11:07.641588200Z",
     "start_time": "2024-01-28T15:09:34.719622800Z"
    }
   },
   "id": "fa0a4349a1839733"
  },
  {
   "cell_type": "code",
   "execution_count": 31,
   "outputs": [
    {
     "data": {
      "text/plain": "\"The president mentioned Ketanji Brown Jackson and nominated her as a Circuit Court of Appeals Judge. He described her as one of our nation's top legal minds who will continue Justice Breyer's legacy of excellence.\\nSOURCES: files/state_of_the_union.txt\""
     },
     "execution_count": 31,
     "metadata": {},
     "output_type": "execute_result"
    }
   ],
   "source": [
    "result['answer']\n"
   ],
   "metadata": {
    "collapsed": false,
    "ExecuteTime": {
     "end_time": "2024-01-28T15:11:07.657134500Z",
     "start_time": "2024-01-28T15:11:07.642588300Z"
    }
   },
   "id": "cf1ba31873d21f71"
  },
  {
   "cell_type": "code",
   "execution_count": null,
   "outputs": [],
   "source": [
    "\"\"\" output\n",
    "\"The president mentioned Ketanji Brown Jackson and nominated her as a Circuit Court of Appeals Judge. He described her as one of our nation's top legal minds who will continue Justice Breyer's legacy of excellence.\\nSOURCES: files/state_of_the_union.txt\"\n",
    "\"\"\""
   ],
   "metadata": {
    "collapsed": false
   },
   "id": "ac709a57e2fec7b4"
  },
  {
   "cell_type": "code",
   "execution_count": 32,
   "outputs": [],
   "source": [
    "\"\"\"\n",
    "ConversationalRetrievalChain 与流式输出到 stdout\n",
    "\n",
    "在这个例子中，链的输出会被逐个 token 地流式输出到 stdout。\n",
    "\n",
    "\"\"\"\n",
    "from langchain.chains.llm import LLMChain\n",
    "from langchain.callbacks.streaming_stdout import StreamingStdOutCallbackHandler\n",
    "from langchain.chains.conversational_retrieval.prompts import CONDENSE_QUESTION_PROMPT, QA_PROMPT\n",
    "from langchain.chains.question_answering import load_qa_chain\n",
    "\n",
    "# Construct a ConversationalRetrievalChain with a streaming llm for combine docs\n",
    "# and a separate, non-streaming llm for question generation\n",
    "streaming_llm = ChatOpenAI(streaming=True, callbacks=[StreamingStdOutCallbackHandler()], temperature=0)\n",
    "\n",
    "question_generator = LLMChain(llm=llm, prompt=CONDENSE_QUESTION_PROMPT)\n",
    "doc_chain = load_qa_chain(streaming_llm, chain_type=\"stuff\", prompt=QA_PROMPT)\n",
    "\n",
    "qa = ConversationalRetrievalChain(\n",
    "    retriever=vectorstore.as_retriever(), combine_docs_chain=doc_chain, question_generator=question_generator)\n"
   ],
   "metadata": {
    "collapsed": false,
    "ExecuteTime": {
     "end_time": "2024-01-28T15:11:07.926422900Z",
     "start_time": "2024-01-28T15:11:07.658134300Z"
    }
   },
   "id": "5bca6cffa6a0e42f"
  },
  {
   "cell_type": "code",
   "execution_count": 34,
   "outputs": [
    {
     "name": "stdout",
     "output_type": "stream",
     "text": [
      "The president said that Ketanji Brown Jackson is a former top litigator in private practice, a former federal public defender, and comes from a family of public school educators and police officers. They also mentioned that she is a consensus builder and has received support from various groups, including the Fraternal Order of Police and former judges appointed by Democrats and Republicans."
     ]
    }
   ],
   "source": [
    "chat_history = []\n",
    "query = \"What did the president say about Ketanji Brown Jackson\"\n",
    "result = qa.invoke(input={\"question\": query, \"chat_history\": chat_history})\n"
   ],
   "metadata": {
    "collapsed": false,
    "ExecuteTime": {
     "end_time": "2024-01-28T15:11:44.681498800Z",
     "start_time": "2024-01-28T15:11:19.309890100Z"
    }
   },
   "id": "c09920e09758462f"
  },
  {
   "cell_type": "code",
   "execution_count": null,
   "outputs": [],
   "source": [
    "\"\"\" output\n",
    "The president said that Ketanji Brown Jackson is a former top litigator in private practice, a former federal public defender, and comes from a family of public school educators and police officers. They also mentioned that she is a consensus builder and has received support from various groups, including the Fraternal Order of Police and former judges appointed by Democrats and Republicans.\n",
    "\"\"\""
   ],
   "metadata": {
    "collapsed": false
   },
   "id": "7101d6426d879c3"
  },
  {
   "cell_type": "code",
   "execution_count": 35,
   "outputs": [
    {
     "name": "stdout",
     "output_type": "stream",
     "text": [
      "The president did not mention her successor in the given context."
     ]
    }
   ],
   "source": [
    "chat_history = [(query, result[\"answer\"])]\n",
    "query = \"Did he mention who she suceeded\"\n",
    "result = qa.invoke(input={\"question\": query, \"chat_history\": chat_history})\n"
   ],
   "metadata": {
    "collapsed": false,
    "ExecuteTime": {
     "end_time": "2024-01-28T15:12:08.428954600Z",
     "start_time": "2024-01-28T15:11:44.682428300Z"
    }
   },
   "id": "6a59704bbaf60a74"
  },
  {
   "cell_type": "code",
   "execution_count": null,
   "outputs": [],
   "source": [
    "\"\"\" output\n",
    "The president did not mention her successor in the given context.\n",
    "\"\"\""
   ],
   "metadata": {
    "collapsed": false
   },
   "id": "e2f55aecf214029b"
  },
  {
   "cell_type": "code",
   "execution_count": 36,
   "outputs": [],
   "source": [
    "\"\"\"\n",
    "get_chat_history 函数\n",
    "你也可以指定一个 get_chat_history 函数，用于格式化聊天历史字符串。\n",
    "\n",
    "\"\"\"\n",
    "\n",
    "\n",
    "def get_chat_history(inputs) -> str:\n",
    "    res = []\n",
    "    for human, ai in inputs:\n",
    "        res.append(f\"Human:{human}\\nAI:{ai}\")\n",
    "    return \"\\n\".join(res)\n",
    "\n",
    "\n",
    "qa = ConversationalRetrievalChain.from_llm(llm, vectorstore.as_retriever(), get_chat_history=get_chat_history)\n"
   ],
   "metadata": {
    "collapsed": false,
    "ExecuteTime": {
     "end_time": "2024-01-28T15:12:08.444068200Z",
     "start_time": "2024-01-28T15:12:08.429954200Z"
    }
   },
   "id": "69f61a0e0537b19f"
  },
  {
   "cell_type": "code",
   "execution_count": 37,
   "outputs": [],
   "source": [
    "chat_history = []\n",
    "query = \"What did the president say about Ketanji Brown Jackson\"\n",
    "result = qa.invoke(input={\"question\": query, \"chat_history\": chat_history})\n",
    " "
   ],
   "metadata": {
    "collapsed": false,
    "ExecuteTime": {
     "end_time": "2024-01-28T15:12:42.515755600Z",
     "start_time": "2024-01-28T15:12:37.575629200Z"
    }
   },
   "id": "4fbff26580918655"
  },
  {
   "cell_type": "code",
   "execution_count": 38,
   "outputs": [
    {
     "data": {
      "text/plain": "\"The president said that he nominated Circuit Court of Appeals Judge Ketanji Brown Jackson to serve on the United States Supreme Court. He described her as one of the nation's top legal minds and mentioned that she has received broad support from various groups, including the Fraternal Order of Police and former judges appointed by Democrats and Republicans.\""
     },
     "execution_count": 38,
     "metadata": {},
     "output_type": "execute_result"
    }
   ],
   "source": [
    "result['answer']\n"
   ],
   "metadata": {
    "collapsed": false,
    "ExecuteTime": {
     "end_time": "2024-01-28T15:12:42.529719600Z",
     "start_time": "2024-01-28T15:12:42.517754200Z"
    }
   },
   "id": "c4f1332d3963e027"
  },
  {
   "cell_type": "code",
   "execution_count": null,
   "outputs": [],
   "source": [
    "\"\"\" output\n",
    "\"The president said that he nominated Circuit Court of Appeals Judge Ketanji Brown Jackson to serve on the United States Supreme Court. He described her as one of the nation's top legal minds and mentioned that she has received broad support from various groups, including the Fraternal Order of Police and former judges appointed by Democrats and Republicans.\"\n",
    "\"\"\""
   ],
   "metadata": {
    "collapsed": false
   },
   "id": "1bbf7d6edce8bf4b"
  }
 ],
 "metadata": {
  "kernelspec": {
   "display_name": "Python 3",
   "language": "python",
   "name": "python3"
  },
  "language_info": {
   "codemirror_mode": {
    "name": "ipython",
    "version": 2
   },
   "file_extension": ".py",
   "mimetype": "text/x-python",
   "name": "python",
   "nbconvert_exporter": "python",
   "pygments_lexer": "ipython2",
   "version": "2.7.6"
  }
 },
 "nbformat": 4,
 "nbformat_minor": 5
}
