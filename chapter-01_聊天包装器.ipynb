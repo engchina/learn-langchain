{
 "cells": [
  {
   "cell_type": "markdown",
   "id": "205b62bd-2e0d-409f-b3fc-ea9efd51e368",
   "metadata": {},
   "source": [
    "# 聊天模型包装器"
   ]
  },
  {
   "cell_type": "code",
   "execution_count": 1,
   "outputs": [],
   "source": [
    "# !pip install python-dotenv langchain langchain-openai -i https: // mirrors.aliyun.com/pypi/simple --trusted-host mirrors.aliyun.com\n",
    "# !pip install python-dotenv langchain langchain-openai -i https: // pypi.tuna.tsinghua.edu.cn/simple/ --trusted-host pypi.tuna.tsinghua.edu.cn"
   ],
   "metadata": {
    "collapsed": false,
    "ExecuteTime": {
     "end_time": "2024-01-28T00:32:41.996306100Z",
     "start_time": "2024-01-28T00:32:41.986306Z"
    }
   },
   "id": "3037a5f6a4389398"
  },
  {
   "cell_type": "code",
   "execution_count": 2,
   "outputs": [],
   "source": [
    "from dotenv import load_dotenv, find_dotenv\n",
    "\n",
    "# read local .env file\n",
    "# find_dotenv 函数通常用于搜索和定位目录树中的 .env 文件，而 load_dotenv 函数用于将 .env 文件中的变量加载到环境中。\n",
    "_ = load_dotenv(find_dotenv())"
   ],
   "metadata": {
    "collapsed": false,
    "ExecuteTime": {
     "end_time": "2024-01-28T00:32:48.955793800Z",
     "start_time": "2024-01-28T00:32:48.932793600Z"
    }
   },
   "id": "2bf3fa61-f48d-4ae7-b937-7a9135974a37"
  },
  {
   "cell_type": "code",
   "execution_count": 3,
   "id": "10f96282-058e-4052-9765-54c3f4edb4ae",
   "metadata": {
    "ExecuteTime": {
     "end_time": "2024-01-28T00:32:51.783544100Z",
     "start_time": "2024-01-28T00:32:50.400471600Z"
    }
   },
   "outputs": [],
   "source": [
    "from langchain.schema import (\n",
    "    HumanMessage,\n",
    "    SystemMessage\n",
    ")\n",
    "# from langchain_community.chat_models import ChatOpenAI\n",
    "from langchain_openai import ChatOpenAI"
   ]
  },
  {
   "cell_type": "code",
   "execution_count": 4,
   "id": "46d3894e-6a7f-470f-b58f-20eda5da2d9d",
   "metadata": {
    "ExecuteTime": {
     "end_time": "2024-01-28T00:32:58.664163400Z",
     "start_time": "2024-01-28T00:32:58.373178300Z"
    }
   },
   "outputs": [],
   "source": [
    "import os\n",
    "\n",
    "chat_openai = ChatOpenAI(api_key=os.environ['OPENAI_API_KEY'], base_url=os.environ['OPENAI_BASE_URL'],\n",
    "                         model_name=\"gpt-3.5-turbo\", temperature=0.3)"
   ]
  },
  {
   "cell_type": "code",
   "execution_count": 5,
   "id": "77e7bdfd-0abd-4aa1-a40c-ae762724a851",
   "metadata": {
    "ExecuteTime": {
     "end_time": "2024-01-28T00:32:59.537233800Z",
     "start_time": "2024-01-28T00:32:59.518223100Z"
    }
   },
   "outputs": [],
   "source": [
    "messages = [\n",
    "    SystemMessage(\n",
    "        content=\"你是个取名大师，你擅长为创业公司取名字\"\n",
    "    ),\n",
    "    HumanMessage(\n",
    "        content=\"帮我给新公司取个名字，要包含AI\"\n",
    "    )\n",
    "]"
   ]
  },
  {
   "cell_type": "code",
   "execution_count": 6,
   "id": "2a3e95df-f55b-4729-985f-fd2d055a6ce3",
   "metadata": {
    "ExecuteTime": {
     "end_time": "2024-01-28T00:33:07.543492200Z",
     "start_time": "2024-01-28T00:33:01.289726500Z"
    }
   },
   "outputs": [
    {
     "data": {
      "text/plain": "AIMessage(content='当然，我很乐意帮你取一个包含AI的新公司名字。以下是一些建议：\\n\\n1. AIgenius\\n2. AItech\\n3. AIvision\\n4. AIpros\\n5. AIinnovate\\n6. AIsolutions\\n7. AIimpact\\n8. AIexcel\\n9. AIgenix\\n10. AIaccelerate\\n\\n希望这些名字能给你一些启发！如果你有任何其他要求或者想法，我也很愿意帮助你进一步定制。')"
     },
     "execution_count": 6,
     "metadata": {},
     "output_type": "execute_result"
    }
   ],
   "source": [
    "response = chat_openai.invoke(messages)\n",
    "response"
   ]
  },
  {
   "cell_type": "code",
   "execution_count": null,
   "outputs": [],
   "source": [
    "\"\"\" output\n",
    "AIMessage(content='当然，我很乐意帮你取一个包含AI的新公司名字。以下是一些建议：\\n\\n1. AIgenius\\n2. AItech\\n3. AIvision\\n4. AIpros\\n5. AIinnovate\\n6. AIsolutions\\n7. AIimpact\\n8. AIexcel\\n9. AIgenix\\n10. AIaccelerate\\n\\n希望这些名字能给你一些启发！如果你有任何其他要求或者想法，我也很愿意帮助你进一步定制。')\n",
    "\"\"\""
   ],
   "metadata": {
    "collapsed": false
   },
   "id": "c2c5be33fe8704f5"
  },
  {
   "cell_type": "code",
   "execution_count": 7,
   "id": "1bfe708e-ebcb-476a-a2dd-b2155ae73d41",
   "metadata": {
    "ExecuteTime": {
     "end_time": "2024-01-28T00:33:28.622156300Z",
     "start_time": "2024-01-28T00:33:28.608156Z"
    }
   },
   "outputs": [
    {
     "data": {
      "text/plain": "'当然，我很乐意帮你取一个包含AI的新公司名字。以下是一些建议：\\n\\n1. AIgenius\\n2. AItech\\n3. AIvision\\n4. AIpros\\n5. AIinnovate\\n6. AIsolutions\\n7. AIimpact\\n8. AIexcel\\n9. AIgenix\\n10. AIaccelerate\\n\\n希望这些名字能给你一些启发！如果你有任何其他要求或者想法，我也很愿意帮助你进一步定制。'"
     },
     "execution_count": 7,
     "metadata": {},
     "output_type": "execute_result"
    }
   ],
   "source": [
    "response.content"
   ]
  },
  {
   "cell_type": "code",
   "execution_count": null,
   "outputs": [],
   "source": [
    "\"\"\" output\n",
    "'当然，我很乐意帮你取一个包含AI的新公司名字。以下是一些建议：\\n\\n1. AIgenius\\n2. AItech\\n3. AIvision\\n4. AIpros\\n5. AIinnovate\\n6. AIsolutions\\n7. AIimpact\\n8. AIexcel\\n9. AIgenix\\n10. AIaccelerate\\n\\n希望这些名字能给你一些启发！如果你有任何其他要求或者想法，我也很愿意帮助你进一步定制。'\n",
    "\"\"\""
   ],
   "metadata": {
    "collapsed": false
   },
   "id": "7a32232b0e1e820"
  },
  {
   "cell_type": "code",
   "execution_count": 8,
   "id": "9e9d6c70-eb37-4c11-a151-26c9793275d8",
   "metadata": {
    "ExecuteTime": {
     "end_time": "2024-01-28T00:33:48.700970Z",
     "start_time": "2024-01-28T00:33:48.375391500Z"
    }
   },
   "outputs": [],
   "source": [
    "from langchain.schema import (\n",
    "    HumanMessage,\n",
    "    SystemMessage\n",
    ")\n",
    "from langchain_community.chat_models import ChatAnthropic"
   ]
  },
  {
   "cell_type": "code",
   "execution_count": 9,
   "id": "937a386f-842e-4de9-837b-5f527e07553b",
   "metadata": {
    "ExecuteTime": {
     "end_time": "2024-01-28T00:33:49.781926200Z",
     "start_time": "2024-01-28T00:33:49.435787600Z"
    }
   },
   "outputs": [],
   "source": [
    "chat_anthropic = ChatAnthropic()"
   ]
  },
  {
   "cell_type": "code",
   "execution_count": 10,
   "id": "7a021ef1-b7f0-4261-9bda-61ed32c226e7",
   "metadata": {
    "ExecuteTime": {
     "end_time": "2024-01-28T00:34:01.132382400Z",
     "start_time": "2024-01-28T00:33:50.510124100Z"
    }
   },
   "outputs": [
    {
     "data": {
      "text/plain": "AIMessage(content=' 给您的创业公司取一个有意义的名字非常重要。这里有一些建议:\\n\\nAI Impulse - 意指利用AI赋予公司新的动力\\n\\nAI Innovators - 表明公司致力于AI创新\\n\\nIntelliCore - 结合智能(Intelligent)和核心(Core)的概念\\n\\nVisionAI - 反映公司通过AI实现远见和洞察力\\n\\nClarity AI - 清晰的AI,表明公司提供清晰和易于理解的AI解决方案  \\n\\nAIdapt - 结合AI和Adaptive(适应性)的概念\\n\\nAItude - 结合AI和Attitude(态度)的概念\\n\\nCogniServe - 结合Cognition(认知)和Serve(服务)  \\n\\nNeuraLink - 联系Neural(神经)和Link(链接)的概念\\n\\nSmartLogic -“智能逻辑”的概念\\n\\n希望这些建议对')"
     },
     "execution_count": 10,
     "metadata": {},
     "output_type": "execute_result"
    }
   ],
   "source": [
    "messages = [\n",
    "    SystemMessage(\n",
    "        content=\"你是个取名大师，你擅长为创业公司取名字\"\n",
    "    ),\n",
    "    HumanMessage(\n",
    "        content=\"帮我给新公司取个名字，要包含AI\"\n",
    "    )\n",
    "]\n",
    "response = chat_anthropic.invoke(messages)\n",
    "response"
   ]
  },
  {
   "cell_type": "code",
   "execution_count": null,
   "outputs": [],
   "source": [
    "\"\"\" output\n",
    "AIMessage(content=' 给您的创业公司取一个有意义的名字非常重要。这里有一些建议:\\n\\nAI Impulse - 意指利用AI赋予公司新的动力\\n\\nAI Innovators - 表明公司致力于AI创新\\n\\nIntelliCore - 结合智能(Intelligent)和核心(Core)的概念\\n\\nVisionAI - 反映公司通过AI实现远见和洞察力\\n\\nClarity AI - 清晰的AI,表明公司提供清晰和易于理解的AI解决方案  \\n\\nAIdapt - 结合AI和Adaptive(适应性)的概念\\n\\nAItude - 结合AI和Attitude(态度)的概念\\n\\nCogniServe - 结合Cognition(认知)和Serve(服务)  \\n\\nNeuraLink - 联系Neural(神经)和Link(链接)的概念\\n\\nSmartLogic -“智能逻辑”的概念\\n\\n希望这些建议对')\n",
    "\"\"\""
   ],
   "metadata": {
    "collapsed": false
   },
   "id": "7353701795c1484a"
  },
  {
   "cell_type": "code",
   "execution_count": 11,
   "id": "ab5b63c3-037a-4bdd-8ad1-370b2fd5bd88",
   "metadata": {
    "ExecuteTime": {
     "end_time": "2024-01-28T00:34:01.148552700Z",
     "start_time": "2024-01-28T00:34:01.132382400Z"
    }
   },
   "outputs": [
    {
     "data": {
      "text/plain": "' 给您的创业公司取一个有意义的名字非常重要。这里有一些建议:\\n\\nAI Impulse - 意指利用AI赋予公司新的动力\\n\\nAI Innovators - 表明公司致力于AI创新\\n\\nIntelliCore - 结合智能(Intelligent)和核心(Core)的概念\\n\\nVisionAI - 反映公司通过AI实现远见和洞察力\\n\\nClarity AI - 清晰的AI,表明公司提供清晰和易于理解的AI解决方案  \\n\\nAIdapt - 结合AI和Adaptive(适应性)的概念\\n\\nAItude - 结合AI和Attitude(态度)的概念\\n\\nCogniServe - 结合Cognition(认知)和Serve(服务)  \\n\\nNeuraLink - 联系Neural(神经)和Link(链接)的概念\\n\\nSmartLogic -“智能逻辑”的概念\\n\\n希望这些建议对'"
     },
     "execution_count": 11,
     "metadata": {},
     "output_type": "execute_result"
    }
   ],
   "source": [
    "response.content"
   ]
  },
  {
   "cell_type": "code",
   "execution_count": null,
   "outputs": [],
   "source": [
    "\"\"\" output\n",
    "' 给您的创业公司取一个有意义的名字非常重要。这里有一些建议:\\n\\nAI Impulse - 意指利用AI赋予公司新的动力\\n\\nAI Innovators - 表明公司致力于AI创新\\n\\nIntelliCore - 结合智能(Intelligent)和核心(Core)的概念\\n\\nVisionAI - 反映公司通过AI实现远见和洞察力\\n\\nClarity AI - 清晰的AI,表明公司提供清晰和易于理解的AI解决方案  \\n\\nAIdapt - 结合AI和Adaptive(适应性)的概念\\n\\nAItude - 结合AI和Attitude(态度)的概念\\n\\nCogniServe - 结合Cognition(认知)和Serve(服务)  \\n\\nNeuraLink - 联系Neural(神经)和Link(链接)的概念\\n\\nSmartLogic -“智能逻辑”的概念\\n\\n希望这些建议对'\n",
    "\"\"\""
   ],
   "metadata": {
    "collapsed": false
   },
   "id": "cad94b57e3ce7d67"
  }
 ],
 "metadata": {
  "kernelspec": {
   "display_name": "Python 3 (ipykernel)",
   "language": "python",
   "name": "python3"
  },
  "language_info": {
   "codemirror_mode": {
    "name": "ipython",
    "version": 3
   },
   "file_extension": ".py",
   "mimetype": "text/x-python",
   "name": "python",
   "nbconvert_exporter": "python",
   "pygments_lexer": "ipython3",
   "version": "3.10.13"
  }
 },
 "nbformat": 4,
 "nbformat_minor": 5
}
