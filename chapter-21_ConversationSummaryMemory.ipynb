{
 "cells": [
  {
   "cell_type": "code",
   "execution_count": 1,
   "id": "initial_id",
   "metadata": {
    "collapsed": true,
    "ExecuteTime": {
     "end_time": "2024-01-28T02:08:33.583653800Z",
     "start_time": "2024-01-28T02:08:32.738071200Z"
    }
   },
   "outputs": [],
   "source": [
    "from dotenv import load_dotenv, find_dotenv\n",
    "\n",
    "# read local .env file\n",
    "# find_dotenv 函数通常用于搜索和定位目录树中的 .env 文件，而 load_dotenv 函数用于将 .env 文件中的变量加载到环境中。\n",
    "_ = load_dotenv(find_dotenv())\n",
    "from langchain_openai import ChatOpenAI\n",
    "\n",
    "llm = ChatOpenAI(model_name=\"gpt-3.5-turbo\", temperature=0.3)"
   ]
  },
  {
   "cell_type": "code",
   "execution_count": 2,
   "outputs": [],
   "source": [
    "\"\"\"\n",
    "现在让我们来看一下使用稍微复杂的记忆类型 - 对话摘要记忆。这种记忆类型可以创建关于对话的摘要，有助于从对话中概括信息。\n",
    "\"\"\"\n",
    "from langchain.memory import ConversationSummaryMemory\n",
    "memory = ConversationSummaryMemory(llm=llm)\n",
    "memory.save_context({\"input\": \"hi\"}, {\"ouput\": \"whats up\"})\n",
    " "
   ],
   "metadata": {
    "collapsed": false,
    "ExecuteTime": {
     "end_time": "2024-01-28T02:09:12.314767300Z",
     "start_time": "2024-01-28T02:09:09.722136500Z"
    }
   },
   "id": "a9b5207ca84c6fed"
  },
  {
   "cell_type": "code",
   "execution_count": 3,
   "outputs": [
    {
     "data": {
      "text/plain": "{'history': 'The human greets the AI and asks how it is doing. The AI responds by asking what is going on.'}"
     },
     "execution_count": 3,
     "metadata": {},
     "output_type": "execute_result"
    }
   ],
   "source": [
    "memory.load_memory_variables({})\n"
   ],
   "metadata": {
    "collapsed": false,
    "ExecuteTime": {
     "end_time": "2024-01-28T02:09:12.330961200Z",
     "start_time": "2024-01-28T02:09:12.315771400Z"
    }
   },
   "id": "d705608e747ada58"
  },
  {
   "cell_type": "code",
   "execution_count": null,
   "outputs": [],
   "source": [
    "\"\"\" output\n",
    "{'history': 'The human greets the AI and asks how it is doing. The AI responds by asking what is going on.'}\n",
    "\"\"\""
   ],
   "metadata": {
    "collapsed": false
   },
   "id": "ee85db8dd2669b2b"
  },
  {
   "cell_type": "code",
   "execution_count": 4,
   "outputs": [],
   "source": [
    "\"\"\"\n",
    "我们还可以将历史记录作为消息列表获取（如果您正在与聊天模型一起使用，则此功能非常有用)。\n",
    "\"\"\"\n",
    "memory = ConversationSummaryMemory(llm=llm, return_messages=True)\n",
    "memory.save_context({\"input\": \"hi\"}, {\"ouput\": \"whats up\"})\n",
    " "
   ],
   "metadata": {
    "collapsed": false,
    "ExecuteTime": {
     "end_time": "2024-01-28T02:20:13.548862200Z",
     "start_time": "2024-01-28T02:20:11.889168200Z"
    }
   },
   "id": "b0a0ed4ffb5801d7"
  },
  {
   "cell_type": "code",
   "execution_count": 5,
   "outputs": [
    {
     "data": {
      "text/plain": "{'history': [SystemMessage(content='The human greets the AI with a simple \"hi\" and the AI responds by asking what\\'s up.')]}"
     },
     "execution_count": 5,
     "metadata": {},
     "output_type": "execute_result"
    }
   ],
   "source": [
    "memory.load_memory_variables({})\n",
    " "
   ],
   "metadata": {
    "collapsed": false,
    "ExecuteTime": {
     "end_time": "2024-01-28T02:20:14.048221200Z",
     "start_time": "2024-01-28T02:20:14.016154100Z"
    }
   },
   "id": "c3bcbce588fb2f88"
  },
  {
   "cell_type": "code",
   "execution_count": null,
   "outputs": [],
   "source": [
    "\"\"\" output\n",
    "{'history': [SystemMessage(content='The human greets the AI with a simple \"hi\" and the AI responds by asking what\\'s up.')]}\n",
    "\"\"\""
   ],
   "metadata": {
    "collapsed": false
   },
   "id": "ae08d000a1f4898f"
  },
  {
   "cell_type": "code",
   "execution_count": 6,
   "outputs": [
    {
     "data": {
      "text/plain": "'The human greets the AI with \"hi\" and the AI responds by asking \"what\\'s up.\"'"
     },
     "execution_count": 6,
     "metadata": {},
     "output_type": "execute_result"
    }
   ],
   "source": [
    "\"\"\"\n",
    "我们还可以直接使用predict_new_summary方法。\n",
    "\"\"\"\n",
    "messages = memory.chat_memory.messages\n",
    "previous_summary = \"\"\n",
    "memory.predict_new_summary(messages, previous_summary)\n",
    " "
   ],
   "metadata": {
    "collapsed": false,
    "ExecuteTime": {
     "end_time": "2024-01-28T02:21:06.190651Z",
     "start_time": "2024-01-28T02:21:04.606129400Z"
    }
   },
   "id": "797d314640d4c10c"
  },
  {
   "cell_type": "code",
   "execution_count": 7,
   "outputs": [
    {
     "name": "stdout",
     "output_type": "stream",
     "text": [
      "\n",
      "\n",
      "\u001B[1m> Entering new ConversationChain chain...\u001B[0m\n",
      "Prompt after formatting:\n",
      "\u001B[32;1m\u001B[1;3mThe following is a friendly conversation between a human and an AI. The AI is talkative and provides lots of specific details from its context. If the AI does not know the answer to a question, it truthfully says it does not know.\n",
      "\n",
      "Current conversation:\n",
      "\n",
      "Human: Hi, what's up?\n",
      "AI:\u001B[0m\n",
      "\n",
      "\u001B[1m> Finished chain.\u001B[0m\n"
     ]
    },
    {
     "data": {
      "text/plain": "\"Hello! I'm an AI designed to assist with various tasks and provide information. Right now, I'm here to chat with you. How can I help you today?\""
     },
     "execution_count": 7,
     "metadata": {},
     "output_type": "execute_result"
    }
   ],
   "source": [
    "\"\"\"\n",
    "在链式操作中使用\n",
    "\"\"\"\n",
    "from langchain.chains import ConversationChain\n",
    "conversation_with_summary = ConversationChain(\n",
    "    llm=llm, \n",
    "    memory=ConversationSummaryMemory(llm=llm),\n",
    "    verbose=True\n",
    ")\n",
    "conversation_with_summary.predict(input=\"Hi, what's up?\")\n",
    " "
   ],
   "metadata": {
    "collapsed": false,
    "ExecuteTime": {
     "end_time": "2024-01-28T02:24:34.605625200Z",
     "start_time": "2024-01-28T02:24:30.012714300Z"
    }
   },
   "id": "d7b83cf8590e2fab"
  },
  {
   "cell_type": "code",
   "execution_count": null,
   "outputs": [],
   "source": [
    "\"\"\" output\n",
    "\"Hello! I'm an AI designed to assist with various tasks and provide information. Right now, I'm here to chat with you. How can I help you today?\"\n",
    "\"\"\""
   ],
   "metadata": {
    "collapsed": false
   },
   "id": "9272494bb6633fa0"
  },
  {
   "cell_type": "code",
   "execution_count": 8,
   "outputs": [
    {
     "name": "stdout",
     "output_type": "stream",
     "text": [
      "\n",
      "\n",
      "\u001B[1m> Entering new ConversationChain chain...\u001B[0m\n",
      "Prompt after formatting:\n",
      "\u001B[32;1m\u001B[1;3mThe following is a friendly conversation between a human and an AI. The AI is talkative and provides lots of specific details from its context. If the AI does not know the answer to a question, it truthfully says it does not know.\n",
      "\n",
      "Current conversation:\n",
      "The human greets the AI and asks what it is doing. The AI explains that it is an AI designed to assist with tasks and provide information, and it is currently available to chat and help the human with anything they need.\n",
      "Human: Tell me more about it!\n",
      "AI:\u001B[0m\n",
      "\n",
      "\u001B[1m> Finished chain.\u001B[0m\n"
     ]
    },
    {
     "data": {
      "text/plain": "\"Of course! I'm an AI, which stands for Artificial Intelligence. I've been programmed to assist with a wide range of tasks and provide information on various topics. My purpose is to make your life easier by answering questions, offering suggestions, and helping with any tasks you might have. Whether you need help with research, want to have a friendly conversation, or require assistance with a specific task, I'm here to help! Just let me know what you need, and I'll do my best to assist you.\""
     },
     "execution_count": 8,
     "metadata": {},
     "output_type": "execute_result"
    }
   ],
   "source": [
    "conversation_with_summary.predict(input=\"Tell me more about it!\")\n",
    " "
   ],
   "metadata": {
    "collapsed": false,
    "ExecuteTime": {
     "end_time": "2024-01-28T02:25:11.271794100Z",
     "start_time": "2024-01-28T02:24:41.442083600Z"
    }
   },
   "id": "a9e702eace2759e3"
  },
  {
   "cell_type": "code",
   "execution_count": null,
   "outputs": [],
   "source": [
    "\"\"\" output\n",
    "\"Of course! I'm an AI, which stands for Artificial Intelligence. I've been programmed to assist with a wide range of tasks and provide information on various topics. My purpose is to make your life easier by answering questions, offering suggestions, and helping with any tasks you might have. Whether you need help with research, want to have a friendly conversation, or require assistance with a specific task, I'm here to help! Just let me know what you need, and I'll do my best to assist you.\"\n",
    "\"\"\""
   ],
   "metadata": {
    "collapsed": false
   },
   "id": "fd73a80931cb9c4"
  },
  {
   "cell_type": "code",
   "execution_count": 9,
   "outputs": [
    {
     "name": "stdout",
     "output_type": "stream",
     "text": [
      "\n",
      "\n",
      "\u001B[1m> Entering new ConversationChain chain...\u001B[0m\n",
      "Prompt after formatting:\n",
      "\u001B[32;1m\u001B[1;3mThe following is a friendly conversation between a human and an AI. The AI is talkative and provides lots of specific details from its context. If the AI does not know the answer to a question, it truthfully says it does not know.\n",
      "\n",
      "Current conversation:\n",
      "The human greets the AI and asks what it is doing. The AI explains that it is an AI designed to assist with tasks and provide information, and it is currently available to chat and help the human with anything they need. The AI further elaborates that it is an AI, or Artificial Intelligence, programmed to make the human's life easier by answering questions, offering suggestions, and assisting with tasks. It is here to help with research, have friendly conversations, and provide specific task assistance.\n",
      "Human: Very cool -- what is the scope of the project?\n",
      "AI:\u001B[0m\n",
      "\n",
      "\u001B[1m> Finished chain.\u001B[0m\n"
     ]
    },
    {
     "data": {
      "text/plain": "'Thank you! The scope of this project is quite broad. As an AI, I am designed to assist with a wide range of tasks and provide information on various topics. I can help with research, answer questions, offer suggestions, and even assist with specific tasks such as scheduling appointments or setting reminders. My goal is to make your life easier and provide you with the information and assistance you need. Is there anything specific you would like help with?'"
     },
     "execution_count": 9,
     "metadata": {},
     "output_type": "execute_result"
    }
   ],
   "source": [
    "conversation_with_summary.predict(input=\"Very cool -- what is the scope of the project?\")\n",
    " "
   ],
   "metadata": {
    "collapsed": false,
    "ExecuteTime": {
     "end_time": "2024-01-28T02:25:43.019686800Z",
     "start_time": "2024-01-28T02:25:11.272792500Z"
    }
   },
   "id": "25608d7454c51395"
  },
  {
   "cell_type": "code",
   "execution_count": null,
   "outputs": [],
   "source": [
    "\"\"\" output\n",
    "'Thank you! The scope of this project is quite broad. As an AI, I am designed to assist with a wide range of tasks and provide information on various topics. I can help with research, answer questions, offer suggestions, and even assist with specific tasks such as scheduling appointments or setting reminders. My goal is to make your life easier and provide you with the information and assistance you need. Is there anything specific you would like help with?'\n",
    "\"\"\""
   ],
   "metadata": {
    "collapsed": false
   },
   "id": "abfaff5b97f91931"
  }
 ],
 "metadata": {
  "kernelspec": {
   "display_name": "Python 3",
   "language": "python",
   "name": "python3"
  },
  "language_info": {
   "codemirror_mode": {
    "name": "ipython",
    "version": 2
   },
   "file_extension": ".py",
   "mimetype": "text/x-python",
   "name": "python",
   "nbconvert_exporter": "python",
   "pygments_lexer": "ipython2",
   "version": "2.7.6"
  }
 },
 "nbformat": 4,
 "nbformat_minor": 5
}
