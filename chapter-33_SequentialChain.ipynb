{
 "cells": [
  {
   "cell_type": "code",
   "execution_count": 1,
   "id": "initial_id",
   "metadata": {
    "collapsed": true,
    "ExecuteTime": {
     "end_time": "2024-01-28T12:56:22.488783200Z",
     "start_time": "2024-01-28T12:56:21.617297500Z"
    }
   },
   "outputs": [],
   "source": [
    "from dotenv import load_dotenv, find_dotenv\n",
    "from langchain_openai import ChatOpenAI\n",
    "\n",
    "# read local .env file\n",
    "# find_dotenv 函数通常用于搜索和定位目录树中的 .env 文件，而 load_dotenv 函数用于将 .env 文件中的变量加载到环境中。\n",
    "_ = load_dotenv(find_dotenv())\n",
    "\n",
    "llm = ChatOpenAI(model_name=\"gpt-3.5-turbo\", temperature=0.3)\n",
    "# embeddings = OpenAIEmbeddings()"
   ]
  },
  {
   "cell_type": "code",
   "execution_count": 2,
   "outputs": [],
   "source": [
    "from langchain.chains import LLMChain\n",
    "from langchain_core.prompts import PromptTemplate\n",
    "\n",
    "\"\"\"\n",
    "调用语言模型之后的下一步是对语言模型进行一系列调用。我们可以使用序列链来实现这一点，序列链是按照预定义的顺序执行链接的链。\n",
    "具体来说，我们将使用 SimpleSequentialChain。这是最简单的顺序链类型，其中每个步骤都有一个输入/输出，一个步骤的输出是下一个步骤的输入。\n",
    "\n",
    "在本教程中，我们的顺序链将:\n",
    "\n",
    "首先，为产品创建一个公司名称。我们将重用之前初始化的 LLMChain 来创建这个公司名称。\n",
    "\n",
    "然后，为产品创建一个口号。我们将初始化一个新的 LLMChain 来创建这个口号，如下所示。\n",
    "\"\"\"\n",
    "from langchain.prompts.chat import (\n",
    "    ChatPromptTemplate,\n",
    "    HumanMessagePromptTemplate,\n",
    ")\n",
    "\n",
    "human_message_prompt = HumanMessagePromptTemplate(\n",
    "    prompt=PromptTemplate(\n",
    "        template=\"What is a good name for a company that makes {product}?\",\n",
    "        input_variables=[\"product\"],\n",
    "    )\n",
    ")\n",
    "chat_prompt_template = ChatPromptTemplate.from_messages([human_message_prompt])\n",
    "chain = LLMChain(llm=llm, prompt=chat_prompt_template)\n",
    "\n",
    "second_prompt = PromptTemplate(\n",
    "    input_variables=[\"company_name\"],\n",
    "    template=\"Write a catchphrase for the following company: {company_name}\",\n",
    ")\n",
    "chain_two = LLMChain(llm=llm, prompt=second_prompt)\n"
   ],
   "metadata": {
    "collapsed": false,
    "ExecuteTime": {
     "end_time": "2024-01-28T12:58:41.269661300Z",
     "start_time": "2024-01-28T12:58:40.530411500Z"
    }
   },
   "id": "45acd2ec7ee604b9"
  },
  {
   "cell_type": "code",
   "execution_count": 4,
   "outputs": [
    {
     "name": "stdout",
     "output_type": "stream",
     "text": [
      "\n",
      "\n",
      "\u001B[1m> Entering new SimpleSequentialChain chain...\u001B[0m\n",
      "\u001B[36;1m\u001B[1;3mVibrantSocks\u001B[0m\n",
      "\u001B[33;1m\u001B[1;3m\"Step up your style game with VibrantSocks - Where every step is a statement!\"\u001B[0m\n",
      "\n",
      "\u001B[1m> Finished chain.\u001B[0m\n",
      "{'input': 'colorful socks', 'output': '\"Step up your style game with VibrantSocks - Where every step is a statement!\"'}\n"
     ]
    }
   ],
   "source": [
    "from langchain.chains import SimpleSequentialChain\n",
    "\n",
    "overall_chain = SimpleSequentialChain(chains=[chain, chain_two], verbose=True)\n",
    "\n",
    "# Run the chain specifying only the input variable for the first chain.\n",
    "catchphrase = overall_chain.invoke(\"colorful socks\")\n",
    "print(catchphrase)\n"
   ],
   "metadata": {
    "collapsed": false,
    "ExecuteTime": {
     "end_time": "2024-01-28T12:59:33.929157300Z",
     "start_time": "2024-01-28T12:59:10.596687500Z"
    }
   },
   "id": "4fab4aad7e2399e7"
  },
  {
   "cell_type": "code",
   "execution_count": null,
   "outputs": [],
   "source": [
    "\"\"\" output\n",
    "\n",
    "\n",
    "\u001B[1m> Entering new SimpleSequentialChain chain...\u001B[0m\n",
    "\u001B[36;1m\u001B[1;3mVibrantSocks\u001B[0m\n",
    "\u001B[33;1m\u001B[1;3m\"Step up your style game with VibrantSocks - Where every step is a statement!\"\u001B[0m\n",
    "\n",
    "\u001B[1m> Finished chain.\u001B[0m\n",
    "{'input': 'colorful socks', 'output': '\"Step up your style game with VibrantSocks - Where every step is a statement!\"'}\n",
    "\n",
    "\"\"\""
   ],
   "metadata": {
    "collapsed": false
   },
   "id": "5f0a452374e6899c"
  },
  {
   "cell_type": "code",
   "execution_count": 5,
   "outputs": [],
   "source": [
    "\"\"\"\n",
    "SequentialChain，允许多个输入/输出\n",
    "\"\"\"\n",
    "# This is an LLMChain to write a synopsis given a title of a play and the era it is set in.\n",
    "template = \"\"\"You are a playwright. Given the title of play and the era it is set in, it is your job to write a synopsis for that title.\n",
    " \n",
    "Title: {title}\n",
    "Era: {era}\n",
    "Playwright: This is a synopsis for the above play:\"\"\"\n",
    "prompt_template = PromptTemplate(input_variables=[\"title\", 'era'], template=template)\n",
    "synopsis_chain = LLMChain(llm=llm, prompt=prompt_template, output_key=\"synopsis\")\n"
   ],
   "metadata": {
    "collapsed": false,
    "ExecuteTime": {
     "end_time": "2024-01-28T13:22:02.186177700Z",
     "start_time": "2024-01-28T13:22:02.174807900Z"
    }
   },
   "id": "fabb79283b0c8716"
  },
  {
   "cell_type": "code",
   "execution_count": 6,
   "outputs": [],
   "source": [
    "# This is an LLMChain to write a review of a play given a synopsis.\n",
    "template = \"\"\"You are a play critic from the New York Times. Given the synopsis of play, it is your job to write a review for that play.\n",
    " \n",
    "Play Synopsis:\n",
    "{synopsis}\n",
    "Review from a New York Times play critic of the above play:\"\"\"\n",
    "prompt_template = PromptTemplate(input_variables=[\"synopsis\"], template=template)\n",
    "review_chain = LLMChain(llm=llm, prompt=prompt_template, output_key=\"review\")\n"
   ],
   "metadata": {
    "collapsed": false,
    "ExecuteTime": {
     "end_time": "2024-01-28T13:22:14.693719100Z",
     "start_time": "2024-01-28T13:22:14.680556600Z"
    }
   },
   "id": "10f7305842718f1e"
  },
  {
   "cell_type": "code",
   "execution_count": 7,
   "outputs": [],
   "source": [
    "# This is the overall chain where we run these two chains in sequence.\n",
    "from langchain.chains import SequentialChain\n",
    "\n",
    "overall_chain = SequentialChain(\n",
    "    chains=[synopsis_chain, review_chain],\n",
    "    input_variables=[\"era\", \"title\"],\n",
    "    # Here we return multiple variables\n",
    "    output_variables=[\"synopsis\", \"review\"],\n",
    "    verbose=True)\n",
    " "
   ],
   "metadata": {
    "collapsed": false,
    "ExecuteTime": {
     "end_time": "2024-01-28T13:22:30.366437200Z",
     "start_time": "2024-01-28T13:22:30.347285900Z"
    }
   },
   "id": "92a1476f9cff0235"
  },
  {
   "cell_type": "code",
   "execution_count": 8,
   "outputs": [
    {
     "name": "stdout",
     "output_type": "stream",
     "text": [
      "\n",
      "\n",
      "\u001B[1m> Entering new SequentialChain chain...\u001B[0m\n",
      "\n",
      "\u001B[1m> Finished chain.\u001B[0m\n"
     ]
    },
    {
     "data": {
      "text/plain": "{'title': 'Tragedy at sunset on the beach',\n 'era': 'Victorian England',\n 'synopsis': 'In the grandeur of Victorian England, \"Tragedy at Sunset on the Beach\" unfolds against the backdrop of a picturesque coastal town. The play opens with a vibrant and bustling beach scene, where society\\'s elite gather to enjoy the last rays of the setting sun.\\n\\nAmidst the opulent atmosphere, we meet the wealthy and influential Pemberton family. Lord Pemberton, a respected nobleman, and his elegant wife, Lady Amelia, are hosting a lavish beach party to celebrate their daughter, Victoria\\'s engagement to the charming and ambitious Mr. Edward Sinclair.\\n\\nAs the evening progresses, tensions simmer beneath the surface, revealing the complex dynamics within the Pemberton family. Lady Amelia, burdened by societal expectations, struggles to maintain her composure while concealing a dark secret. Lord Pemberton, haunted by his past, finds solace in the bottom of a glass, oblivious to the turmoil unfolding around him.\\n\\nMeanwhile, Victoria, torn between duty and her own desires, grapples with the weight of her impending marriage. Her heart yearns for a simpler life, away from the constraints of high society, and she finds solace in the company of a mysterious artist who frequents the beach.\\n\\nAs the sun dips below the horizon, tragedy strikes, shattering the illusion of the perfect evening. A shocking revelation threatens to unravel the carefully constructed façade of the Pemberton family, exposing their deepest secrets and hidden desires. The once idyllic beach becomes a stage for betrayal, heartbreak, and ultimately, redemption.\\n\\n\"Tragedy at Sunset on the Beach\" is a gripping tale of love, sacrifice, and the consequences of societal expectations. Set against the backdrop of Victorian England, this play delves into the complexities of human nature, exploring the fragility of relationships and the lengths one will go to protect their reputation. As the sun sets on this tragic tale, the audience is left pondering the true cost of societal conformity and the pursuit of happiness.',\n 'review': '\"Tragedy at Sunset on the Beach\" is a captivating and thought-provoking play that transports audiences to the grandeur of Victorian England. Against the picturesque backdrop of a coastal town, this production skillfully explores the intricate dynamics within the wealthy and influential Pemberton family.\\n\\nFrom the moment the curtain rises, the audience is immersed in a vibrant beach scene, filled with the bustling energy of society\\'s elite. The set design and costumes beautifully capture the opulence of the era, transporting viewers to a time of lavish beach parties and societal expectations.\\n\\nThe strength of this play lies in its ability to delve into the complexities of human nature. Lady Amelia, portrayed with great depth and vulnerability, grapples with the burden of societal expectations while concealing a dark secret. Her performance is a standout, capturing the internal struggle of a woman torn between duty and personal desires.\\n\\nLord Pemberton, haunted by his past, is portrayed with equal nuance. The actor skillfully conveys the character\\'s descent into alcoholism, finding solace in the bottom of a glass while remaining oblivious to the turmoil unfolding around him. The portrayal is both heartbreaking and compelling, showcasing the destructive power of unresolved trauma.\\n\\nThe central conflict of the play revolves around Victoria, the Pemberton\\'s daughter, brilliantly portrayed by a talented young actress. Her struggle between societal expectations and her own desires is palpable, and the audience is drawn into her emotional journey. The chemistry between Victoria and the mysterious artist adds an intriguing layer to the narrative, highlighting the tension between societal conformity and personal fulfillment.\\n\\nThe climax of the play is truly gripping, as a shocking revelation threatens to unravel the carefully constructed façade of the Pemberton family. The tension builds to a crescendo, and the once idyllic beach becomes a stage for betrayal, heartbreak, and ultimately, redemption. The emotional impact of this moment is heightened by the skillful direction and the exceptional performances of the cast.\\n\\n\"Tragedy at Sunset on the Beach\" is a play that lingers in the mind long after the final curtain call. It raises important questions about the true cost of societal conformity and the pursuit of happiness. The themes of love, sacrifice, and the consequences of societal expectations are explored with depth and sensitivity, leaving the audience pondering the complexities of human nature.\\n\\nOverall, \"Tragedy at Sunset on the Beach\" is a must-see production that showcases the talent of its cast and creative team. It is a testament to the power of theater to transport and engage audiences, leaving them with a renewed appreciation for the fragility of relationships and the choices we make in the pursuit of happiness.'}"
     },
     "execution_count": 8,
     "metadata": {},
     "output_type": "execute_result"
    }
   ],
   "source": [
    "overall_chain.invoke({\"title\":\"Tragedy at sunset on the beach\", \"era\": \"Victorian England\"})\n",
    " "
   ],
   "metadata": {
    "collapsed": false,
    "ExecuteTime": {
     "end_time": "2024-01-28T13:23:27.755502200Z",
     "start_time": "2024-01-28T13:22:42.962958900Z"
    }
   },
   "id": "a22a13bb96a691b9"
  },
  {
   "cell_type": "code",
   "execution_count": null,
   "outputs": [],
   "source": [
    "\"\"\" output\n",
    "\n",
    "\n",
    "\u001B[1m> Entering new SequentialChain chain...\u001B[0m\n",
    "\n",
    "\u001B[1m> Finished chain.\u001B[0m\n",
    "\n",
    "{'title': 'Tragedy at sunset on the beach',\n",
    " 'era': 'Victorian England',\n",
    " 'synopsis': 'In the grandeur of Victorian England, \"Tragedy at Sunset on the Beach\" unfolds against the backdrop of a picturesque coastal town. The play opens with a vibrant and bustling beach scene, where society\\'s elite gather to enjoy the last rays of the setting sun.\\n\\nAmidst the opulent atmosphere, we meet the wealthy and influential Pemberton family. Lord Pemberton, a respected nobleman, and his elegant wife, Lady Amelia, are hosting a lavish beach party to celebrate their daughter, Victoria\\'s engagement to the charming and ambitious Mr. Edward Sinclair.\\n\\nAs the evening progresses, tensions simmer beneath the surface, revealing the complex dynamics within the Pemberton family. Lady Amelia, burdened by societal expectations, struggles to maintain her composure while concealing a dark secret. Lord Pemberton, haunted by his past, finds solace in the bottom of a glass, oblivious to the turmoil unfolding around him.\\n\\nMeanwhile, Victoria, torn between duty and her own desires, grapples with the weight of her impending marriage. Her heart yearns for a simpler life, away from the constraints of high society, and she finds solace in the company of a mysterious artist who frequents the beach.\\n\\nAs the sun dips below the horizon, tragedy strikes, shattering the illusion of the perfect evening. A shocking revelation threatens to unravel the carefully constructed façade of the Pemberton family, exposing their deepest secrets and hidden desires. The once idyllic beach becomes a stage for betrayal, heartbreak, and ultimately, redemption.\\n\\n\"Tragedy at Sunset on the Beach\" is a gripping tale of love, sacrifice, and the consequences of societal expectations. Set against the backdrop of Victorian England, this play delves into the complexities of human nature, exploring the fragility of relationships and the lengths one will go to protect their reputation. As the sun sets on this tragic tale, the audience is left pondering the true cost of societal conformity and the pursuit of happiness.',\n",
    " 'review': '\"Tragedy at Sunset on the Beach\" is a captivating and thought-provoking play that transports audiences to the grandeur of Victorian England. Against the picturesque backdrop of a coastal town, this production skillfully explores the intricate dynamics within the wealthy and influential Pemberton family.\\n\\nFrom the moment the curtain rises, the audience is immersed in a vibrant beach scene, filled with the bustling energy of society\\'s elite. The set design and costumes beautifully capture the opulence of the era, transporting viewers to a time of lavish beach parties and societal expectations.\\n\\nThe strength of this play lies in its ability to delve into the complexities of human nature. Lady Amelia, portrayed with great depth and vulnerability, grapples with the burden of societal expectations while concealing a dark secret. Her performance is a standout, capturing the internal struggle of a woman torn between duty and personal desires.\\n\\nLord Pemberton, haunted by his past, is portrayed with equal nuance. The actor skillfully conveys the character\\'s descent into alcoholism, finding solace in the bottom of a glass while remaining oblivious to the turmoil unfolding around him. The portrayal is both heartbreaking and compelling, showcasing the destructive power of unresolved trauma.\\n\\nThe central conflict of the play revolves around Victoria, the Pemberton\\'s daughter, brilliantly portrayed by a talented young actress. Her struggle between societal expectations and her own desires is palpable, and the audience is drawn into her emotional journey. The chemistry between Victoria and the mysterious artist adds an intriguing layer to the narrative, highlighting the tension between societal conformity and personal fulfillment.\\n\\nThe climax of the play is truly gripping, as a shocking revelation threatens to unravel the carefully constructed façade of the Pemberton family. The tension builds to a crescendo, and the once idyllic beach becomes a stage for betrayal, heartbreak, and ultimately, redemption. The emotional impact of this moment is heightened by the skillful direction and the exceptional performances of the cast.\\n\\n\"Tragedy at Sunset on the Beach\" is a play that lingers in the mind long after the final curtain call. It raises important questions about the true cost of societal conformity and the pursuit of happiness. The themes of love, sacrifice, and the consequences of societal expectations are explored with depth and sensitivity, leaving the audience pondering the complexities of human nature.\\n\\nOverall, \"Tragedy at Sunset on the Beach\" is a must-see production that showcases the talent of its cast and creative team. It is a testament to the power of theater to transport and engage audiences, leaving them with a renewed appreciation for the fragility of relationships and the choices we make in the pursuit of happiness.'}\n",
    "\"\"\""
   ],
   "metadata": {
    "collapsed": false
   },
   "id": "a0c0174353b8662b"
  },
  {
   "cell_type": "code",
   "execution_count": 9,
   "outputs": [
    {
     "name": "stderr",
     "output_type": "stream",
     "text": [
      "D:\\anaconda3\\envs\\learn-langchain\\lib\\site-packages\\langchain_core\\_api\\deprecation.py:117: LangChainDeprecationWarning: The function `__call__` was deprecated in LangChain 0.1.0 and will be removed in 0.2.0. Use invoke instead.\n",
      "  warn_deprecated(\n"
     ]
    },
    {
     "name": "stdout",
     "output_type": "stream",
     "text": [
      "\n",
      "\n",
      "\u001B[1m> Entering new SequentialChain chain...\u001B[0m\n",
      "\n",
      "\u001B[1m> Finished chain.\u001B[0m\n"
     ]
    },
    {
     "data": {
      "text/plain": "{'title': 'Tragedy at sunset on the beach',\n 'era': 'Victorian England',\n 'time': 'December 25th, 8pm PST',\n 'location': 'Theater in the Park',\n 'social_post_text': '🌅 Don\\'t miss the gripping Victorian drama, \"Tragedy at Sunset on the Beach,\" on December 25th at 8pm PST at the Theater in the Park! 🎭 Immerse yourself in a world of opulence, secrets, and forbidden desires as the lives of three families unravel against the backdrop of a serene coastal town. \\n\\n🌊 Witness the aristocratic Hastings family, known for their wealth and influence, as they navigate a scandalous affair that threatens to shatter their carefully constructed facade. Lady Amelia Hastings finds solace in the arms of a mysterious stranger, setting off a chain of tragic events that will forever change their lives.\\n\\n🎨 Meanwhile, the humble Fisher family becomes unwittingly embroiled in the chaos, as young Thomas Fisher falls deeply in love with Lady Amelia, unaware of her marital status. Their forbidden love affair tests their loyalty, integrity, and survival.\\n\\n🌟 Transport yourself to a bygone era, where societal expectations and strict social norms govern every aspect of life. Reflect on the timeless themes of love, sacrifice, and the destructive power of secrets. \\n\\n📰 According to The New York Times, \"Tragedy at Sunset on the Beach\" is a must-see Victorian drama that explores the complexities of human nature. The richly developed characters, evocative setting, and thought-provoking exploration of love and morality make this play a standout in the theatrical landscape.\\n\\n🎟️ Get your tickets now and experience the grandeur of Victorian England at the Theater in the Park! Don\\'t miss out on this gripping tale of love, betrayal, and tragedy. Book your seats today! #TragedyatSunset #VictorianDrama #TheaterExperience'}"
     },
     "execution_count": 9,
     "metadata": {},
     "output_type": "execute_result"
    }
   ],
   "source": [
    "\"\"\"\n",
    "顺序链中的记忆\n",
    "有时您可能想传递一些上下文以在链的每个步骤或链的后面部分中使用，但维护和链接输入/输出变量可能会很快变得混乱。使用 SimpleMemory 是一种方便的方式来管理这个问题并清理您的链。\n",
    "\n",
    "举个例子，假设你使用之前介绍过的playwright SequentialChain，你想要在剧本中添加一些关于日期、时间和地点的上下文信息，并且使用生成的简介和评论来创建一些社交媒体发布文本。\n",
    "你可以将这些新的上下文变量添加为input_variables，或者我们可以添加一个SimpleMemory到链中来管理这个上下文：\n",
    "\"\"\"\n",
    "from langchain.chains import SequentialChain\n",
    "from langchain.memory import SimpleMemory\n",
    " \n",
    "template = \"\"\"You are a social media manager for a theater company. Given the title of play, the era it is set in, the date,time and location, the synopsis of the play, and the review of the play, it is your job to write a social media post for that play.\n",
    " \n",
    "Here is some context about the time and location of the play:\n",
    "Date and Time: {time}\n",
    "Location: {location}\n",
    " \n",
    "Play Synopsis:\n",
    "{synopsis}\n",
    "Review from a New York Times play critic of the above play:\n",
    "{review}\n",
    " \n",
    "Social Media Post:\n",
    "\"\"\"\n",
    "prompt_template = PromptTemplate(input_variables=[\"synopsis\", \"review\", \"time\", \"location\"], template=template)\n",
    "social_chain = LLMChain(llm=llm, prompt=prompt_template, output_key=\"social_post_text\")\n",
    " \n",
    "overall_chain = SequentialChain(\n",
    "    memory=SimpleMemory(memories={\"time\": \"December 25th, 8pm PST\", \"location\": \"Theater in the Park\"}),\n",
    "    chains=[synopsis_chain, review_chain, social_chain],\n",
    "    input_variables=[\"era\", \"title\"],\n",
    "    # Here we return multiple variables\n",
    "    output_variables=[\"social_post_text\"],\n",
    "    verbose=True)\n",
    " \n",
    "overall_chain.invoke({\"title\":\"Tragedy at sunset on the beach\", \"era\": \"Victorian England\"})\n",
    " "
   ],
   "metadata": {
    "collapsed": false,
    "ExecuteTime": {
     "end_time": "2024-01-28T13:26:59.246737300Z",
     "start_time": "2024-01-28T13:25:57.574576100Z"
    }
   },
   "id": "792d25555ff2e0f6"
  },
  {
   "cell_type": "code",
   "execution_count": null,
   "outputs": [],
   "source": [
    "\"\"\" output\n",
    "\n",
    "\n",
    "\u001B[1m> Entering new SequentialChain chain...\u001B[0m\n",
    "\n",
    "\u001B[1m> Finished chain.\u001B[0m\n",
    "\n",
    "{'title': 'Tragedy at sunset on the beach',\n",
    " 'era': 'Victorian England',\n",
    " 'time': 'December 25th, 8pm PST',\n",
    " 'location': 'Theater in the Park',\n",
    " 'social_post_text': '🌅 Don\\'t miss the gripping Victorian drama, \"Tragedy at Sunset on the Beach,\" on December 25th at 8pm PST at the Theater in the Park! 🎭 Immerse yourself in a world of opulence, secrets, and forbidden desires as the lives of three families unravel against the backdrop of a serene coastal town. \\n\\n🌊 Witness the aristocratic Hastings family, known for their wealth and influence, as they navigate a scandalous affair that threatens to shatter their carefully constructed facade. Lady Amelia Hastings finds solace in the arms of a mysterious stranger, setting off a chain of tragic events that will forever change their lives.\\n\\n🎨 Meanwhile, the humble Fisher family becomes unwittingly embroiled in the chaos, as young Thomas Fisher falls deeply in love with Lady Amelia, unaware of her marital status. Their forbidden love affair tests their loyalty, integrity, and survival.\\n\\n🌟 Transport yourself to a bygone era, where societal expectations and strict social norms govern every aspect of life. Reflect on the timeless themes of love, sacrifice, and the destructive power of secrets. \\n\\n📰 According to The New York Times, \"Tragedy at Sunset on the Beach\" is a must-see Victorian drama that explores the complexities of human nature. The richly developed characters, evocative setting, and thought-provoking exploration of love and morality make this play a standout in the theatrical landscape.\\n\\n🎟️ Get your tickets now and experience the grandeur of Victorian England at the Theater in the Park! Don\\'t miss out on this gripping tale of love, betrayal, and tragedy. Book your seats today! #TragedyatSunset #VictorianDrama #TheaterExperience'}\n",
    "\"\"\""
   ],
   "metadata": {
    "collapsed": false
   },
   "id": "c8fb82d35cfd4071"
  }
 ],
 "metadata": {
  "kernelspec": {
   "display_name": "Python 3",
   "language": "python",
   "name": "python3"
  },
  "language_info": {
   "codemirror_mode": {
    "name": "ipython",
    "version": 2
   },
   "file_extension": ".py",
   "mimetype": "text/x-python",
   "name": "python",
   "nbconvert_exporter": "python",
   "pygments_lexer": "ipython2",
   "version": "2.7.6"
  }
 },
 "nbformat": 4,
 "nbformat_minor": 5
}
