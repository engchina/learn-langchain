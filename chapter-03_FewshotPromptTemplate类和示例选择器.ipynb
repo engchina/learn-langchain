{
 "cells": [
  {
   "cell_type": "markdown",
   "id": "205b62bd-2e0d-409f-b3fc-ea9efd51e368",
   "metadata": {},
   "source": [
    "# FewshotPromptTemplate类"
   ]
  },
  {
   "cell_type": "code",
   "execution_count": 1,
   "id": "2bf3fa61-f48d-4ae7-b937-7a9135974a37",
   "metadata": {
    "ExecuteTime": {
     "end_time": "2024-01-28T00:41:13.094546300Z",
     "start_time": "2024-01-28T00:41:13.088114900Z"
    }
   },
   "outputs": [],
   "source": [
    "import os\n",
    "\n",
    "from dotenv import load_dotenv, find_dotenv\n",
    "\n",
    "# read local .env file\n",
    "_ = load_dotenv(find_dotenv())"
   ]
  },
  {
   "cell_type": "code",
   "execution_count": 2,
   "id": "10f96282-058e-4052-9765-54c3f4edb4ae",
   "metadata": {
    "ExecuteTime": {
     "end_time": "2024-01-28T00:41:14.401060500Z",
     "start_time": "2024-01-28T00:41:13.776367600Z"
    }
   },
   "outputs": [],
   "source": [
    "from langchain_openai import ChatOpenAI"
   ]
  },
  {
   "cell_type": "code",
   "execution_count": 3,
   "id": "46d3894e-6a7f-470f-b58f-20eda5da2d9d",
   "metadata": {
    "ExecuteTime": {
     "end_time": "2024-01-28T00:41:15.333673700Z",
     "start_time": "2024-01-28T00:41:15.073004300Z"
    }
   },
   "outputs": [],
   "source": [
    "chat_openai = ChatOpenAI(api_key=os.environ['OPENAI_API_KEY'], base_url=os.environ['OPENAI_BASE_URL'],\n",
    "                         model_name=\"gpt-3.5-turbo\", temperature=0.3)"
   ]
  },
  {
   "cell_type": "code",
   "execution_count": 4,
   "outputs": [],
   "source": [
    "examples = [\n",
    "    {\"input\": \"高\", \"output\": \"矮\"},\n",
    "    {\"input\": \"胖\", \"output\": \"瘦\"},\n",
    "    {\"input\": \"精力充沛\", \"output\": \"萎靡不振\"},\n",
    "    {\"input\": \"快乐\", \"output\": \"伤心\"},\n",
    "    {\"input\": \"黑\", \"output\": \"白\"},\n",
    "]"
   ],
   "metadata": {
    "collapsed": false,
    "ExecuteTime": {
     "end_time": "2024-01-28T00:41:17.326874800Z",
     "start_time": "2024-01-28T00:41:17.310026500Z"
    }
   },
   "id": "824d2672cfb365ec"
  },
  {
   "cell_type": "code",
   "execution_count": 5,
   "id": "77e7bdfd-0abd-4aa1-a40c-ae762724a851",
   "metadata": {
    "ExecuteTime": {
     "end_time": "2024-01-28T00:41:18.485033700Z",
     "start_time": "2024-01-28T00:41:18.451941300Z"
    }
   },
   "outputs": [],
   "source": [
    "from langchain_core.prompts import PromptTemplate\n",
    "\n",
    "example_prompt = PromptTemplate(input_variables=[\"input\", \"output\"],\n",
    "                                template=\"\"\"\n",
    "词语: {input} \\n\n",
    "反义词: {output} \\n\n",
    "\"\"\"\n",
    "                                )"
   ]
  },
  {
   "cell_type": "code",
   "execution_count": 6,
   "id": "2a3e95df-f55b-4729-985f-fd2d055a6ce3",
   "metadata": {
    "ExecuteTime": {
     "end_time": "2024-01-28T00:41:19.552168600Z",
     "start_time": "2024-01-28T00:41:19.526364800Z"
    }
   },
   "outputs": [
    {
     "data": {
      "text/plain": "FewShotPromptTemplate(input_variables=['input'], examples=[{'input': '高', 'output': '矮'}, {'input': '胖', 'output': '瘦'}, {'input': '精力充沛', 'output': '萎靡不振'}, {'input': '快乐', 'output': '伤心'}, {'input': '黑', 'output': '白'}], example_prompt=PromptTemplate(input_variables=['input', 'output'], template='\\n词语: {input} \\n\\n反义词: {output} \\n\\n'), suffix='现在轮到你了，词语: {input} \\n反义词:', prefix='来玩个反义词接龙游戏，我说词语，你说它的反义词\\n')"
     },
     "execution_count": 6,
     "metadata": {},
     "output_type": "execute_result"
    }
   ],
   "source": [
    "from langchain_core.prompts import FewShotPromptTemplate\n",
    "\n",
    "few_show_prompt = FewShotPromptTemplate(\n",
    "    examples=examples,\n",
    "    example_prompt=example_prompt,\n",
    "    prefix=\"来玩个反义词接龙游戏，我说词语，你说它的反义词\\n\",\n",
    "    suffix=\"现在轮到你了，词语: {input} \\n反义词:\",\n",
    "    input_variables = [\"input\"],\n",
    ")\n",
    "\n",
    "few_show_prompt"
   ]
  },
  {
   "cell_type": "code",
   "execution_count": 7,
   "outputs": [
    {
     "data": {
      "text/plain": "\" output\\nFewShotPromptTemplate(input_variables=['input'], examples=[{'input': '高', 'output': '矮'}, {'input': '胖', 'output': '瘦'}, {'input': '精力充沛', 'output': '萎靡不振'}, {'input': '快乐', 'output': '伤心'}, {'input': '黑', 'output': '白'}], example_prompt=PromptTemplate(input_variables=['input', 'output'], template='\\n词语: {input} \\n\\n反义词: {output} \\n\\n'), suffix='现在轮到你了，词语: {input} \\n反义词:', prefix='来玩个反义词接龙游戏，我说词语，你说它的反义词\\n')\\n\""
     },
     "execution_count": 7,
     "metadata": {},
     "output_type": "execute_result"
    }
   ],
   "source": [
    "\"\"\" output\n",
    "FewShotPromptTemplate(input_variables=['input'], examples=[{'input': '高', 'output': '矮'}, {'input': '胖', 'output': '瘦'}, {'input': '精力充沛', 'output': '萎靡不振'}, {'input': '快乐', 'output': '伤心'}, {'input': '黑', 'output': '白'}], example_prompt=PromptTemplate(input_variables=['input', 'output'], template='\\n词语: {input} \\n\\n反义词: {output} \\n\\n'), suffix='现在轮到你了，词语: {input} \\n反义词:', prefix='来玩个反义词接龙游戏，我说词语，你说它的反义词\\n')\n",
    "\"\"\""
   ],
   "metadata": {
    "collapsed": false,
    "ExecuteTime": {
     "end_time": "2024-01-28T00:41:49.799898400Z",
     "start_time": "2024-01-28T00:41:49.791900100Z"
    }
   },
   "id": "6d3319947bbf5ed5"
  },
  {
   "cell_type": "code",
   "execution_count": 8,
   "id": "1bfe708e-ebcb-476a-a2dd-b2155ae73d41",
   "metadata": {
    "ExecuteTime": {
     "end_time": "2024-01-28T00:41:52.299958700Z",
     "start_time": "2024-01-28T00:41:51.654533800Z"
    }
   },
   "outputs": [],
   "source": [
    "from langchain.chains import LLMChain\n",
    "chain = LLMChain(llm=chat_openai, prompt=few_show_prompt)"
   ]
  },
  {
   "cell_type": "code",
   "execution_count": 10,
   "outputs": [
    {
     "data": {
      "text/plain": "{'input': '冷', 'text': '热'}"
     },
     "execution_count": 10,
     "metadata": {},
     "output_type": "execute_result"
    }
   ],
   "source": [
    "chain.invoke(\"冷\")"
   ],
   "metadata": {
    "collapsed": false,
    "ExecuteTime": {
     "end_time": "2024-01-28T00:42:01.967825400Z",
     "start_time": "2024-01-28T00:42:00.751400100Z"
    }
   },
   "id": "f00b8beca9c63390"
  },
  {
   "cell_type": "code",
   "execution_count": null,
   "outputs": [],
   "source": [
    "\"\"\" output\n",
    "{'input': '冷', 'text': '热'}\n",
    "\"\"\""
   ],
   "metadata": {
    "collapsed": false
   },
   "id": "b67d20980267ccca"
  },
  {
   "cell_type": "code",
   "execution_count": 11,
   "outputs": [],
   "source": [
    "from langchain.prompts.example_selector import LengthBasedExampleSelector"
   ],
   "metadata": {
    "collapsed": false,
    "ExecuteTime": {
     "end_time": "2024-01-28T00:42:27.584447500Z",
     "start_time": "2024-01-28T00:42:27.564632200Z"
    }
   },
   "id": "cad94b57e3ce7d67"
  },
  {
   "cell_type": "code",
   "execution_count": 12,
   "outputs": [],
   "source": [
    "# import re\n",
    "# def _get_length_based(text: str) -> int:\n",
    "#     print(text)\n",
    "#     result = len(re.split(\"\\n| \", text))\n",
    "#     print(f\"len: {result}\")\n",
    "#     return result"
   ],
   "metadata": {
    "collapsed": false,
    "ExecuteTime": {
     "end_time": "2024-01-28T00:42:30.638713Z",
     "start_time": "2024-01-28T00:42:30.630141800Z"
    }
   },
   "id": "743865426a9994b7"
  },
  {
   "cell_type": "code",
   "execution_count": 13,
   "outputs": [],
   "source": [
    "example_selector = LengthBasedExampleSelector(\n",
    "    examples = examples,\n",
    "    example_prompt = example_prompt,\n",
    "    # Length is measured by the get_text_length function below.\n",
    "    # get_text_length: Callable[[str], int] = lambda x: len(re.split(\"\\n| \", x))\n",
    "    # get_text_length=_get_length_based,\n",
    "    max_length=31,\n",
    ")"
   ],
   "metadata": {
    "collapsed": false,
    "ExecuteTime": {
     "end_time": "2024-01-28T00:42:31.382145400Z",
     "start_time": "2024-01-28T00:42:31.360125100Z"
    }
   },
   "id": "ed3aeb8c604e93dc"
  },
  {
   "cell_type": "code",
   "execution_count": 14,
   "outputs": [
    {
     "data": {
      "text/plain": "'来玩个反义词接龙游戏，我说词语，你说它的反义词\\n\\n\\n\\n词语: 高 \\n\\n反义词: 矮 \\n\\n\\n\\n\\n词语: 胖 \\n\\n反义词: 瘦 \\n\\n\\n\\n\\n词语: 精力充沛 \\n\\n反义词: 萎靡不振 \\n\\n\\n\\n现在轮到你了，词语: 好 \\n反义词:'"
     },
     "execution_count": 14,
     "metadata": {},
     "output_type": "execute_result"
    }
   ],
   "source": [
    "from langchain_core.prompts import FewShotPromptTemplate\n",
    "\n",
    "example_selector_prompt = FewShotPromptTemplate(\n",
    "    example_selector=example_selector,\n",
    "    example_prompt=example_prompt,\n",
    "    prefix=\"来玩个反义词接龙游戏，我说词语，你说它的反义词\\n\",\n",
    "    suffix=\"现在轮到你了，词语: {input} \\n反义词:\",\n",
    "    input_variables = [\"input\"],\n",
    ")\n",
    "\n",
    "example_selector_prompt.format(input=\"好\")"
   ],
   "metadata": {
    "collapsed": false,
    "ExecuteTime": {
     "end_time": "2024-01-28T00:42:36.332165900Z",
     "start_time": "2024-01-28T00:42:36.305406600Z"
    }
   },
   "id": "79fdd863389378fc"
  },
  {
   "cell_type": "code",
   "execution_count": null,
   "outputs": [],
   "source": [
    "\"\"\" output\n",
    "'来玩个反义词接龙游戏，我说词语，你说它的反义词\\n\\n\\n\\n词语: 高 \\n\\n反义词: 矮 \\n\\n\\n\\n\\n词语: 胖 \\n\\n反义词: 瘦 \\n\\n\\n\\n\\n词语: 精力充沛 \\n\\n反义词: 萎靡不振 \\n\\n\\n\\n现在轮到你了，词语: 好 \\n反义词:'\n",
    "\"\"\""
   ],
   "metadata": {
    "collapsed": false
   },
   "id": "98e4ac1b408328a"
  }
 ],
 "metadata": {
  "kernelspec": {
   "display_name": "Python 3 (ipykernel)",
   "language": "python",
   "name": "python3"
  },
  "language_info": {
   "codemirror_mode": {
    "name": "ipython",
    "version": 3
   },
   "file_extension": ".py",
   "mimetype": "text/x-python",
   "name": "python",
   "nbconvert_exporter": "python",
   "pygments_lexer": "ipython3",
   "version": "3.10.13"
  }
 },
 "nbformat": 4,
 "nbformat_minor": 5
}
