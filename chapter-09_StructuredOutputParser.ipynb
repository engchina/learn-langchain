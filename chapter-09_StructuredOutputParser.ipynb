{
 "cells": [
  {
   "cell_type": "code",
   "execution_count": 1,
   "id": "initial_id",
   "metadata": {
    "collapsed": true,
    "ExecuteTime": {
     "end_time": "2024-01-28T00:56:42.687314Z",
     "start_time": "2024-01-28T00:56:41.855094Z"
    }
   },
   "outputs": [],
   "source": [
    "from dotenv import load_dotenv, find_dotenv\n",
    "\n",
    "# read local .env file\n",
    "# find_dotenv 函数通常用于搜索和定位目录树中的 .env 文件，而 load_dotenv 函数用于将 .env 文件中的变量加载到环境中。\n",
    "_ = load_dotenv(find_dotenv())\n",
    "from langchain_openai import ChatOpenAI\n",
    "\n",
    "llm = ChatOpenAI(model_name=\"gpt-3.5-turbo\", temperature=0.3)"
   ]
  },
  {
   "cell_type": "code",
   "execution_count": 2,
   "outputs": [],
   "source": [
    "from langchain.output_parsers import StructuredOutputParser, ResponseSchema\n",
    "from langchain.prompts import PromptTemplate, ChatPromptTemplate, HumanMessagePromptTemplate\n",
    " "
   ],
   "metadata": {
    "collapsed": false,
    "ExecuteTime": {
     "end_time": "2024-01-28T00:56:42.748747800Z",
     "start_time": "2024-01-28T00:56:42.688322800Z"
    }
   },
   "id": "7b1c40f62cb9b6ca"
  },
  {
   "cell_type": "code",
   "execution_count": 3,
   "outputs": [],
   "source": [
    "\"\"\"\n",
    "虽然Pydantic / JSON解析器更加强大，但我们最初尝试的数据结构仅具有文本字段。\n",
    "\"\"\"\n",
    "response_schemas = [\n",
    "    ResponseSchema(name=\"answer\", description=\"answer to the user's question\"),\n",
    "    ResponseSchema(name=\"source\", description=\"source used to answer the user's question, should be a website.\")\n",
    "]\n",
    "output_parser = StructuredOutputParser.from_response_schemas(response_schemas)\n",
    " "
   ],
   "metadata": {
    "collapsed": false,
    "ExecuteTime": {
     "end_time": "2024-01-28T00:56:43.114009300Z",
     "start_time": "2024-01-28T00:56:43.095744200Z"
    }
   },
   "id": "14439f22772809dd"
  },
  {
   "cell_type": "code",
   "execution_count": 4,
   "outputs": [
    {
     "data": {
      "text/plain": "'The output should be a markdown code snippet formatted in the following schema, including the leading and trailing \"```json\" and \"```\":\\n\\n```json\\n{\\n\\t\"answer\": string  // answer to the user\\'s question\\n\\t\"source\": string  // source used to answer the user\\'s question, should be a website.\\n}\\n```'"
     },
     "execution_count": 4,
     "metadata": {},
     "output_type": "execute_result"
    }
   ],
   "source": [
    "format_instructions = output_parser.get_format_instructions()\n",
    "format_instructions\n",
    " "
   ],
   "metadata": {
    "collapsed": false,
    "ExecuteTime": {
     "end_time": "2024-01-28T00:56:43.738610500Z",
     "start_time": "2024-01-28T00:56:43.714571700Z"
    }
   },
   "id": "7f12bc7229555225"
  },
  {
   "cell_type": "code",
   "execution_count": null,
   "outputs": [],
   "source": [
    "\"\"\" output\n",
    "'The output should be a markdown code snippet formatted in the following schema, including the leading and trailing \"```json\" and \"```\":\\n\\n```json\\n{\\n\\t\"answer\": string  // answer to the user\\'s question\\n\\t\"source\": string  // source used to answer the user\\'s question, should be a website.\\n}\\n```'\n",
    "\"\"\""
   ],
   "metadata": {
    "collapsed": false
   },
   "id": "eb8d1b5425ee7398"
  },
  {
   "cell_type": "code",
   "execution_count": 5,
   "outputs": [],
   "source": [
    "\"\"\"\n",
    "我们现在得到了一个字符串，其中包含响应应如何格式化的指令，然后我们将其插入到我们的提示中。\n",
    "\"\"\"\n",
    "prompt = PromptTemplate(\n",
    "    template=\"answer the users question as best as possible.\\n{format_instructions}\\n{question}\",\n",
    "    input_variables=[\"question\"],\n",
    "    partial_variables={\"format_instructions\": format_instructions}\n",
    ")"
   ],
   "metadata": {
    "collapsed": false,
    "ExecuteTime": {
     "end_time": "2024-01-28T00:57:00.531545700Z",
     "start_time": "2024-01-28T00:57:00.521294900Z"
    }
   },
   "id": "d3e5ab82da9d4de0"
  },
  {
   "cell_type": "code",
   "execution_count": 6,
   "outputs": [
    {
     "data": {
      "text/plain": "AIMessage(content='```json\\n{\\n\\t\"answer\": \"The capital of France is Paris.\",\\n\\t\"source\": \"https://en.wikipedia.org/wiki/Paris\"\\n}\\n```')"
     },
     "execution_count": 6,
     "metadata": {},
     "output_type": "execute_result"
    }
   ],
   "source": [
    "_input = prompt.format_prompt(question=\"what's the capital of france\")\n",
    "output = llm.invoke(_input.to_string())\n",
    "output"
   ],
   "metadata": {
    "collapsed": false,
    "ExecuteTime": {
     "end_time": "2024-01-28T00:57:03.247352100Z",
     "start_time": "2024-01-28T00:57:01.132884400Z"
    }
   },
   "id": "1490f643a3c0b95d"
  },
  {
   "cell_type": "code",
   "execution_count": null,
   "outputs": [],
   "source": [
    "\"\"\" output\n",
    "AIMessage(content='```json\\n{\\n\\t\"answer\": \"The capital of France is Paris.\",\\n\\t\"source\": \"https://en.wikipedia.org/wiki/Paris\"\\n}\\n```')\n",
    "\"\"\""
   ],
   "metadata": {
    "collapsed": false
   },
   "id": "6c0f2a6829cbfdf2"
  },
  {
   "cell_type": "code",
   "execution_count": 7,
   "outputs": [
    {
     "data": {
      "text/plain": "{'answer': 'The capital of France is Paris.',\n 'source': 'https://en.wikipedia.org/wiki/Paris'}"
     },
     "execution_count": 7,
     "metadata": {},
     "output_type": "execute_result"
    }
   ],
   "source": [
    "output_parser.parse(output.content)\n",
    " "
   ],
   "metadata": {
    "collapsed": false,
    "ExecuteTime": {
     "end_time": "2024-01-28T00:57:16.275763700Z",
     "start_time": "2024-01-28T00:57:16.267945300Z"
    }
   },
   "id": "a112727d04d4a311"
  },
  {
   "cell_type": "code",
   "execution_count": null,
   "outputs": [],
   "source": [
    "\"\"\" output\n",
    "{'answer': 'The capital of France is Paris.',\n",
    " 'source': 'https://en.wikipedia.org/wiki/Paris'}\n",
    "\"\"\""
   ],
   "metadata": {
    "collapsed": false
   },
   "id": "5e384731907fabf1"
  },
  {
   "cell_type": "code",
   "execution_count": 8,
   "outputs": [],
   "source": [
    "prompt = ChatPromptTemplate(\n",
    "    messages=[\n",
    "        HumanMessagePromptTemplate.from_template(\"answer the users question as best as possible.\\n{format_instructions}\\n{question}\")  \n",
    "    ],\n",
    "    input_variables=[\"question\"],\n",
    "    partial_variables={\"format_instructions\": format_instructions}\n",
    ")\n",
    " "
   ],
   "metadata": {
    "collapsed": false,
    "ExecuteTime": {
     "end_time": "2024-01-28T00:57:27.713135700Z",
     "start_time": "2024-01-28T00:57:27.697135900Z"
    }
   },
   "id": "7b145ba421befa13"
  },
  {
   "cell_type": "code",
   "execution_count": 9,
   "outputs": [
    {
     "data": {
      "text/plain": "AIMessage(content='```json\\n{\\n\\t\"answer\": \"The capital of France is Paris.\",\\n\\t\"source\": \"https://en.wikipedia.org/wiki/Paris\"\\n}\\n```')"
     },
     "execution_count": 9,
     "metadata": {},
     "output_type": "execute_result"
    }
   ],
   "source": [
    "_input = prompt.format_prompt(question=\"what's the capital of france\")\n",
    "output = llm.invoke(_input.to_messages())\n",
    "output"
   ],
   "metadata": {
    "collapsed": false,
    "ExecuteTime": {
     "end_time": "2024-01-28T00:57:30.442104500Z",
     "start_time": "2024-01-28T00:57:28.456317200Z"
    }
   },
   "id": "633777eab0f8cf90"
  },
  {
   "cell_type": "code",
   "execution_count": null,
   "outputs": [],
   "source": [
    "\"\"\" output\n",
    "AIMessage(content='```json\\n{\\n\\t\"answer\": \"The capital of France is Paris.\",\\n\\t\"source\": \"https://en.wikipedia.org/wiki/Paris\"\\n}\\n```')\n",
    "\"\"\""
   ],
   "metadata": {
    "collapsed": false
   },
   "id": "bc3faafe3b114412"
  },
  {
   "cell_type": "code",
   "execution_count": 10,
   "outputs": [
    {
     "data": {
      "text/plain": "{'answer': 'The capital of France is Paris.',\n 'source': 'https://en.wikipedia.org/wiki/Paris'}"
     },
     "execution_count": 10,
     "metadata": {},
     "output_type": "execute_result"
    }
   ],
   "source": [
    "output_parser.parse(output.content)"
   ],
   "metadata": {
    "collapsed": false,
    "ExecuteTime": {
     "end_time": "2024-01-28T00:57:31.421769400Z",
     "start_time": "2024-01-28T00:57:31.398700100Z"
    }
   },
   "id": "ed4ea38d4bee6190"
  },
  {
   "cell_type": "code",
   "execution_count": null,
   "outputs": [],
   "source": [
    "\"\"\" output\n",
    "{'answer': 'The capital of France is Paris.',\n",
    " 'source': 'https://en.wikipedia.org/wiki/Paris'}\n",
    "\"\"\""
   ],
   "metadata": {
    "collapsed": false
   },
   "id": "2f8cde9dc58c19"
  }
 ],
 "metadata": {
  "kernelspec": {
   "display_name": "Python 3",
   "language": "python",
   "name": "python3"
  },
  "language_info": {
   "codemirror_mode": {
    "name": "ipython",
    "version": 2
   },
   "file_extension": ".py",
   "mimetype": "text/x-python",
   "name": "python",
   "nbconvert_exporter": "python",
   "pygments_lexer": "ipython2",
   "version": "2.7.6"
  }
 },
 "nbformat": 4,
 "nbformat_minor": 5
}
