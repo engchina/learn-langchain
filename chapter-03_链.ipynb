{
 "cells": [
  {
   "cell_type": "code",
   "execution_count": 2,
   "id": "initial_id",
   "metadata": {
    "collapsed": true,
    "ExecuteTime": {
     "end_time": "2024-01-28T12:48:45.386096800Z",
     "start_time": "2024-01-28T12:48:45.358786500Z"
    }
   },
   "outputs": [],
   "source": [
    "import os\n",
    "\n",
    "from dotenv import load_dotenv, find_dotenv\n",
    "\n",
    "# read local .env file\n",
    "# find_dotenv 函数通常用于搜索和定位目录树中的 .env 文件，而 load_dotenv 函数用于将 .env 文件中的变量加载到环境中。\n",
    "_ = load_dotenv(find_dotenv())"
   ]
  },
  {
   "cell_type": "code",
   "execution_count": 3,
   "outputs": [],
   "source": [
    "from langchain_openai import ChatOpenAI\n",
    "\n",
    "llm = ChatOpenAI(api_key=os.environ['OPENAI_API_KEY'], base_url=os.environ['OPENAI_BASE_URL'],\n",
    "                 model_name=\"gpt-3.5-turbo\", temperature=0.3)"
   ],
   "metadata": {
    "collapsed": false,
    "ExecuteTime": {
     "end_time": "2024-01-28T12:48:46.511589400Z",
     "start_time": "2024-01-28T12:48:45.836289900Z"
    }
   },
   "id": "c13be089f3b53f49"
  },
  {
   "cell_type": "code",
   "execution_count": 4,
   "outputs": [],
   "source": [
    "prompt_template = \"告诉我一个关于{text}的笑话\""
   ],
   "metadata": {
    "collapsed": false,
    "ExecuteTime": {
     "end_time": "2024-01-28T12:48:49.190268Z",
     "start_time": "2024-01-28T12:48:49.174258400Z"
    }
   },
   "id": "123af659cd5e1292"
  },
  {
   "cell_type": "code",
   "execution_count": 5,
   "outputs": [],
   "source": [
    "from langchain_core.prompts import PromptTemplate\n",
    "from langchain.chains import LLMChain\n",
    "\n",
    "# llm_chain = LLMChain(llm=llm, prompt=PromptTemplate.from_template(prompt_template), verbose=True)\n",
    "llm_chain = LLMChain(llm=llm, prompt=PromptTemplate.from_template(prompt_template))"
   ],
   "metadata": {
    "collapsed": false,
    "ExecuteTime": {
     "end_time": "2024-01-28T12:48:51.210436Z",
     "start_time": "2024-01-28T12:48:50.568510100Z"
    }
   },
   "id": "9632320c408fb2b0"
  },
  {
   "cell_type": "code",
   "execution_count": 7,
   "outputs": [
    {
     "name": "stdout",
     "output_type": "stream",
     "text": [
      "\n",
      "\n",
      "\u001B[1m> Entering new LLMChain chain...\u001B[0m\n",
      "Prompt after formatting:\n",
      "\u001B[32;1m\u001B[1;3m告诉我一个关于龙的笑话\u001B[0m\n",
      "\n",
      "\u001B[1m> Finished chain.\u001B[0m\n"
     ]
    },
    {
     "data": {
      "text/plain": "{'text': '当一只小龙问他的父亲：“爸爸，为什么你的眼睛那么大？”\\n父龙回答说：“因为我是火龙，需要大眼睛来看清楚火焰。”\\n小龙接着问：“那为什么你的鼻子那么长？”\\n父龙笑着说：“因为我是水龙，需要长鼻子来喷水。”\\n小龙再问：“那为什么你的耳朵那么大？”\\n父龙回答说：“因为我是风龙，需要大耳朵来听风声。”\\n小龙思考了一会儿，然后问：“那爸爸，为什么你的胃口那么大？”\\n父龙笑着说：“因为我是爸爸，需要大胃口来吃掉你的坏习惯！”'}"
     },
     "execution_count": 7,
     "metadata": {},
     "output_type": "execute_result"
    }
   ],
   "source": [
    "llm_chain.invoke({\"text\": \"龙\"})"
   ],
   "metadata": {
    "collapsed": false,
    "ExecuteTime": {
     "end_time": "2024-01-28T01:21:48.172970300Z",
     "start_time": "2024-01-28T01:21:38.759267Z"
    }
   },
   "id": "e4ba9f49cf84ee39"
  },
  {
   "cell_type": "code",
   "execution_count": null,
   "outputs": [],
   "source": [
    "\"\"\" output\n",
    "{'text': '好的，这是一个关于龙的笑话：\\n\\n有一天，一只小龙对他的爸爸说：“爸爸，我为什么是龙呢？”\\n爸爸龙回答说：“因为你妈妈是龙，我是龙，所以你也是龙。”\\n小龙再问：“那为什么我妈妈是龙呢？”\\n爸爸龙笑着说：“因为她妈妈是龙，她爸爸也是龙，所以她也是龙。”\\n小龙有点疑惑地问：“那为什么他们是龙呢？”\\n爸爸龙笑着回答：“因为他们的爸爸是龙，他们的妈妈也是龙，所以他们也是龙。”\\n小龙继续追问：“那我们家族的第一只龙是从哪里来的呢？”\\n爸爸龙想了一下，然后开心地说：“我猜我们家族的第一只龙是从一个非常有魅力的蛇那里来的！”'}\n",
    "\"\"\""
   ],
   "metadata": {
    "collapsed": false
   },
   "id": "148971a0c85847c"
  },
  {
   "cell_type": "code",
   "execution_count": 6,
   "outputs": [
    {
     "data": {
      "text/plain": "{'product': 'colorful socks', 'text': 'Colorful Threads'}"
     },
     "execution_count": 6,
     "metadata": {},
     "output_type": "execute_result"
    }
   ],
   "source": [
    "\"\"\"\n",
    "在 LLMChain 中使用聊天模型\n",
    "\"\"\"\n",
    "from langchain.prompts.chat import (\n",
    "    ChatPromptTemplate,\n",
    "    HumanMessagePromptTemplate,\n",
    ")\n",
    "\n",
    "human_message_prompt = HumanMessagePromptTemplate(\n",
    "    prompt=PromptTemplate(\n",
    "        template=\"What is a good name for a company that makes {product}?\",\n",
    "        input_variables=[\"product\"],\n",
    "    )\n",
    ")\n",
    "chat_prompt_template = ChatPromptTemplate.from_messages([human_message_prompt])\n",
    "chain = LLMChain(llm=llm, prompt=chat_prompt_template)\n",
    "chain.invoke(\"colorful socks\")\n",
    " "
   ],
   "metadata": {
    "collapsed": false,
    "ExecuteTime": {
     "end_time": "2024-01-28T12:48:56.132498100Z",
     "start_time": "2024-01-28T12:48:54.764955500Z"
    }
   },
   "id": "9eb21703849daca7"
  },
  {
   "cell_type": "code",
   "execution_count": null,
   "outputs": [],
   "source": [
    "\"\"\" output\n",
    "{'product': 'colorful socks', 'text': 'Colorful Threads'}\n",
    "\"\"\""
   ],
   "metadata": {
    "collapsed": false
   },
   "id": "919b04813f86f702"
  },
  {
   "cell_type": "code",
   "execution_count": 12,
   "outputs": [
    {
     "data": {
      "text/plain": "'ColorfulSock Co.'"
     },
     "execution_count": 12,
     "metadata": {},
     "output_type": "execute_result"
    }
   ],
   "source": [
    "chain.invoke(\"colorful socks\")[\"text\"]"
   ],
   "metadata": {
    "collapsed": false,
    "ExecuteTime": {
     "end_time": "2024-01-28T12:51:35.373538300Z",
     "start_time": "2024-01-28T12:51:34.005106600Z"
    }
   },
   "id": "47285e285024a512"
  },
  {
   "cell_type": "code",
   "execution_count": null,
   "outputs": [],
   "source": [
    "\"\"\" output\n",
    "'ColorfulSock Co.'\n",
    "\"\"\""
   ],
   "metadata": {
    "collapsed": false
   },
   "id": "23287b23ef700df8"
  },
  {
   "cell_type": "code",
   "execution_count": 13,
   "outputs": [
    {
     "name": "stdout",
     "output_type": "stream",
     "text": [
      "\n",
      "\n",
      "\u001B[1m> Entering new LLMChain chain...\u001B[0m\n",
      "Prompt after formatting:\n",
      "\u001B[32;1m\u001B[1;3mHuman: What is a good name for a company that makes colorful socks?\u001B[0m\n",
      "\n",
      "\u001B[1m> Finished chain.\u001B[0m\n"
     ]
    },
    {
     "data": {
      "text/plain": "{'product': 'colorful socks', 'text': 'Colorful Steps'}"
     },
     "execution_count": 13,
     "metadata": {},
     "output_type": "execute_result"
    }
   ],
   "source": [
    "\"\"\"\n",
    "verbose=True，将在 Chain 对象运行时打印出它的一些内部状态。\n",
    "\"\"\"\n",
    "chain = LLMChain(llm=llm, prompt=chat_prompt_template, verbose=True)\n",
    "chain.invoke(\"colorful socks\")"
   ],
   "metadata": {
    "collapsed": false,
    "ExecuteTime": {
     "end_time": "2024-01-28T12:54:59.848956800Z",
     "start_time": "2024-01-28T12:54:58.892092600Z"
    }
   },
   "id": "1fb3f43a99032044"
  },
  {
   "cell_type": "code",
   "execution_count": null,
   "outputs": [],
   "source": [
    "\"\"\" output\n",
    "\n",
    "\n",
    "\u001B[1m> Entering new LLMChain chain...\u001B[0m\n",
    "Prompt after formatting:\n",
    "\u001B[32;1m\u001B[1;3mHuman: What is a good name for a company that makes colorful socks?\u001B[0m\n",
    "\n",
    "\u001B[1m> Finished chain.\u001B[0m\n",
    "\n",
    "{'product': 'colorful socks', 'text': 'Colorful Steps'}\n",
    "\"\"\""
   ],
   "metadata": {
    "collapsed": false
   },
   "id": "f8f80d0e87498533"
  },
  {
   "cell_type": "code",
   "execution_count": 14,
   "outputs": [
    {
     "data": {
      "text/plain": "'The colors in a rainbow are:\\n\\n1. Red\\n2. Orange\\n3. Yellow\\n4. Green\\n5. Blue\\n6. Indigo\\n7. Violet'"
     },
     "execution_count": 14,
     "metadata": {},
     "output_type": "execute_result"
    }
   ],
   "source": [
    "\"\"\"\n",
    "解析输出\n",
    "\"\"\"\n",
    "from langchain.output_parsers import CommaSeparatedListOutputParser\n",
    " \n",
    "output_parser = CommaSeparatedListOutputParser()\n",
    "template = \"\"\"List all the colors in a rainbow\"\"\"\n",
    "prompt = PromptTemplate(template=template, input_variables=[], output_parser=output_parser)\n",
    "llm_chain = LLMChain(prompt=prompt, llm=llm)\n",
    "\n",
    "# predict输入键是关键字参数\n",
    "llm_chain.predict()\n",
    " "
   ],
   "metadata": {
    "collapsed": false,
    "ExecuteTime": {
     "end_time": "2024-01-28T13:17:55.883518900Z",
     "start_time": "2024-01-28T13:17:53.232692700Z"
    }
   },
   "id": "8769713c9622a49b"
  },
  {
   "cell_type": "code",
   "execution_count": 16,
   "outputs": [
    {
     "data": {
      "text/plain": "'Why did the duck go to therapy?\\n\\nBecause it felt down in the bills.'"
     },
     "execution_count": 16,
     "metadata": {},
     "output_type": "execute_result"
    }
   ],
   "source": [
    "\"\"\"\n",
    "从字符串初始化\n",
    "您还可以直接从字符串模板构建LLMChain。\n",
    "\"\"\"\n",
    "template = \"\"\"Tell me a {adjective} joke about {subject}.\"\"\"\n",
    "llm_chain = LLMChain.from_string(llm=llm, template=template)\n",
    "llm_chain.predict(adjective=\"sad\", subject=\"ducks\")\n"
   ],
   "metadata": {
    "collapsed": false,
    "ExecuteTime": {
     "end_time": "2024-01-28T13:19:40.039806300Z",
     "start_time": "2024-01-28T13:19:38.457790800Z"
    }
   },
   "id": "d87c292596eb4f14"
  },
  {
   "cell_type": "code",
   "execution_count": null,
   "outputs": [],
   "source": [
    "\"\"\" output\n",
    "'Why did the duck go to therapy?\\n\\nBecause it felt down in the bills.'\n",
    "\"\"\""
   ],
   "metadata": {
    "collapsed": false
   },
   "id": "1bef73e13e2c1db5"
  }
 ],
 "metadata": {
  "kernelspec": {
   "display_name": "Python 3",
   "language": "python",
   "name": "python3"
  },
  "language_info": {
   "codemirror_mode": {
    "name": "ipython",
    "version": 2
   },
   "file_extension": ".py",
   "mimetype": "text/x-python",
   "name": "python",
   "nbconvert_exporter": "python",
   "pygments_lexer": "ipython2",
   "version": "2.7.6"
  }
 },
 "nbformat": 4,
 "nbformat_minor": 5
}
