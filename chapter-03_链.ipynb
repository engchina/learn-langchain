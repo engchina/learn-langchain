{
 "cells": [
  {
   "cell_type": "code",
   "execution_count": 1,
   "id": "initial_id",
   "metadata": {
    "collapsed": true,
    "ExecuteTime": {
     "end_time": "2024-01-28T01:20:47.485156900Z",
     "start_time": "2024-01-28T01:20:47.466277600Z"
    }
   },
   "outputs": [],
   "source": [
    "import os\n",
    "\n",
    "from dotenv import load_dotenv, find_dotenv\n",
    "\n",
    "# read local .env file\n",
    "# find_dotenv 函数通常用于搜索和定位目录树中的 .env 文件，而 load_dotenv 函数用于将 .env 文件中的变量加载到环境中。\n",
    "_ = load_dotenv(find_dotenv())"
   ]
  },
  {
   "cell_type": "code",
   "execution_count": 2,
   "outputs": [],
   "source": [
    "from langchain_openai import ChatOpenAI\n",
    "\n",
    "llm = ChatOpenAI(api_key=os.environ['OPENAI_API_KEY'], base_url=os.environ['OPENAI_BASE_URL'],\n",
    "                 model_name=\"gpt-3.5-turbo\", temperature=0.3)"
   ],
   "metadata": {
    "collapsed": false,
    "ExecuteTime": {
     "end_time": "2024-01-28T01:20:48.826437800Z",
     "start_time": "2024-01-28T01:20:47.967952200Z"
    }
   },
   "id": "c13be089f3b53f49"
  },
  {
   "cell_type": "code",
   "execution_count": 3,
   "outputs": [],
   "source": [
    "prompt_template = \"告诉我一个关于{text}的笑话\""
   ],
   "metadata": {
    "collapsed": false,
    "ExecuteTime": {
     "end_time": "2024-01-28T01:20:49.361171400Z",
     "start_time": "2024-01-28T01:20:49.355171Z"
    }
   },
   "id": "123af659cd5e1292"
  },
  {
   "cell_type": "code",
   "execution_count": 6,
   "outputs": [],
   "source": [
    "from langchain_core.prompts import PromptTemplate\n",
    "from langchain.chains import LLMChain\n",
    "\n",
    "# llm_chain = LLMChain(llm=llm, prompt=PromptTemplate.from_template(prompt_template), verbose=True)\n",
    "llm_chain = LLMChain(llm=llm, prompt=PromptTemplate.from_template(prompt_template))"
   ],
   "metadata": {
    "collapsed": false,
    "ExecuteTime": {
     "end_time": "2024-01-28T01:21:38.292445400Z",
     "start_time": "2024-01-28T01:21:38.278971400Z"
    }
   },
   "id": "9632320c408fb2b0"
  },
  {
   "cell_type": "code",
   "execution_count": 7,
   "outputs": [
    {
     "name": "stdout",
     "output_type": "stream",
     "text": [
      "\n",
      "\n",
      "\u001B[1m> Entering new LLMChain chain...\u001B[0m\n",
      "Prompt after formatting:\n",
      "\u001B[32;1m\u001B[1;3m告诉我一个关于龙的笑话\u001B[0m\n",
      "\n",
      "\u001B[1m> Finished chain.\u001B[0m\n"
     ]
    },
    {
     "data": {
      "text/plain": "{'text': '当一只小龙问他的父亲：“爸爸，为什么你的眼睛那么大？”\\n父龙回答说：“因为我是火龙，需要大眼睛来看清楚火焰。”\\n小龙接着问：“那为什么你的鼻子那么长？”\\n父龙笑着说：“因为我是水龙，需要长鼻子来喷水。”\\n小龙再问：“那为什么你的耳朵那么大？”\\n父龙回答说：“因为我是风龙，需要大耳朵来听风声。”\\n小龙思考了一会儿，然后问：“那爸爸，为什么你的胃口那么大？”\\n父龙笑着说：“因为我是爸爸，需要大胃口来吃掉你的坏习惯！”'}"
     },
     "execution_count": 7,
     "metadata": {},
     "output_type": "execute_result"
    }
   ],
   "source": [
    "llm_chain.invoke({\"text\": \"龙\"})"
   ],
   "metadata": {
    "collapsed": false,
    "ExecuteTime": {
     "end_time": "2024-01-28T01:21:48.172970300Z",
     "start_time": "2024-01-28T01:21:38.759267Z"
    }
   },
   "id": "e4ba9f49cf84ee39"
  },
  {
   "cell_type": "code",
   "execution_count": null,
   "outputs": [],
   "source": [
    "\"\"\" output\n",
    "{'text': '好的，这是一个关于龙的笑话：\\n\\n有一天，一只小龙对他的爸爸说：“爸爸，我为什么是龙呢？”\\n爸爸龙回答说：“因为你妈妈是龙，我是龙，所以你也是龙。”\\n小龙再问：“那为什么我妈妈是龙呢？”\\n爸爸龙笑着说：“因为她妈妈是龙，她爸爸也是龙，所以她也是龙。”\\n小龙有点疑惑地问：“那为什么他们是龙呢？”\\n爸爸龙笑着回答：“因为他们的爸爸是龙，他们的妈妈也是龙，所以他们也是龙。”\\n小龙继续追问：“那我们家族的第一只龙是从哪里来的呢？”\\n爸爸龙想了一下，然后开心地说：“我猜我们家族的第一只龙是从一个非常有魅力的蛇那里来的！”'}\n",
    "\"\"\""
   ],
   "metadata": {
    "collapsed": false
   },
   "id": "148971a0c85847c"
  }
 ],
 "metadata": {
  "kernelspec": {
   "display_name": "Python 3",
   "language": "python",
   "name": "python3"
  },
  "language_info": {
   "codemirror_mode": {
    "name": "ipython",
    "version": 2
   },
   "file_extension": ".py",
   "mimetype": "text/x-python",
   "name": "python",
   "nbconvert_exporter": "python",
   "pygments_lexer": "ipython2",
   "version": "2.7.6"
  }
 },
 "nbformat": 4,
 "nbformat_minor": 5
}
